{
 "cells": [
  {
   "cell_type": "code",
   "execution_count": null,
   "metadata": {},
   "outputs": [],
   "source": [
    "#import nltk\n",
    "#nltk.download()"
   ]
  },
  {
   "cell_type": "markdown",
   "metadata": {},
   "source": [
    "<h1>Working with text!</h1>\n"
   ]
  },
  {
   "cell_type": "markdown",
   "metadata": {},
   "source": [
    "<h2>Sentiment Analysis</h2>\n",
    "Identify entities and emotions in a sentence and use these to determine if the entity is being viewed positively or negatively"
   ]
  },
  {
   "cell_type": "markdown",
   "metadata": {},
   "source": [
    "<h3>Easy examples</h3>\n",
    "<li>I had an <b style=\"color:green\">excellent</b> souffle at the restaurant Cavity Maker</li>\n",
    "<li>Excellent is a positive word for both the souffle as well as for the restaurant</li>"
   ]
  },
  {
   "cell_type": "markdown",
   "metadata": {},
   "source": [
    "<h3>Not so easy examples</h3>\n",
    "<h4>Often, looking at words alone is not enough to figure out the sentiment</h4>\n",
    "<li><i>The Girl on the Train is an <span style=\"color:green\">excellent</span> book for a ‘stuck at home’ snow day</i></li> This one is easy since it includes an explicit positive opinion using a positive word\n",
    "<li><i>The Girl on the Train is an <span style=\"color:green\">excellent</span> book for using as a liner for your cat’s litter box</i></li> Not so simple! The positive word \"excellent\" is used with a negative connotation. \n",
    "<li><i>The Girl on the Train is <span style=\"color:green\">better</span> than Gone Girl</i></li> The positive word is used as a comparator. Whether the writer likes The Girl on the Train or not depends on what he or she thinks of Gone Girl"
   ]
  },
  {
   "cell_type": "markdown",
   "metadata": {},
   "source": [
    "<h4>Bottom line</h4>\n",
    "Sentiment analysis is generally a starting point in analyzing a text and is then coupled with other techniques (e.g., topic analysis)"
   ]
  },
  {
   "cell_type": "markdown",
   "metadata": {},
   "source": [
    "<h2>Sentiment analysis is usually done using a corpus of positive and negative words</h2>\n",
    "<li>Some sources compile lists of positive and negative words\n",
    "<li>Others include the polarity - the degree of positivity or negativity - of each word"
   ]
  },
  {
   "cell_type": "markdown",
   "metadata": {},
   "source": [
    "<h2>Sources of sentiment coded words</h2>\n",
    "<ol>\n",
    "<li>Hu and Liu's sentiment analysis lexicon: words coded as either positive or negative</li>\n",
    "<ul>\n",
    "<li>http://ptrckprry.com/course/ssd/data/positive-words.txt\n",
    "<li>http://ptrckprry.com/course/ssd/data/negative-words.txt\n",
    "</ul>\n",
    "<li>NRC Emotion Lexicon: words coded into emotional categories (many languages)</li>\n",
    "<ul>\n",
    "<li>http://saifmohammad.com/WebPages/NRC-Emotion-Lexicon.htm</li>\n",
    "</ul>\n",
    "<li>SentiWordNet: Lists of words weighted by positive or negative sentiment. Includes guidance on how to use the words</li>\n",
    "<ul>\n",
    "<li>http://sentiwordnet.isti.cnr.it/</li>\n",
    "</ul>\n",
    "<li>Vadar Sentiment tool: 7800 words with positive or negative polarity</li>\n",
    "<ul>\n",
    "<li>Included with python nltk</li>\n",
    "</ul>\n",
    "</ol>"
   ]
  },
  {
   "cell_type": "markdown",
   "metadata": {},
   "source": [
    "<h2>Our examples</h2>\n",
    "<li>Compiled set of 15 reviews each of four neighborhood restaurants\n",
    "<li>Presidential inaugural addresses (from Washington to Trump)\n",
    "<li>Some data from yelp (very limited!)"
   ]
  },
  {
   "cell_type": "markdown",
   "metadata": {},
   "source": [
    "<h3>Simple sentiment analysis</h3>\n",
    "Compute the proportion of positive and negative words in a text"
   ]
  },
  {
   "cell_type": "code",
   "execution_count": 1,
   "metadata": {},
   "outputs": [],
   "source": [
    "def get_words(url):\n",
    "    import requests\n",
    "    words = requests.get(url).content.decode('latin-1')\n",
    "    word_list = words.split('\\n')\n",
    "    index = 0\n",
    "    while index < len(word_list):\n",
    "        word = word_list[index]\n",
    "        if ';' in word or not word:\n",
    "            word_list.pop(index)\n",
    "        else:\n",
    "            index+=1\n",
    "    return word_list\n",
    "\n",
    "#Get lists of positive and negative words\n",
    "p_url = 'http://ptrckprry.com/course/ssd/data/positive-words.txt'\n",
    "n_url = 'http://ptrckprry.com/course/ssd/data/negative-words.txt'\n",
    "positive_words = get_words(p_url)\n",
    "negative_words = get_words(n_url)"
   ]
  },
  {
   "cell_type": "code",
   "execution_count": 3,
   "metadata": {},
   "outputs": [
    {
     "data": {
      "text/plain": [
       "2006"
      ]
     },
     "execution_count": 3,
     "metadata": {},
     "output_type": "execute_result"
    }
   ],
   "source": [
    "len(positive_words)"
   ]
  },
  {
   "cell_type": "markdown",
   "metadata": {},
   "source": [
    "<h4>Read the text being analyzed and count the proportion of positive and negative words in the text</h4>\n"
   ]
  },
  {
   "cell_type": "code",
   "execution_count": 4,
   "metadata": {},
   "outputs": [],
   "source": [
    "with open('data/community.txt','r') as f:\n",
    "    community = f.read()\n",
    "with open('data/le_monde.txt','r') as f:\n",
    "    le_monde = f.read()\n"
   ]
  },
  {
   "cell_type": "code",
   "execution_count": 5,
   "metadata": {},
   "outputs": [
    {
     "data": {
      "text/plain": [
       "'I ate here Monday night for a working dinner with a coworker. I immediately saw its reason for name, beyond the owner\\'s fandom of the show of the same name: the tablet setup are nearly all communal long tables. There\\'re rather few non-shared tables which is fine as not only is NYC filled with such setup but there\\'s a liveliness in the Columbia area vibe which prefers this setup. There\\'s a shortage of such nice sit-down restaurants in the Columbia area so this place is not only capitalizing on its presence but doing so with great style and flare.\\n\\nI ordered the beef burger which was very juicy, perfectly lean, well sauced, cooked as desired (medium-well, for those who wonder), and paired with a dill pickle, a handmade cole slaw that lacked mayo (which is good as mayo\\'s pure trans-fat), and a spindle of fries. My coworker got the salmon sandwich, same review applies.\\n\\nAwesome bar alongside, but we didn\\'t patronize it. Vast amounts of seating and an open kitchen where tons of food is prepared live makes for a fun environ.\\n\\nI accidentally left my headphones, called to ask if it was found, and fetched them the day later. The staff were so helpful, kind, and soft-spoken about recovering and returning it that I\\'m duly humbled. Thanks, all!\\nThe food here is quite good, and I have no complaints in that area. The reason for only two stars is the cost of that food--OMG are they overpriced. My wife and I went here for breakfast. We each ordered blueberry pancakes and a cup of coffee--no fresh fruit, no juice, no bacon. The pancakes were $13 and the coffee was $4, so the initial bill was $34. The tax was $3, and I left a tip of $6--resulting in a final total of $43 for a breakfast of flapjacks and coffee. Now I know this is NY and costs here are higher--but $43!  Ugh!  There are a lot of nice places in the city where you can get a very good breakfast for 1/3rd to 1/2 less than Community. I recommend you seek them out.\\nService is great - our water was also filled, our coffee was replenished at appropriate times. The attention to the details of the flavors in the food is impeccable. The accompanying sauces and jams were so memorable and delicious! \\n\\nInitially, we went for brunch in the early afternoon, but ended up staying for appetizers and split a bottle of wine.  The staff did not make us feel guilty at all, but welcomed us to stay until their dinner hour started. During the whole time, not one waiter came over to encourage us to pay our bill and leave. Instead, they filled our coffees and water. Speaking of coffee - their black drip coffee from a roaster in Brooklyn is delicious! Down to the last drop - it was smooth, nutty, and not bitter even cold. \\n\\nDetails of the food, including the presentation of each dish. The biscuit sandwich was healthy-ish as they utilized whole wheat flour. The sausage was not fatty at all and the meat patty - although a little smaller when compared to the biscuit (meat:bread ratio) was small, it went was so tasty with the tomato jam, as well as the perfectly cooked eggs!  The raspberry preserve was so fresh! Not overly sweet and definitely enjoyed the seeds within the preserve.  The 7 grain waffle with the fresh berries, butterscotch sauce (maple glaze?) with FRESH whipped cream was THE BEST dish there.  There was a raspberry sauce beautifully spread on the plate that added a nice tartness to the whole bite. Pancakes were fluffy and they used real, non-frozen blueberries which I loved!  The sauce that came with it was definitely different than the waffle glaze, so it was so tasty to discover the flavors within the glaze. \\n\\nCommunity is definitely one of my favorite, non-boozy brunch spots in the UWS/Morningside! Will go back!\\nCommunity is a brunch place next to Columbia. I came here one day to meet up with my cousin who studies at Columbia. Seated around 10 mins on a cozy Sat morning, not too bad. The interior was normal, nothing fancy, but we enjoyed window seats and a tiny desk instead of the long family style tables at the center of the restaurant which gives limited privacy. I really like the hanging lights from the ceiling which is quite cute. The ground leveled glass windows allow you to see the views outside- it is a nice change from the busy pedestrians and giant high rise buildings view of the typical New York street cues in Midtown. Morningside feels more like a college town with older residential building and quieter streets. \\nDespite the 3.5 stars I was pleasantly surprised at the food here. I thought it was delicious! Much better than my experience at Stephanie\\'s at Newbury in Boston or even many of the brunch places I\\'ve been in LA. \\nWe ordered the morning specials : 7 grains waffle and truffle egg dish. \\n-7 grains waffle: had vanilla cream, raspberry, cherry, and toasted nuts. Tasted slightly more chewy than the usual waffle with flour, and on top there was marinated peach slices and cream. I really like how it wasn\\'t hard and overly sweet- especially how the toasted nuts added a level of crunchiness to the heaviness of the cream. \\n\\n- The truffle egg dish: had sausage, potatoes, some leafy greens, sautÃ©ed mushrooms, and poached egg on top. To be honest I  could not tasted the truffle at all, besides the garlic and the pepper and the salt; however with this mix it can hardly go wrong. It was flavorful and not overly salty. \\n\\nThe only thing I guess I can \"complain\" is that the dishes were small. \\nBill came up to be around 50, which isn\\'t exactly cheap considering how small the portions are- but justifiable still due to the taste.\\nOverpriced, oversized, oversweet... Oh wait, this is America.\\n\\nThe pancakes with banana and walnut were okay. They could have done without the maple butter and walnuts and would have been better with maple syrup. I\\'d rather have paid half price for half the portion.\\n\\nBottomless coffee was standard.\\n\\nThe waitress serving our table was polite and courteous considering how many customers she was dealing with. \\n\\nHaving seen the title of this place, I did expect somewhere a little cosier, trendier, more rustic and more inviting. The interior was a little canteenish and there were only a couple of juices on the menu. I wouldn\\'t go back at these prices and with these crowds.\\n\"I have a degree from Columbia, and now I have to get one from America.\" - Jeff Winger, Community.\\n\\nI came here with my friend who also is a huge fan of the show \"Community\", which used to be aired on NBC then got cancelled and then re-birthed on Yahoo! Screen. That\\'s right, Yahoo! Screen. \\n\\nSigh, oh how I miss the golden age of that glorious, glorious show.\\n\\nMy friend, however, is actually pursuing a REAL degree from Columbia University--not Colombia the country, unlike our hateable yet lovable ex-lawyer who attended Greendale Community College.\\n\\nShe chose this place because of the name--I mean come on, can\\'t get more fitting than that--and because of its proximity to Columbia\\'s campus. Community Food & Juice is literally a few blocks away, so it\\'s perfect for students.\\n\\nOn a nice New York morning, we had brunch and got to talk about everything from racist experiences to the TV show we can\\'t quite get over. \\n\\nThe food? My chocolate pancakes were pretty darn good and pretty darn rich. I don\\'t know what I was expecting. In fact, the \"syrup\"--not even sure what it is (apple?) was kind of overkill because the pancakes and chocolate were far sweet enough.\\n\\nI also got a shiso mojito which sounds fancy--and it better be for the $11 I paid for it. Flor de Cana aged white rum, fresh lime juice, shiso-mint simple syrup, yuzu splash, muddled mint, and crushed ice made up the drink that Jeff Winger would have called a \"kid\\'s drink\".\\n\\nIt was pretty strong but the shiso-mint did come through, so it was worth it (I\\'m rationalizing the price right now).\\n\\nAll in all, a pleasant experience with nice service and nice company. It\\'s not every day I get to go to New York, take some subways to meet a friend, eat some good food, get a tour of a top university, and walk away with my wallet much lighter.\\n\\nOn that note,\\n\\n\"It said market price.  What market are you shopping at!?!?!\" - Troy Barnes\\n\\nMan I love that show.\\nWe stopped in for lunch. We had ordered three things the beet salad, the rice bowl and the veggie burger. The place was packed. Even though it was packed service was very good. The beat salad and rice bowl were delicious. Although we thought the veggie burger could\\'ve used another flavor component.\\nSolid breakfast place in Morningside Heights.\\nI came here with a friend - we were seated promptly and service was attentive. The decor was beautiful and the lighting was warm - a great place for a brunch date. \\n\\nI ordered the Country Breakfast and the eggs were delicious and fluffy, the biscuit was moist and flavorful, the carrot hash browns were warm and comforting, and the ham was sweet and juicy. \\n\\nPricing was around $15 per person, which was reasonable for the quality and amount of food, especially considering it\\'s New York. The restaurant is within walking distance of Columbia, and I would recommend for a nice brunch in the area!\\nNice experience there.\\nMy friend n me went there early to enjoy pancake with fresh juice n on site coffee.\\nThanks to the kind service as well,i will remember this restaurant as a Columbian.\\nThis place is really good for breakfast and has great pancakes, sausages, eggs. Although you really have to spring ti get in, since there are very big lines to eat.\\n'"
      ]
     },
     "execution_count": 5,
     "metadata": {},
     "output_type": "execute_result"
    }
   ],
   "source": [
    "community"
   ]
  },
  {
   "cell_type": "markdown",
   "metadata": {},
   "source": [
    "<h4>Compute sentiment by looking at the proportion of positive and negative words in the text</h4>"
   ]
  },
  {
   "cell_type": "code",
   "execution_count": 5,
   "metadata": {},
   "outputs": [
    {
     "name": "stdout",
     "output_type": "stream",
     "text": [
      "community 5.09%\t 1.12%\t 3.97%\n",
      "le monde  5.33%\t 1.49%\t 3.85%\n"
     ]
    }
   ],
   "source": [
    "from nltk import word_tokenize\n",
    "cpos = cneg = lpos = lneg = 0\n",
    "for word in word_tokenize(community):\n",
    "    if word in positive_words:\n",
    "        cpos+=1\n",
    "    if word in negative_words:\n",
    "        cneg+=1\n",
    "for word in word_tokenize(le_monde):\n",
    "    if word in positive_words:\n",
    "        lpos+=1\n",
    "    if word in negative_words:\n",
    "        lneg+=1\n",
    "print(\"community {0:1.2f}%\\t {1:1.2f}%\\t {2:1.2f}%\".format(cpos/len(word_tokenize(community))*100,\n",
    "                                                        cneg/len(word_tokenize(community))*100,\n",
    "                                                        (cpos-cneg)/len(word_tokenize(community))*100))\n",
    "print(\"le monde  {0:1.2f}%\\t {1:1.2f}%\\t {2:1.2f}%\".format(lpos/len(word_tokenize(le_monde))*100,\n",
    "                                                        lneg/len(word_tokenize(le_monde))*100,\n",
    "                                                        (lpos-lneg)/len(word_tokenize(le_monde))*100))\n"
   ]
  },
  {
   "cell_type": "markdown",
   "metadata": {},
   "source": [
    "<h2>Simple sentiment analysis using NRC data</h2>\n",
    "<li>NRC data codifies words with emotions</li>\n",
    "<li>14,182 words are coded into 2 sentiments and 8 emotions</li>\n"
   ]
  },
  {
   "cell_type": "markdown",
   "metadata": {},
   "source": [
    "<h4>For example, the word abandonment is associated with anger, fear, sadness and has a negative sentiment</h4>\n",
    "<li>abandoned\tanger\t1\n",
    "<li>abandoned\tanticipation\t0\n",
    "<li>abandoned\tdisgust\t0\n",
    "<li>abandoned\tfear\t1\n",
    "<li>abandoned\tjoy\t0\n",
    "<li>abandoned\tnegative\t1\n",
    "<li>abandoned\tpositive\t0\n",
    "<li>abandoned\tsadness\t1\n",
    "<li>abandoned\tsurprise\t0\n",
    "<li>abandoned\ttrust\t0"
   ]
  },
  {
   "cell_type": "markdown",
   "metadata": {},
   "source": [
    "<h4>Read the NRC sentiment data</h4>"
   ]
  },
  {
   "cell_type": "code",
   "execution_count": 6,
   "metadata": {},
   "outputs": [],
   "source": [
    "nrc = \"data/NRC-emotion-lexicon-wordlevel-alphabetized-v0.92.txt\"\n",
    "count=0\n",
    "emotion_dict=dict()\n",
    "with open(nrc,'r') as f:\n",
    "    all_lines = list()\n",
    "    for line in f:\n",
    "        if count < 46:\n",
    "            count+=1\n",
    "            continue\n",
    "        line = line.strip().split('\\t')\n",
    "        if int(line[2]) == 1:\n",
    "            if emotion_dict.get(line[0]):\n",
    "                emotion_dict[line[0]].append(line[1])\n",
    "            else:\n",
    "                emotion_dict[line[0]] = [line[1]]\n",
    "        "
   ]
  },
  {
   "cell_type": "code",
   "execution_count": 7,
   "metadata": {},
   "outputs": [
    {
     "data": {
      "text/plain": [
       "6468"
      ]
     },
     "execution_count": 7,
     "metadata": {},
     "output_type": "execute_result"
    }
   ],
   "source": [
    "len(emotion_dict)"
   ]
  },
  {
   "cell_type": "markdown",
   "metadata": {},
   "source": [
    "<h4>Functionalize this</h4>"
   ]
  },
  {
   "cell_type": "code",
   "execution_count": 8,
   "metadata": {},
   "outputs": [],
   "source": [
    "def get_nrc_data():\n",
    "    nrc = \"data/NRC-emotion-lexicon-wordlevel-alphabetized-v0.92.txt\"\n",
    "    count=0\n",
    "    emotion_dict=dict()\n",
    "    with open(nrc,'r') as f:\n",
    "        all_lines = list()\n",
    "        for line in f:\n",
    "            if count < 46:\n",
    "                count+=1\n",
    "                continue\n",
    "            line = line.strip().split('\\t')\n",
    "            if int(line[2]) == 1:\n",
    "                if emotion_dict.get(line[0]):\n",
    "                    emotion_dict[line[0]].append(line[1])\n",
    "                else:\n",
    "                    emotion_dict[line[0]] = [line[1]]\n",
    "    return emotion_dict"
   ]
  },
  {
   "cell_type": "code",
   "execution_count": 9,
   "metadata": {},
   "outputs": [
    {
     "data": {
      "text/plain": [
       "['anger', 'fear', 'negative', 'sadness']"
      ]
     },
     "execution_count": 9,
     "metadata": {},
     "output_type": "execute_result"
    }
   ],
   "source": [
    "emotion_dict = get_nrc_data()\n",
    "emotion_dict['abandoned']"
   ]
  },
  {
   "cell_type": "markdown",
   "metadata": {},
   "source": [
    "<h2>Analyzing yelp reviews</h2>\n",
    "<h4>Caveat: We're only looking at one review snippet for each restaurant</h4>"
   ]
  },
  {
   "cell_type": "code",
   "execution_count": 10,
   "metadata": {},
   "outputs": [],
   "source": [
    "all_snippets = [('shaking-crab-new-york-4',\n",
    "  'Shaking Crab',\n",
    "  'This was an experience! Eating crab/lobster/ shrimp etc with hands! Bibs... gloves.. the works, loved every second. If you want to experience your food...'),\n",
    " ('dig-inn-new-york-14',\n",
    "  'Dig Inn',\n",
    "  \"This is a delicious and healthy meal. It's hard to get takeout with such healthy and quality ingredients. A friend introduced me to this place the other...\"),\n",
    " ('community-food-and-juice-new-york',\n",
    "  'Community Food & Juice',\n",
    "  \"Mention that you're going to Community as a Barnard student and people will assume the following about you: \\n\\n(a) you have money to blow on a frittata that...\"),\n",
    " ('le-monde-new-york-3',\n",
    "  'Le Monde',\n",
    "  'The gist: a perfectly average restaurant with decent food and service \\n\\nThe ambiance: The restaurant has a nice outdoor seating area and the inside is cool...'),\n",
    " ('junzi-kitchen-new-york',\n",
    "  'Junzi Kitchen',\n",
    "  \"Junzi Kitchen is a winner in my book! Think chipotle but with noodles or chun bing in place of burrito bowls and burritos- it's fast, healthy, customizable,...\"),\n",
    " ('mill-korean-new-york',\n",
    "  'Mill Korean',\n",
    "  'Two of us stopped by for lunch. We were seated in a tight nook even though I had a large instrument on my back, and the rest of the place was largely empty....'),\n",
    " ('symposium-greek-restaurant-new-york',\n",
    "  'Symposium Greek Restaurant',\n",
    "  'As a parent visiting my girl at Barnard, there has been a surprising lack of interesting places to eat in the area.  I have really driven around, asked and...'),\n",
    " ('traditional-chinese-food-new-york-2',\n",
    "  'Traditional Chinese Food',\n",
    "  'The Chinese food they sell in these trucks is really authentic! They offer wide variety of Chinese dishes: tomato&egg over rice (my personal favorite),...'),\n",
    " ('sweetgreen-new-york-6',\n",
    "  'sweetgreen',\n",
    "  \"Sweetgreen is SO good.\\n\\nThey are a little slow as many other Yelper's have mentioned, but I usually go when I'm not in a rush and when it's not lunch time....\"),\n",
    " ('antojitos-mexicano-el-taco-taco-new-york',\n",
    "  'Antojitos Mexicano El Taco Taco',\n",
    "  'Terrific tacos!  I had the Carnitas and the al Pastor. Very flavorful with juicy meat. Tacos come with two tortillas so 2 tacos became 4. Good thing given...')]"
   ]
  },
  {
   "cell_type": "markdown",
   "metadata": {},
   "source": [
    "<h2>A function that analyzes emotions</h2>"
   ]
  },
  {
   "cell_type": "code",
   "execution_count": 11,
   "metadata": {},
   "outputs": [],
   "source": [
    "def emotion_analyzer(text,emotion_dict=emotion_dict):\n",
    "    #Set up the result dictionary\n",
    "    emotions = {x for y in emotion_dict.values() for x in y}\n",
    "    emotion_count = dict()\n",
    "    for emotion in emotions:\n",
    "        emotion_count[emotion] = 0\n",
    "\n",
    "    #Analyze the text and normalize by total number of words\n",
    "    total_words = len(text.split())\n",
    "    for word in text.split():\n",
    "        if emotion_dict.get(word):\n",
    "            for emotion in emotion_dict.get(word):\n",
    "                emotion_count[emotion] += 1/len(text.split())\n",
    "    return emotion_count"
   ]
  },
  {
   "cell_type": "markdown",
   "metadata": {},
   "source": [
    "<h4>Now we can analyze the emotional content of the review snippets</h4>"
   ]
  },
  {
   "cell_type": "code",
   "execution_count": 12,
   "metadata": {},
   "outputs": [
    {
     "name": "stdout",
     "output_type": "stream",
     "text": [
      "restaurant   fear\ttrust negative positive joy   disgust anticip sadness surprise\n",
      "Shaking Cr   0.00\t0.00\t0.00\t0.00\t0.00\t0.00\t0.00\t0.00\t0.00\n",
      "Dig Inn      0.00\t0.04\t0.00\t0.15\t0.07\t0.00\t0.00\t0.00\t0.00\n",
      "Community    0.00\t0.04\t0.00\t0.04\t0.04\t0.00\t0.04\t0.00\t0.04\n",
      "Le Monde     0.00\t0.04\t0.00\t0.08\t0.04\t0.00\t0.00\t0.00\t0.00\n",
      "Junzi Kitc   0.00\t0.00\t0.00\t0.04\t0.04\t0.00\t0.04\t0.00\t0.04\n",
      "Mill Korea   0.00\t0.00\t0.00\t0.03\t0.00\t0.00\t0.00\t0.00\t0.00\n",
      "Symposium    0.00\t0.00\t0.03\t0.07\t0.00\t0.00\t0.00\t0.00\t0.03\n",
      "Traditiona   0.00\t0.08\t0.00\t0.08\t0.04\t0.00\t0.00\t0.00\t0.00\n",
      "sweetgreen   0.00\t0.00\t0.00\t0.00\t0.00\t0.00\t0.00\t0.00\t0.00\n",
      "Antojitos    0.00\t0.00\t0.00\t0.00\t0.00\t0.00\t0.00\t0.00\t0.00\n"
     ]
    }
   ],
   "source": [
    "print(\"%-12s %1s\\t%1s %1s %1s %1s   %1s %1s %1s %1s\"%(\n",
    "        \"restaurant\",\"fear\",\"trust\",\"negative\",\"positive\",\"joy\",\"disgust\",\"anticip\",\n",
    "        \"sadness\",\"surprise\"))\n",
    "        \n",
    "for snippet in all_snippets:\n",
    "    text = snippet[2]\n",
    "    result = emotion_analyzer(text)\n",
    "    print(\"%-12s %1.2f\\t%1.2f\\t%1.2f\\t%1.2f\\t%1.2f\\t%1.2f\\t%1.2f\\t%1.2f\\t%1.2f\"%(\n",
    "        snippet[1][0:10],result['fear'],result['trust'],\n",
    "          result['negative'],result['positive'],result['joy'],result['disgust'],\n",
    "          result['anticipation'],result['sadness'],result['surprise']))\n"
   ]
  },
  {
   "cell_type": "markdown",
   "metadata": {},
   "source": [
    "<h4>Let's functionalize this</h4>"
   ]
  },
  {
   "cell_type": "code",
   "execution_count": 13,
   "metadata": {},
   "outputs": [
    {
     "name": "stdout",
     "output_type": "stream",
     "text": [
      "restaurant           fear\ttrust negative positive joy   disgust anticip sadness surprise\n",
      "Shaking Crab         0.00\t0.00\t0.00\t0.00\t0.00\t0.00\t0.00\t0.00\t0.00\n",
      "Dig Inn              0.00\t0.04\t0.00\t0.15\t0.07\t0.00\t0.00\t0.00\t0.00\n",
      "Community Food & Jui 0.00\t0.04\t0.00\t0.04\t0.04\t0.00\t0.04\t0.00\t0.04\n",
      "Le Monde             0.00\t0.04\t0.00\t0.08\t0.04\t0.00\t0.00\t0.00\t0.00\n",
      "Junzi Kitchen        0.00\t0.00\t0.00\t0.04\t0.04\t0.00\t0.04\t0.00\t0.04\n",
      "Mill Korean          0.00\t0.00\t0.00\t0.03\t0.00\t0.00\t0.00\t0.00\t0.00\n",
      "Symposium Greek Rest 0.00\t0.00\t0.03\t0.07\t0.00\t0.00\t0.00\t0.00\t0.03\n",
      "Traditional Chinese  0.00\t0.08\t0.00\t0.08\t0.04\t0.00\t0.00\t0.00\t0.00\n",
      "sweetgreen           0.00\t0.00\t0.00\t0.00\t0.00\t0.00\t0.00\t0.00\t0.00\n",
      "Antojitos Mexicano E 0.00\t0.00\t0.00\t0.00\t0.00\t0.00\t0.00\t0.00\t0.00\n"
     ]
    }
   ],
   "source": [
    "def comparative_emotion_analyzer(text_tuples):\n",
    "    print(\"%-20s %1s\\t%1s %1s %1s %1s   %1s %1s %1s %1s\"%(\n",
    "            \"restaurant\",\"fear\",\"trust\",\"negative\",\"positive\",\"joy\",\"disgust\",\"anticip\",\n",
    "            \"sadness\",\"surprise\"))\n",
    "        \n",
    "    for text_tuple in text_tuples:\n",
    "        text = text_tuple[2] \n",
    "        result = emotion_analyzer(text)\n",
    "        print(\"%-20s %1.2f\\t%1.2f\\t%1.2f\\t%1.2f\\t%1.2f\\t%1.2f\\t%1.2f\\t%1.2f\\t%1.2f\"%(\n",
    "            text_tuple[1][0:20],result['fear'],result['trust'],\n",
    "              result['negative'],result['positive'],result['joy'],result['disgust'],\n",
    "              result['anticipation'],result['sadness'],result['surprise']))\n",
    "        \n",
    "#And test it        \n",
    "comparative_emotion_analyzer(all_snippets)"
   ]
  },
  {
   "cell_type": "markdown",
   "metadata": {},
   "source": [
    "<h2>Simple analysis: Word Clouds</h2>"
   ]
  },
  {
   "cell_type": "markdown",
   "metadata": {},
   "source": [
    "<h4>Let's see what sort of words the snippets use</h4>\n",
    "<li>First we'll combine all snippets into one string\n",
    "<li>Then we'll generate a word cloud using the words in the string\n",
    "<li>You may need to install wordcloud using pip\n",
    "<li>pip install wordcloud"
   ]
  },
  {
   "cell_type": "code",
   "execution_count": 13,
   "metadata": {},
   "outputs": [
    {
     "data": {
      "text/plain": [
       "[('shaking-crab-new-york-4',\n",
       "  'Shaking Crab',\n",
       "  'This was an experience! Eating crab/lobster/ shrimp etc with hands! Bibs... gloves.. the works, loved every second. If you want to experience your food...'),\n",
       " ('dig-inn-new-york-14',\n",
       "  'Dig Inn',\n",
       "  \"This is a delicious and healthy meal. It's hard to get takeout with such healthy and quality ingredients. A friend introduced me to this place the other...\"),\n",
       " ('community-food-and-juice-new-york',\n",
       "  'Community Food & Juice',\n",
       "  \"Mention that you're going to Community as a Barnard student and people will assume the following about you: \\n\\n(a) you have money to blow on a frittata that...\"),\n",
       " ('le-monde-new-york-3',\n",
       "  'Le Monde',\n",
       "  'The gist: a perfectly average restaurant with decent food and service \\n\\nThe ambiance: The restaurant has a nice outdoor seating area and the inside is cool...'),\n",
       " ('junzi-kitchen-new-york',\n",
       "  'Junzi Kitchen',\n",
       "  \"Junzi Kitchen is a winner in my book! Think chipotle but with noodles or chun bing in place of burrito bowls and burritos- it's fast, healthy, customizable,...\"),\n",
       " ('mill-korean-new-york',\n",
       "  'Mill Korean',\n",
       "  'Two of us stopped by for lunch. We were seated in a tight nook even though I had a large instrument on my back, and the rest of the place was largely empty....'),\n",
       " ('symposium-greek-restaurant-new-york',\n",
       "  'Symposium Greek Restaurant',\n",
       "  'As a parent visiting my girl at Barnard, there has been a surprising lack of interesting places to eat in the area.  I have really driven around, asked and...'),\n",
       " ('traditional-chinese-food-new-york-2',\n",
       "  'Traditional Chinese Food',\n",
       "  'The Chinese food they sell in these trucks is really authentic! They offer wide variety of Chinese dishes: tomato&egg over rice (my personal favorite),...'),\n",
       " ('sweetgreen-new-york-6',\n",
       "  'sweetgreen',\n",
       "  \"Sweetgreen is SO good.\\n\\nThey are a little slow as many other Yelper's have mentioned, but I usually go when I'm not in a rush and when it's not lunch time....\"),\n",
       " ('antojitos-mexicano-el-taco-taco-new-york',\n",
       "  'Antojitos Mexicano El Taco Taco',\n",
       "  'Terrific tacos!  I had the Carnitas and the al Pastor. Very flavorful with juicy meat. Tacos come with two tortillas so 2 tacos became 4. Good thing given...')]"
      ]
     },
     "execution_count": 13,
     "metadata": {},
     "output_type": "execute_result"
    }
   ],
   "source": [
    "all_snippets"
   ]
  },
  {
   "cell_type": "code",
   "execution_count": 14,
   "metadata": {},
   "outputs": [
    {
     "data": {
      "text/plain": [
       "\"This was an experience! Eating crab/lobster/ shrimp etc with hands! Bibs... gloves.. the works, loved every second. If you want to experience your food...This is a delicious and healthy meal. It's hard to get takeout with such healthy and quality ingredients. A friend introduced me to this place the other...Mention that you're going to Community as a Barnard student and people will assume the following about you: \\n\\n(a) you have money to blow on a frittata that...The gist: a perfectly average restaurant with decent food and service \\n\\nThe ambiance: The restaurant has a nice outdoor seating area and the inside is cool...Junzi Kitchen is a winner in my book! Think chipotle but with noodles or chun bing in place of burrito bowls and burritos- it's fast, healthy, customizable,...Two of us stopped by for lunch. We were seated in a tight nook even though I had a large instrument on my back, and the rest of the place was largely empty....As a parent visiting my girl at Barnard, there has been a surprising lack of interesting places to eat in the area.  I have really driven around, asked and...The Chinese food they sell in these trucks is really authentic! They offer wide variety of Chinese dishes: tomato&egg over rice (my personal favorite),...Sweetgreen is SO good.\\n\\nThey are a little slow as many other Yelper's have mentioned, but I usually go when I'm not in a rush and when it's not lunch time....Terrific tacos!  I had the Carnitas and the al Pastor. Very flavorful with juicy meat. Tacos come with two tortillas so 2 tacos became 4. Good thing given...\""
      ]
     },
     "execution_count": 14,
     "metadata": {},
     "output_type": "execute_result"
    }
   ],
   "source": [
    "text=''\n",
    "for snippet in all_snippets:\n",
    "    text+=snippet[2]\n",
    "text"
   ]
  },
  {
   "cell_type": "code",
   "execution_count": 15,
   "metadata": {},
   "outputs": [
    {
     "data": {
      "image/png": "[encoded data removed]",
      "text/plain": [
       "<Figure size 432x288 with 1 Axes>"
      ]
     },
     "metadata": {
      "needs_background": "light"
     },
     "output_type": "display_data"
    }
   ],
   "source": [
    "from wordcloud import WordCloud, STOPWORDS\n",
    "import matplotlib.pyplot as plt\n",
    "%matplotlib inline\n",
    "\n",
    "wordcloud = WordCloud(stopwords=STOPWORDS,background_color='white',width=3000,height=3000).generate(text)\n",
    "\n",
    "\n",
    "plt.imshow(wordcloud)\n",
    "plt.axis('off')\n",
    "plt.show()"
   ]
  },
  {
   "cell_type": "markdown",
   "metadata": {},
   "source": [
    "<h2>Let's do a detailed comparison of local restaurants</h2>\n",
    "<h4>I've saved a few reviews for each restaurant in four directories</h4>\n",
    "<h4>We'll use the PlainTextCorpusReader to read these directories</h4>\n",
    "<li>PlainTextCorpusReader reads all matching files in a directory and saves them by file-ids"
   ]
  },
  {
   "cell_type": "code",
   "execution_count": 16,
   "metadata": {},
   "outputs": [],
   "source": [
    "import nltk\n",
    "from nltk.corpus import PlaintextCorpusReader\n",
    "community_root = \"data/community\"\n",
    "le_monde_root = \"data/le_monde\"\n",
    "community_files = \"community.*\"\n",
    "le_monde_files = \"le_monde.*\"\n",
    "heights_root = \"data/heights\"\n",
    "heights_files = \"heights.*\"\n",
    "amigos_root = \"data/amigos\"\n",
    "amigos_files = \"amigos.*\"\n",
    "community_data = PlaintextCorpusReader(community_root,community_files)\n",
    "le_monde_data = PlaintextCorpusReader(le_monde_root,le_monde_files)\n",
    "heights_data = PlaintextCorpusReader(heights_root,heights_files)\n",
    "amigos_data = PlaintextCorpusReader(amigos_root,amigos_files)"
   ]
  },
  {
   "cell_type": "code",
   "execution_count": 18,
   "metadata": {},
   "outputs": [
    {
     "data": {
      "text/plain": [
       "['amigos.1',\n",
       " 'amigos.10',\n",
       " 'amigos.11',\n",
       " 'amigos.12',\n",
       " 'amigos.13',\n",
       " 'amigos.14',\n",
       " 'amigos.15',\n",
       " 'amigos.16',\n",
       " 'amigos.17',\n",
       " 'amigos.18',\n",
       " 'amigos.19',\n",
       " 'amigos.2',\n",
       " 'amigos.20',\n",
       " 'amigos.21',\n",
       " 'amigos.3',\n",
       " 'amigos.4',\n",
       " 'amigos.5',\n",
       " 'amigos.6',\n",
       " 'amigos.7',\n",
       " 'amigos.8',\n",
       " 'amigos.9']"
      ]
     },
     "execution_count": 18,
     "metadata": {},
     "output_type": "execute_result"
    }
   ],
   "source": [
    "amigos_data.fileids()"
   ]
  },
  {
   "cell_type": "code",
   "execution_count": 19,
   "metadata": {},
   "outputs": [
    {
     "data": {
      "text/plain": [
       "'I see all these bad reviews, but speaking for myself, I\\'ve never gotten bad service here, or had a negative experience in the least--and I\\'m here about once a week.\\n\\nThe atmosphere is fun and laid back, but not in a divey way. I\\'ve never had a bad dish, although some are merely average; however, a few are A+: THE QUESADILLAS, the Queso Fundido, and the margaritas are among the best I\\'ve ever had. The guacamole is above average.\\n\\nAlso, they have really great specials during the week--I believe one day is something like $21.95 for unlimited quesadillas + 5 margaritas? That sounds so impossible even as I type it but I\\'m pretty sure that\\'s correct\\nMy friend and I decided to go out on Cinco de Mayo but we wanted something close to home with a nice vibe, people and good music and food. I remember a friend telling me about this place a while back. So I decided to make a reservation.  Not only did we get there and find that it was packed BUT the receptionist explained that since we did make reservations,  we were priority on the list. \\n\\nWe found some seats at the bar and got some drinks. No more than 20 minutes later were we seated. The staff was great,  the food was great,  the drinks were AMAZING! The music was beautiful and the vibe was on point. \\n\\nI will DEFINITELY be going back with even more people! I love it!\\n\\nWe stopped at Amigos while walking the length of Broadway (yes, all 13 miles of it) and were craving a quick bite for lunch. It\\'s located on a cute and busy strip along Broadway, not far from Bank Street and a few doors down from the Seinfeld famous Tom\\'s Restaurant.  \\n\\nThey had both sidewalk and indoor seating available when we visited. We opted for indoor near the window. Service was prompt and courteous while we were here--no complaints at all. They provide complimentary chips and salsa which is always a pro.\\n\\nThe menu is ample--for both food and drink options. Definitely a TON of specials (each day has a different food special, brunch specials on the weekends, $3 margaritas during the day). Definitely a place you can get a great bang for your buck.\\n\\nWe both opted for quesadillas (shrimp and chicken) and were surprised to see it came with three medium sized quesadillas, along with sides of rice and beans. Huge portion! Quality was average I\\'d say, we were satisfied but not blown away. Would definitely come here again for happy hour specials though--looked like a fun spot!\\nYeah what a terrible place. The waiter hated us from the second we walked in. We had to ask no less than 5 times over the course of our meal for water refills, at least 3 for more chips, and I had to go get the check myself. Possibly the most blasé service I have had ever, but at least in the last long time. \\n\\nThe food was decent, though, which is surprising considering the horrific service. My shrimp enchiladas had a good flavor if they were drenched in oil. Guac was good and you can customize the spiciness and ingredients. The spicy margarita was really top notch, and at $11 I\\'ve gotten to the point where I think that\\'s a fair price for a cocktail.\\n\\nWhen I went to retrieve the check since we had been sitting for a good 20 minutes, I told the manager what a terrible experience we had. He was like, \"Oh, I\\'m so sorry, service is top notch, I\\'m so sorry, please come back and see us again\" asking for my name and stuff. Yeah I mean I won\\'t be back because I don\\'t live in NY but I would never go back anyway.\\nThe worst service that I have had in a long time. We waited for 20 minutes, had to seat ourselves and get our own menus, and ended up leaving without even getting spoken to or given water. Won\\'t be coming back.\\nAfter walking around the area, we decided to give this place a try. We had a choice of either sitting at the booths or sitting near the bar. We opted to sit near the bar and was immediately seated. The back of the restaurant and the restaurant looked a little sketchy. Daughter ordered the Arroz Con Pollo and thought it was a bit bland. It tasted like Chicken Fried Rice. Hubs ordered the Tilapia Tacos and thought it was pretty good. I liked the fact that the tilapia was fried and the fish wasn\\'t overcooked. I ordered the Enchilada with Salsa Verde and it was spicy and pretty good. Daughter ended up eating my order because it was tastier. She had a little reaction on her lip and scared herself because she thought there was peanuts in my Enchilada entree. We asked our waiter and he went to the kitchen to make sure that there wasn\\'t any in our orders. He reassured us that everything was safe. Turned out that she didn\\'t get a reaction to peanuts. \\n\\nMy enchilada was very spicy and her lips ended up feeling tingly from it and it scared her. But, the waiter was very nice in reassuring her that the food was safe. Service was very friendly, though. Will return to try other items when in the area.\\nwo stars for Amigos : ( \\n\\nI\\'m here in NYC visiting friends for a couple of days . My best friends works in Columbia university area so we decided to have lunch there ! The famous Tom\\'s restaurant was packed so we chose Amigos ! They had happy hour & of course lunch specials .\\n\\nSitting at the bar ... We were overlooked several times by the bartender . He finally came over & dropped off menus & Walked off ... *welcome to New York * lol . Moments like that I wish southern charm & manners ! He eventually came back & asked if we wanted drinks . Water first then we ordered margaritas. They were on special for $5. The size was very small . The quality of the tequila was very much a cheaper option . Ehhh could have passed on that . \\n\\nOn to food ... I ordered the quesadilla special , it came with rice & beans . We sat there for about 15 mins after ordering & no one brought us chips & salsa . We asked & his reply was \" it\\'s only for customers eating food but since I ordered food we could get some . \" I read over the menu to see if that was in small print somewhere .My friends decided they would just nibble on chips until they figured out what they wanted . Owen , who was rude but hey , guess it\\'s the NY thing, assumed my friend was fasting because she didn\\'t order anything . *side eye * we asked for his name & we talked for a bit . He was very cranky because he normally doesn\\'t work that shift & implied he makes more during breakfast lol . Sigh .... So that was the reason behind crappy service ???\\n\\nMy best friend raved about the service & this place prior to walking in . Her usual person wasn\\'t there & she apologized for my experience . I didn\\'t finish my food because the rice & beans seemed microwaved . You can\\'t really mess up a quesadilla ... It was ehhhh ok . Overall, I wouldn\\'t go back to Amigos unless it was the last option in the area . The drinks were subpar ... I left with a little buzz & the urge to eat something else . There\\'s tons of other food options in the Colombia university area to try !\\nAmigos is a nice little Mexican restaurant on the UWS, and conveniently located a block away from work. The first time I went there I had a quesadilla which was just blah. How can someone mess up a quesadilla you might ask? Same question I had. Needless to say, I hadn\\'t gone back to Amigos in over a year. \\n\\nI recently went back with a group of coworkers for drinks and had a more pleasant experience. We went around 4pm on a Friday and the restaurant was pretty empty. I had a peach and a strawberry margarita on the rocks, which were about $5-6. While at first they didn\\'t taste very strong, it definitely caught back up to me later. The strawberry tasted like any stars every margarita that you\\'ve ever had while the peach was actually pretty delicious. We also ordered the guacamole with pineapple and pomegranate and WOW. It was so delicious and the pineapple and pomegranate were the perfect touch. \\n\\nIf you want cheap margaritas and amazing guac, check out Amigos.\\nLate night happy hour is amazing with Erik! He\\'s the best bartender--so attentive and full of energy! \\n\\nCome to Amigos for a great time with great people!\\nMy cousin recommended i try this place out...she knows i love margaritas and burritos. I wasted no time paying Amigos a visit.  It\\'s a really cute place, very spacious. i was somewhat surprised at how big it was. After being seated i was given the complimentary chip and salsa. The chips were warm what i feel is always an excellent touch. I started off with a coconut margarita and it came in a little mason jar. I was a little taken back because it was so small, maybe the size of the glass threw me off. None the less it was very taste, and i had 2 additional. I was craving nachos, but i ordered the fish tacos. The order came with 3 tacos and a side of rice and beans.The portion was a great size i couldn\\'t finish it all. The tacos weren\\'t anything to go cray about, but they were good for the most part. I\\'ll def be back. It\\'s a kool place to have dinner with friends are just grab a few drinks. The waiter was very attentive...i didn\\'t have to flag him down for anything because he constantly checked on my table\\nand those surrounding\\nCame here on a Thursday night with some friends for drinks and food. The place is okay, the decor is cute but the place is getting a bit withered down. The staff is really friendly. The only thing I didn\\'t like is that every time we asked our waiter for something he kind of acted annoyed at times. I had a chicken quesadilla it was really good. I also had two frozen margaritas which were also very delicious but small in size.\\nThis is so far from the REAL Mexican food I\\'m used to in California. Fortunately, the service is very nice. I do enjoy the chips, just wish their salsa was spicier and more flavorful.\\n\\nMy girl loves the food and she\\'s from California as well, I guess she must have been away for too long. Her favorite is the carnitas tacos.\\n\\nWe just had brunch there today and it was so-so. I had the chilaquiles... My friend loved his torta.\\nI thought this place was great, friendly service & reasonable prices. lunch special $10!  I had a quesadilla.  It was good , I don\\'t understand these reviewers who say differently. Enough of you bratty California clowns  - no good mexican in NYC - GO back there.\\nAmigos is so much fun! I went for the quesadillas and margarita Tuesday night special. The quesadillas were okay but the margaritas are definitely worth it! Very strong! We had Matt as our waiter and he was awesome! The manager is so sweet!\\nNah, terrible service.\\n\\nAsked for a drink and she said and I quote \"cry about it, cry about it. Shut up.\"\\n\\nAll I asked for was another drink, I was not saying anything else.  Not cool at all. Solid deal, but mean people. \\nOne Of The Worst Restaurant I\\'ve Ever Been To In My Life! The Waiter Was So Rude. After My Friend And I Sit Down. He Came Over Unfriendly! Asking Are You Ready? Seemed As If He Had Something Better To Do? The Way He Was Acting. We Just Gotten Up In Left Before Ordering. Unbelievable! I Thought Your Going To Be Nice To Make Tips? No???? Never Again\\nThe food was ok the Guac was really tasty the drinks are ok the strawberry margarita was good and the bulldog was so so. The chicken chicharrón burrito I enjoyed a bit. Waiters were attentive and very nice.\\nOne of the worst Mexican restaurants! I love Mexican food and this is very inferior. We live across the street so we keep coming hoping it improves only to be repeatedly disappointed.\\nThey were good for a while when they first opened. It\\'s popular with the students I suppose, which is why they still have a lease with Columbia. Today the chips were burnt. The Queso fundido with chorizo was mostly chorizo. The guacamole didn\\'t taste like anything. The salsa is chopped tomatoes and not much else.\\nPlantains-only a few were ripe... it\\'s hopeless!\\nDo NOT go here if you\\'re looking for good Mexican food, or good food period. Went here with a friend and ate one of the worst meals I\\'ve had in a really long time. The fish bowl we ordered tasted like diluted tequila with a splash of juice -- drank about 1/5 of it. The fajitas I ordered were bland, and what flavor the chicken did have tasted like it came straight from a can. Rice was overlooked and dry, beans were mushy and tasteless. Ate about 1/4 of my food, and my friend, who ordered fish tacos, ate about the same because her dish was so bad. Service was also mediocre...\\n\\nTo top that off, i got sick from what little I ate! Had a stomach bug for about 36 hours :(\\nI was around the area and heard about the good drink and food specials so I decided to check this place out. There was no wait, which is always a plus.\\n\\nMy friend and I both had a frozen Mango Coronarita, which was inexpensive and strong as well. The service was a little slow, but I can make the exception because our waitress told us she just got employed the day before.\\n\\nWe had the guacamole chips and dip for an appetizer, which was pretty good. The best part about this place is that it has soooo many great food and drink specials-DAILY! Recommended for those who love unlimited drinks and sliders!\\nMy friend and I were starving and looking for a place with decently priced margaritas to celebrate the day before Cinco de Mayo. After stopping at a few places, we decided to take advantage of Amigos outdoor seating while we still could (we got to the restaurant at around 5pm). The outdoor tables get good sunlight in the afternoon and evening so we were very comfortable in the 60-something degree weather.\\nOur first happy surprise was our free 6 ounce margaritas we got for checking in on Foursquare. I am usually not a huge fan of frozen margs, but these were excellent and very strong, and the (optional) mango flavoring was a nice addition. Yeah, they\\'re small but they are only $5 (all day, except 11-1pm when they are $3!). I got the larger version later for $10 which is more than double the size of the small version. Before we even had a chance to order drinks, we were brought a basket of chips and chunky slsa, which was excellent and very flavorful.\\nMy friend and I were starving but were planning on drinking and dining for a few hours, so after we started off with the nachos topped with chorizo ($15). The nachos were HUGE and were almost too much for the both of us, but we manned (and womaned) up and finished the plate. There was no way we were going to eat anything else, so we just hung out outside for a while. \\nI ended up calling a couple other friends to join us, and we moved inside after it got chilly. My friend and I moved onto Bull Dogs (margaritas with an upside down coronita stuck inside), which ended up being a great decision. They were tasty and definitely not a bad deal at $10. My other friend split a fish bowl for $19 and while it was good, the jury is still out as to whether or not there was actually alcohol in it.\\nAll in all the drinks and food were good and it was a fun atmosphere. I could definitely see myself coming back for drinks at the bar with a girl friend, and I am already trying to wrangle up friends for brunch.\\nI  would have ordered another drink (we were there for about 6 hours) but the waitress never came back and by that time we were ready to go. Despite the slow service, the manager was very nice and friendly and checked up on up multiple times. Additionally, the manager ended up comping 2 small and 2 large margaritas at our table, instead of the 4 small margaritas we got from the Foursquare deal which was really nice and saved us $10.\\nAsk for Angela! She is awesome!\\nI will definitely be going back!\\n'"
      ]
     },
     "execution_count": 19,
     "metadata": {},
     "output_type": "execute_result"
    }
   ],
   "source": [
    "amigos_data.raw()"
   ]
  },
  {
   "cell_type": "markdown",
   "metadata": {},
   "source": [
    "<h4>We need to modify comparitive_emotion_analyzer to tell it where the restaurant name and the text is in the tuple</h4>"
   ]
  },
  {
   "cell_type": "code",
   "execution_count": 20,
   "metadata": {},
   "outputs": [
    {
     "name": "stdout",
     "output_type": "stream",
     "text": [
      "restaurant           fear\ttrust negative positive joy   disgust anticip sadness surprise\n",
      "Shaking Crab         0.00\t0.00\t0.00\t0.00\t0.00\t0.00\t0.00\t0.00\t0.00\n",
      "Dig Inn              0.00\t0.04\t0.00\t0.15\t0.07\t0.00\t0.00\t0.00\t0.00\n",
      "Community Food & Jui 0.00\t0.04\t0.00\t0.04\t0.04\t0.00\t0.04\t0.00\t0.04\n",
      "Le Monde             0.00\t0.04\t0.00\t0.08\t0.04\t0.00\t0.00\t0.00\t0.00\n",
      "Junzi Kitchen        0.00\t0.00\t0.00\t0.04\t0.04\t0.00\t0.04\t0.00\t0.04\n",
      "Mill Korean          0.00\t0.00\t0.00\t0.03\t0.00\t0.00\t0.00\t0.00\t0.00\n",
      "Symposium Greek Rest 0.00\t0.00\t0.03\t0.07\t0.00\t0.00\t0.00\t0.00\t0.03\n",
      "Traditional Chinese  0.00\t0.08\t0.00\t0.08\t0.04\t0.00\t0.00\t0.00\t0.00\n",
      "sweetgreen           0.00\t0.00\t0.00\t0.00\t0.00\t0.00\t0.00\t0.00\t0.00\n",
      "Antojitos Mexicano E 0.00\t0.00\t0.00\t0.00\t0.00\t0.00\t0.00\t0.00\t0.00\n"
     ]
    }
   ],
   "source": [
    "def comparative_emotion_analyzer(text_tuples,name_location=1,text_location=2):\n",
    "    print(\"%-20s %1s\\t%1s %1s %1s %1s   %1s %1s %1s %1s\"%(\n",
    "            \"restaurant\",\"fear\",\"trust\",\"negative\",\"positive\",\"joy\",\"disgust\",\"anticip\",\n",
    "            \"sadness\",\"surprise\"))\n",
    "        \n",
    "    for text_tuple in text_tuples:\n",
    "        text = text_tuple[text_location] \n",
    "        result = emotion_analyzer(text)\n",
    "        print(\"%-20s %1.2f\\t%1.2f\\t%1.2f\\t%1.2f\\t%1.2f\\t%1.2f\\t%1.2f\\t%1.2f\\t%1.2f\"%(\n",
    "            text_tuple[name_location][0:20],result['fear'],result['trust'],\n",
    "              result['negative'],result['positive'],result['joy'],result['disgust'],\n",
    "              result['anticipation'],result['sadness'],result['surprise']))\n",
    "        \n",
    "#And test it        \n",
    "comparative_emotion_analyzer(all_snippets)"
   ]
  },
  {
   "cell_type": "code",
   "execution_count": 21,
   "metadata": {},
   "outputs": [
    {
     "name": "stdout",
     "output_type": "stream",
     "text": [
      "restaurant           fear\ttrust negative positive joy   disgust anticip sadness surprise\n",
      "community            0.00\t0.03\t0.01\t0.05\t0.03\t0.01\t0.02\t0.01\t0.01\n",
      "le monde             0.00\t0.03\t0.01\t0.04\t0.02\t0.00\t0.02\t0.00\t0.01\n",
      "heights              0.00\t0.03\t0.01\t0.04\t0.03\t0.00\t0.03\t0.01\t0.01\n",
      "amigos               0.01\t0.03\t0.01\t0.04\t0.03\t0.01\t0.02\t0.01\t0.01\n"
     ]
    }
   ],
   "source": [
    "restaurant_data = [('community',community_data.raw()),('le monde',le_monde_data.raw())\n",
    "                  ,('heights',heights_data.raw()), ('amigos',amigos_data.raw())]\n",
    "comparative_emotion_analyzer(restaurant_data,0,1)"
   ]
  },
  {
   "cell_type": "markdown",
   "metadata": {},
   "source": [
    "<h2>Simple Analysis: Complexity</h2>\n",
    "<h4>We'll look at four complexity factors</h4>\n",
    "<li>average word length: longer words adds to complexity\n",
    "<li>average sentence length: longer sentences are more complex (unless the text is rambling!)\n",
    "<li>vocabulary: the ratio of unique words used to the total number of words (more variety, more complexity)"
   ]
  },
  {
   "cell_type": "markdown",
   "metadata": {},
   "source": [
    "<b>token:</b> A sequence (or group) of characters of interest. For e.g., in the below analysis, a token = a word\n",
    "<li>Generally: A token is the base unit of analysis</li>\n",
    "<li>So, the first step is to convert text into tokens and nltk text object</li>"
   ]
  },
  {
   "cell_type": "code",
   "execution_count": 23,
   "metadata": {},
   "outputs": [
    {
     "name": "stdout",
     "output_type": "stream",
     "text": [
      "188\n",
      "2595\n"
     ]
    }
   ],
   "source": [
    "#Construct tokens (words/sentences) from the text\n",
    "text = le_monde_data.raw()\n",
    "import nltk\n",
    "from nltk import sent_tokenize,word_tokenize \n",
    "sentences = nltk.Text(sent_tokenize(text))\n",
    "print(len(sentences))\n",
    "words = nltk.Text(word_tokenize(text))\n",
    "print(len(words))"
   ]
  },
  {
   "cell_type": "code",
   "execution_count": 23,
   "metadata": {},
   "outputs": [
    {
     "data": {
      "text/plain": [
       "\"My wife and I get food from here whenever we're in town. I have relatives who live just a few blocks away. \\n\\nI've never had a bad experience here. Service is always great food is always wonderful. The most recent time my wife got the duck confit (sp?) And I had the rack of lamb. Both were absolutely amazing and if I weren't sitting by the window I'd have likely licked the plate clean. \\n\\nWe've never been there for anything but dinner so my review can't speak to their brunch.\\nHorrible service, horrible food. Summing it up for you quickly if you are debating if you should drop in for a bite to eat. \\n\\nI think they take forever to take your order, and deliver the food because they want you to sit in here as long as possible to make their business look busy. I caught on, yes. \\n\\nMy food was cold, so I needed to send it back. Although they tried to accommodate, I felt that I was given a slight attitude when I was asked if everything was ok. Perhaps it was cultural. \\n\\nOur orders took a VERY LONG TIME. Caesar salad tasted very fishy. Perhaps too much anchovies in the dressing? \\n\\nOne of our wait staff was drunk. \\n\\nBottom of my salmon was burned. Mashed Potatoes were very bland. Considering my dish was $25, I expected a lot. \\n\\nPROS:\\nSuperb chocolate mouse. \\nDecent Brussel sprouts\\nThis is a weekly-go to place for me and my husband. \\n--Best French fries I've ever had! For some reason, they usually do better job for dinner!\\nI ordered once for brunch and it's a little disappointed.\\n--Like the pre-fix dinner menu! Great selections of dishes, a lot of food but won't break the bank!\\n--Great wine selection! Love the margarita!\\nI'm not even joking when I say that this place has the best buttermilk pancakes I've had to date. They are perfectly fluffy and thick each time. Sometimes they're absolutely ENORMOUS, I guess it depends on who's in the kitchen that day ;p. The only other thing I've had here is called shakshuka or something and that was good too--its baked eggs with pesto, tomato sauce, Parmesan, and some bread. I will say that my dad did NOT enjoy the steak frites, as he noted that the steak seemed low quality. The breakfast croissant sandwich and croque monsieur look delicious!\\nThe food was good - I had the organic chicken sandwich. The fries were well done and the staff was very friendly, but the service was poor. Orders came out wrong and requests were met only after extended periods of time.\\nThis place is obviously busy and for a Saturday brunch you would think they would schedule staff accordingly. It took a half hour to even get someone to take a drink order once we were seated. Then an hour passed by until we were served. Food was good, my girl got fettuccine alfredo and I had the stuffed French toast. I would give them a better review because the food was good but the waiting really was long.\\nMediocre food, slow service. Also, they doubled the tip I originally gave, which was not ungenerous giving the quality of the service.\\nImpeccable food. Awful service (went on Valentines Day, that may have been the problem).\\n\\nThe free bread they bring you is thick-cut and whole wheat. Yum. The butter was rock hard. I needed a chisel.\\n\\nWaiting, waiting, for the menu.\\n\\nWe asked for a bottle of sparkling water. After 10 minutes, someone else asked us what we wanted to drink. Water. After another 10 minutes I asked a busboy who was assisting for our waiter to bring us water. The heck?\\n\\nWe finally got the menu and I ordered the bouillabaisse. The fish was fresh and perfectly cooked. The broth was excellent and rich--worth dipping your bread into.\\n\\nShe ordered the coq au vin. Oh so delicious. Such a rich flavor.\\n\\nWe asked for a custom order of truffle fries--why not? He said sure and would confirm it with the chef. He never came back.\\n\\nAfter the meal, we ordered desert. The crowd was starting to die down and I figured service would be quick. She ordered the lemon tart and I ordered some berry custard something. He said my custard would be right out since it was already made for the Prix Fixe menu.\\n\\nSurprise, my custard never showed. Her lemon tart did.\\n\\nIt took at least half an hour for us to receive the check, provide the card and get it back to sign. Sigh...\\n\\nI'll try it one more time because I love duck confit and I'd like to try theirs.\\nWe came in for dessert.\\n\\nWe asked about a few desserts and the manager was quite a jerk in his reply. He had a condescending tone when I asked about the drinks and wanted my drink a certain way. \\n\\nWas this treatment cause we weren't eating dinner? \\nWe ordered and decided to walk out cause we didn't need to be talked down to and felt bad cause we didn't want to burden him with questions. Why should a customer be felt bad and talked down to? \\n\\nNo thank you.\\nThe man what we assume is the manager was awful, the large burly man. \\n\\nOne star. We should've known to look for another place when the establishment isn't full during dinner on a Saturday night. Keep walking people, skip this place and go a block down for better service.\\nIt's the sort of French restaurant that you sadly don't see enough of anymore.\\n\\nDécor is classic brasserie; menu is too. I had the duck confit and would recommend. I've also been there for the tapas, which was very nice (I think on Thursday nights?). Service prompt and friendly.\\n\\nJust a tad pricey, but hey. It's French.\\n\\nTake your mother there.\\nSuch a great place! I ended up here because I was in the neighborhood. I've walked by this place so many times and had been dying to try it. They have a nice decor and diverse menu. I had the Scandinavian and it was amazing! The service was great, too.\\npretty good food for the area. i would recommend going for brunch over any other meal, as everything i've ordered for brunch has been quite good\\n\\nthe shakshuka is great, and you can't anything else like it in the area. the eggs should be a little runnier, but it's a minor complaint, since the rest of it is so good.\\n\\naverage benedict, but still pretty good. the french toasts and pancakes are very solid, but a little pricey for what you get. i would recommend the stuffed french toast in this category.\\n\\nthe lobster florentine is great as well, and plated well. i would recommend this dish if you're looking for something unique to get at this restaurant\\n\\nambience is great, and service is quick and attentive (without being annoying). laid-back atmosphere\\nThis is a coZy UWS neighborhood place with major French accent and very good bistro fare.  No, it's not La Grenouille but delicious things like steak frites, escargot, onion soup, and various excellent fish dishes.  The menu touts a good deal of organic and local veggies and to my notice the dishes are  well executed with some flair but simplistically.   Nice little wine selection, reasonable (but the pours are a bit stingy) ...   very friendly and professional staff up front, handled reservations well. Servers that I had are a bit slow and maybe inattentive, bit of attitude too but nothing offensive.  I like it here. Been here several times and will return.\\nDefinitely love this other uptown staple. Been coming here for years and love the loud conversations from other patrons and the energy it always brings me. Can't go wrong with the French staples they have..and always a dessert on the way out. Need to come back more often\\nHubbs and I came here while we were waiting for my son to finish he course in the area, at Columbia. He had a whole semester there, with classes every Saturday, so we decided to try out a different restaurant in the area every week during that time. Yelp was definitely instrumental in our plan and after searching for a restaurant nearby, we cam across Le Monde. I think this was one of the first restaurants we tried. \\n\\nFor October, it was unusually warm and when we arrived at the restaurant, there was a long wait for indoor seating so we just grabbed a table outside and let the staff know we were seated. The service was good. Our server came and greeted us within minutes of sitting down and gave some good menu suggestions. \\n\\nI love warm alcoholic drinks, like hot toddies, and they offer a Hot Buttered Rum which we both had to try. It was the perfect drink that day since there was still a chill in the air. I also tried a GUS (grown up soda) which tasted really good; I hadn't had one before and it tasted light mixed drink. \\n\\nAs for the food, I went with the Veggie Frittata and a side of Turkey Chorizo. I loved the frittata; I was full because of the portion size and had to take half to go. The chorizo, however, was not my favourite. They were like spicy dry meat pucks. I love having non-pork options for meat sides and I commend Le Monde for making those in-house but they just didn't taste that great to me. Hubby had the Breakfast Biscuit w/Chicken Apple Rosemary Sausage and he had the same issue with his sausage; it was a great alternative to bacon but the flavour was off. The biscuit, on the other hand, he polished off. \\n\\nOn this particular day, we enjoyed brunch AND a show. I am unsure of the event but we watched hundreds of skateboarders flying down the street with police escorts. It was pretty amazing. In that area, they also have a weekly fair during better weather seasons, featuring many different food stalls. It's a nice area to visit and walk around. \\n\\nI would love to try them out for dinner, as I said, the service was great and we were checked on regularly.\\nDiscovered this place by chance while searching for a brunch place. \\n\\nBoth the ambience and food was good. We had ordered the french onion soup, lobster florentine, and the shrimp quinoa salad. My favorite was definitely the quinoa salad, because not only was it fresh and delicious, it was presented very nicely as well. I really enjoyed the soup too. My favorite part it was definitely the cheese, because it was so crisp! \\n\\nThis place is worth checking out.\\nCame here for Brunch and it is a great local place for any meal. It is usually filled and the ambiance was great. The food was really good and they are known for their brunch menu. The service, however, was a bit slow, but the food eventually came and it was amazing. Would highly recommend stopping by this place if you are in the area.\\nMy heart was set on brunch from the beginning of the week, and my friend was totally on board.  We decided to give this a try because I am a total sucker for fresh French coffee.  We walked right in at about 10AM, and were seated at a window seat.  The table for two was a little small; think of a bistro or cafe table.  I think for the size of the plates, it would have been easier to juggle and manage the space.\\n\\nI ordered the Scandinavie, which was two English muffins over smoked salmon and poached eggs covered in hollandaise sauce, set with a side of their home fries.  Everything was cooked very nicely, and tasted pretty fresh and warm.  My friend got the country platter, and had his scrambled eggs over a nest of hash browns.  Again, he was very pleased.\\n\\nDid this place really stick out as being something to remember?  Not really.\\nDid we get good service? Yes, they were attentive and refilled our water and coffee multiple times.\\nWould I come back if I was in the area? Definitely - good food and good service make a returning customer.\\nBeautiful French cafe ambiance and decor. Took my parents here when they were visiting the city. They are both vegetarians, but my wife and I are not. We all loved it, both the food and drinks. My wife and I split stuffed french toast and croque monsieur.\\nMeh. Not worth the money. The food is mediocre. I know it's Morningside Heights and I shouldn't expect too much from it, but I'd rather go downtown to have brunch.\\n5 stars for the amazing Molly Ringwald look alike behind the bar who makes a killer mimosa. How does one make a killer mimosa, you ask? Easy. With way more champagne than OJ! Anyway, the bartender had really great energy. I would come back here just for drinks because I like the vibe, and most likely only at night. \\n\\nThe food left me unsatisfied. The presentation of the food itself was flawless, but the flavors were missing. They were a bit off to me. \\n\\nI'd probably come back to try a steak dinner instead of the brunch. When you've had Crepes from Pates Et Traditions in Williamsburgh, it's hard to find anything that can match.\\n\""
      ]
     },
     "execution_count": 23,
     "metadata": {},
     "output_type": "execute_result"
    }
   ],
   "source": [
    "le_monde_data.raw()"
   ]
  },
  {
   "cell_type": "code",
   "execution_count": 24,
   "metadata": {},
   "outputs": [
    {
     "name": "stdout",
     "output_type": "stream",
     "text": [
      "12332 4 13 0.29132947976878615\n"
     ]
    }
   ],
   "source": [
    "num_chars=len(text)\n",
    "num_words=len(word_tokenize(text))\n",
    "num_sentences=len(sent_tokenize(text))\n",
    "vocab = {x.lower() for x in word_tokenize(text)}\n",
    "print(num_chars,int(num_chars/num_words),int(num_words/num_sentences),(len(vocab)/num_words))\n"
   ]
  },
  {
   "cell_type": "markdown",
   "metadata": {},
   "source": [
    "<h4>Functionalize this</h4>"
   ]
  },
  {
   "cell_type": "code",
   "execution_count": 21,
   "metadata": {},
   "outputs": [],
   "source": [
    "def get_complexity(text):\n",
    "    num_chars=len(text)\n",
    "    num_words=len(word_tokenize(text))\n",
    "    num_sentences=len(sent_tokenize(text))\n",
    "    vocab = {x.lower() for x in word_tokenize(text)}\n",
    "    return len(vocab),int(num_chars/num_words),int(num_words/num_sentences),len(vocab)/num_words"
   ]
  },
  {
   "cell_type": "code",
   "execution_count": 25,
   "metadata": {},
   "outputs": [
    {
     "data": {
      "text/plain": [
       "(756, 4, 13, 0.29132947976878615)"
      ]
     },
     "execution_count": 25,
     "metadata": {},
     "output_type": "execute_result"
    }
   ],
   "source": [
    "get_complexity(le_monde_data.raw())"
   ]
  },
  {
   "cell_type": "code",
   "execution_count": 26,
   "metadata": {},
   "outputs": [
    {
     "name": "stdout",
     "output_type": "stream",
     "text": [
      "community      \t1029.00\t4.00\t16.00\t0.28\n",
      "le monde       \t756.00\t4.00\t13.00\t0.29\n",
      "heights        \t720.00\t4.00\t16.00\t0.28\n",
      "amigos         \t792.00\t4.00\t15.00\t0.24\n"
     ]
    }
   ],
   "source": [
    "for text in restaurant_data:\n",
    "    (vocab,word_size,sent_size,vocab_to_text) = get_complexity(text[1])\n",
    "    print(\"{0:15s}\\t{1:1.2f}\\t{2:1.2f}\\t{3:1.2f}\\t{4:1.2f}\".format(text[0],vocab,word_size,sent_size,vocab_to_text))"
   ]
  },
  {
   "cell_type": "markdown",
   "metadata": {},
   "source": [
    "<h4>We could do a word cloud comparison</h4>\n",
    "We'll remove short words and look only at words longer than 6 letters"
   ]
  },
  {
   "cell_type": "code",
   "execution_count": null,
   "metadata": {},
   "outputs": [],
   "source": [
    "texts = restaurant_data\n",
    "from wordcloud import WordCloud, STOPWORDS\n",
    "import matplotlib.pyplot as plt\n",
    "%matplotlib inline\n",
    "#Remove unwanted words\n",
    "#As we look at the cloud, we can get rid of words that don't make sense by adding them to this variable\n",
    "DELETE_WORDS = []\n",
    "def remove_words(text_string,DELETE_WORDS=DELETE_WORDS):\n",
    "    for word in DELETE_WORDS:\n",
    "        text_string = text_string.replace(word,' ')\n",
    "    return text_string\n",
    "\n",
    "#Remove short words\n",
    "MIN_LENGTH = 3\n",
    "def remove_short_words(text_string,min_length = MIN_LENGTH):\n",
    "    word_list = text_string.split()\n",
    "    for word in word_list:\n",
    "        if len(word) < min_length:\n",
    "            text_string = text_string.replace(' '+word+' ',' ',1)\n",
    "    return text_string\n",
    "\n",
    "\n",
    "#Set up side by side clouds\n",
    "COL_NUM = 2\n",
    "ROW_NUM = 2\n",
    "fig, axes = plt.subplots(ROW_NUM, COL_NUM, figsize=(12,12))\n",
    "\n",
    "for i in range(0,len(texts)):\n",
    "    text_string = remove_words(texts[i][1])\n",
    "    text_string = remove_short_words(text_string)\n",
    "    ax = axes[i%2]\n",
    "    ax = axes[i//2, i%2] #Use this if ROW_NUM >=2\n",
    "    ax.set_title(texts[i][0])\n",
    "    wordcloud = WordCloud(stopwords=STOPWORDS,background_color='white',width=900,height=9000,max_words=20).generate(text_string)\n",
    "    ax.imshow(wordcloud)\n",
    "    ax.axis('off')\n",
    "plt.show()"
   ]
  },
  {
   "cell_type": "markdown",
   "metadata": {},
   "source": [
    "<h3>Comparing complexity of restaurant reviews won't get us anything useful</h3>\n",
    "<h3>Let's look at something more useful</h3>"
   ]
  },
  {
   "cell_type": "markdown",
   "metadata": {},
   "source": [
    "<h2>nltk: Python's natural language toolkit</h2>\n"
   ]
  },
  {
   "cell_type": "markdown",
   "metadata": {},
   "source": [
    "<h3>ntlk documentation link:</h3> http://www.nltk.org/api/nltk.html\n",
    "<h3>Commands cheat sheet</h3> https://blogs.princeton.edu/etc/files/2014/03/Text-Analysis-with-NLTK-Cheatsheet.pdf\n",
    "<h3>nltk book</h3>http://www.nltk.org/book/"
   ]
  },
  {
   "cell_type": "markdown",
   "metadata": {},
   "source": [
    "<h2>nltk contains a large corpora of pre-tokenized text</h2>\n",
    "Load it using the command:<p>\n",
    "nltk.download()\n",
    "\n",
    "    "
   ]
  },
  {
   "cell_type": "markdown",
   "metadata": {},
   "source": [
    "<h4>Import the corpora</h4>"
   ]
  },
  {
   "cell_type": "code",
   "execution_count": 17,
   "metadata": {},
   "outputs": [
    {
     "name": "stdout",
     "output_type": "stream",
     "text": [
      "*** Introductory Examples for the NLTK Book ***\n",
      "Loading text1, ..., text9 and sent1, ..., sent9\n",
      "Type the name of the text or sentence to view it.\n",
      "Type: 'texts()' or 'sents()' to list the materials.\n",
      "text1: Moby Dick by Herman Melville 1851\n",
      "text2: Sense and Sensibility by Jane Austen 1811\n",
      "text3: The Book of Genesis\n",
      "text4: Inaugural Address Corpus\n",
      "text5: Chat Corpus\n",
      "text6: Monty Python and the Holy Grail\n",
      "text7: Wall Street Journal\n",
      "text8: Personals Corpus\n",
      "text9: The Man Who Was Thursday by G . K . Chesterton 1908\n"
     ]
    }
   ],
   "source": [
    "from nltk.book import *"
   ]
  },
  {
   "cell_type": "markdown",
   "metadata": {},
   "source": [
    "<h1>Often, a comparitive analysis helps us understand text better</h1>\n",
    "<h2>Let's look at US Presidentinaugural speeches</h2>\n"
   ]
  },
  {
   "cell_type": "code",
   "execution_count": 18,
   "metadata": {},
   "outputs": [
    {
     "data": {
      "text/plain": [
       "['1789-Washington.txt',\n",
       " '1793-Washington.txt',\n",
       " '1797-Adams.txt',\n",
       " '1801-Jefferson.txt',\n",
       " '1805-Jefferson.txt',\n",
       " '1809-Madison.txt',\n",
       " '1813-Madison.txt',\n",
       " '1817-Monroe.txt',\n",
       " '1821-Monroe.txt',\n",
       " '1825-Adams.txt',\n",
       " '1829-Jackson.txt',\n",
       " '1833-Jackson.txt',\n",
       " '1837-VanBuren.txt',\n",
       " '1841-Harrison.txt',\n",
       " '1845-Polk.txt',\n",
       " '1849-Taylor.txt',\n",
       " '1853-Pierce.txt',\n",
       " '1857-Buchanan.txt',\n",
       " '1861-Lincoln.txt',\n",
       " '1865-Lincoln.txt',\n",
       " '1869-Grant.txt',\n",
       " '1873-Grant.txt',\n",
       " '1877-Hayes.txt',\n",
       " '1881-Garfield.txt',\n",
       " '1885-Cleveland.txt',\n",
       " '1889-Harrison.txt',\n",
       " '1893-Cleveland.txt',\n",
       " '1897-McKinley.txt',\n",
       " '1901-McKinley.txt',\n",
       " '1905-Roosevelt.txt',\n",
       " '1909-Taft.txt',\n",
       " '1913-Wilson.txt',\n",
       " '1917-Wilson.txt',\n",
       " '1921-Harding.txt',\n",
       " '1925-Coolidge.txt',\n",
       " '1929-Hoover.txt',\n",
       " '1933-Roosevelt.txt',\n",
       " '1937-Roosevelt.txt',\n",
       " '1941-Roosevelt.txt',\n",
       " '1945-Roosevelt.txt',\n",
       " '1949-Truman.txt',\n",
       " '1953-Eisenhower.txt',\n",
       " '1957-Eisenhower.txt',\n",
       " '1961-Kennedy.txt',\n",
       " '1965-Johnson.txt',\n",
       " '1969-Nixon.txt',\n",
       " '1973-Nixon.txt',\n",
       " '1977-Carter.txt',\n",
       " '1981-Reagan.txt',\n",
       " '1985-Reagan.txt',\n",
       " '1989-Bush.txt',\n",
       " '1993-Clinton.txt',\n",
       " '1997-Clinton.txt',\n",
       " '2001-Bush.txt',\n",
       " '2005-Bush.txt',\n",
       " '2009-Obama.txt',\n",
       " '2013-Obama.txt',\n",
       " '2017-Trump.txt']"
      ]
     },
     "execution_count": 18,
     "metadata": {},
     "output_type": "execute_result"
    }
   ],
   "source": [
    "inaugural.fileids()"
   ]
  },
  {
   "cell_type": "code",
   "execution_count": 19,
   "metadata": {},
   "outputs": [
    {
     "data": {
      "text/plain": [
       "'Fellow-Citizens of the United States: In compliance with a custom as old as the Government itself, I appear before you to address you briefly and to take in your presence the oath prescribed by the Constitution of the United States to be taken by the President \"before he enters on the execution of this office.\"\\n\\nI do not consider it necessary at present for me to discuss those matters of administration about which there is no special anxiety or excitement.\\n\\nApprehension seems to exist among the people of the Southern States that by the accession of a Republican Administration their property and their peace and personal security are to be endangered. There has never been any reasonable cause for such apprehension. Indeed, the most ample evidence to the contrary has all the while existed and been open to their inspection. It is found in nearly all the published speeches of him who now addresses you. I do but quote from one of those speeches when I declare that -- \\n\\nI have no purpose, directly or indirectly, to interfere with the institution of slavery in the States where it exists. I believe I have no lawful right to do so, and I have no inclination to do so.\\n\\nThose who nominated and elected me did so with full knowledge that I had made this and many similar declarations and had never recanted them; and more than this, they placed in the platform for my acceptance, and as a law to themselves and to me, the clear and emphatic resolution which I now read:\\n\\nResolved, That the maintenance inviolate of the rights of the States, and especially the right of each State to order and control its own domestic institutions according to its own judgment exclusively, is essential to that balance of power on which the perfection and endurance of our political fabric depend; and we denounce the lawless invasion by armed force of the soil of any State or Territory, no matter what pretext, as among the gravest of crimes.\\n\\nI now reiterate these sentiments, and in doing so I only press upon the public attention the most conclusive evidence of which the case is susceptible that the property, peace, and security of no section are to be in any wise endangered by the now incoming Administration. I add, too, that all the protection which, consistently with the Constitution and the laws, can be given will be cheerfully given to all the States when lawfully demanded, for whatever cause -- as cheerfully to one section as to another.\\n\\nThere is much controversy about the delivering up of fugitives from service or labor. The clause I now read is as plainly written in the Constitution as any other of its provisions:\\n\\nNo person held to service or labor in one State, under the laws thereof, escaping into another, shall in consequence of any law or regulation therein be discharged from such service or labor, but shall be delivered up on claim of the party to whom such service or labor may be due.\\n\\nIt is scarcely questioned that this provision was intended by those who made it for the reclaiming of what we call fugitive slaves; and the intention of the lawgiver is the law. All members of Congress swear their support to the whole Constitution -- to this provision as much as to any other. To the proposition, then, that slaves whose cases come within the terms of this clause \"shall be delivered up\" their oaths are unanimous. Now, if they would make the effort in good temper, could they not with nearly equal unanimity frame and pass a law by means of which to keep good that unanimous oath?\\n\\nThere is some difference of opinion whether this clause should be enforced by national or by State authority, but surely that difference is not a very material one. If the slave is to be surrendered, it can be of but little consequence to him or to others by which authority it is done. And should anyone in any case be content that his oath shall go unkept on a merely unsubstantial controversy as to how it shall be kept?\\n\\nAgain: In any law upon this subject ought not all the safeguards of liberty known in civilized and humane jurisprudence to be introduced, so that a free man be not in any case surrendered as a slave? And might it not be well at the same time to provide by law for the enforcement of that clause in the Constitution which guarantees that \"the citizens of each State shall be entitled to all privileges and immunities of citizens in the several States\"?\\n\\nI take the official oath to-day with no mental reservations and with no purpose to construe the Constitution or laws by any hypercritical rules; and while I do not choose now to specify particular acts of Congress as proper to be enforced, I do suggest that it will be much safer for all, both in official and private stations, to conform to and abide by all those acts which stand unrepealed than to violate any of them trusting to find impunity in having them held to be unconstitutional.\\n\\nIt is seventy-two years since the first inauguration of a President under our National Constitution. During that period fifteen different and greatly distinguished citizens have in succession administered the executive branch of the Government. They have conducted it through many perils, and generally with great success. Yet, with all this scope of precedent, I now enter upon the same task for the brief constitutional term of four years under great and peculiar difficulty. A disruption of the Federal Union, heretofore only menaced, is now formidably attempted.\\n\\nI hold that in contemplation of universal law and of the Constitution the Union of these States is perpetual. Perpetuity is implied, if not expressed, in the fundamental law of all national governments. It is safe to assert that no government proper ever had a provision in its organic law for its own termination. Continue to execute all the express provisions of our National Constitution, and the Union will endure forever, it being impossible to destroy it except by some action not provided for in the instrument itself.\\n\\nAgain: If the United States be not a government proper, but an association of States in the nature of contract merely, can it, as a contract, be peaceably unmade by less than all the parties who made it? One party to a contract may violate it -- break it, so to speak -- but does it not require all to lawfully rescind it?\\n\\nDescending from these general principles, we find the proposition that in legal contemplation the Union is perpetual confirmed by the history of the Union itself. The Union is much older than the Constitution. It was formed, in fact, by the Articles of Association in 1774. It was matured and continued by the Declaration of Independence in 1776. It was further matured, and the faith of all the then thirteen States expressly plighted and engaged that it should be perpetual, by the Articles of Confederation in 1778. And finally, in 1787, one of the declared objects for ordaining and establishing the Constitution was \"to form a more perfect Union.\"\\n\\nBut if destruction of the Union by one or by a part only of the States be lawfully possible, the Union is less perfect than before the Constitution, having lost the vital element of perpetuity.\\n\\nIt follows from these views that no State upon its own mere motion can lawfully get out of the Union; that resolves and ordinances to that effect are legally void, and that acts of violence within any State or States against the authority of the United States are insurrectionary or revolutionary, according to circumstances.\\n\\nI therefore consider that in view of the Constitution and the laws the Union is unbroken, and to the extent of my ability, I shall take care, as the Constitution itself expressly enjoins upon me, that the laws of the Union be faithfully executed in all the States. Doing this I deem to be only a simple duty on my part, and I shall perform it so far as practicable unless my rightful masters, the American people, shall withhold the requisite means or in some authoritative manner direct the contrary. I trust this will not be regarded as a menace, but only as the declared purpose of the Union that it will constitutionally defend and maintain itself.\\n\\nIn doing this there needs to be no bloodshed or violence, and there shall be none unless it be forced upon the national authority. The power confided to me will be used to hold, occupy, and possess the property and places belonging to the Government and to collect the duties and imposts; but beyond what may be necessary for these objects, there will be no invasion, no using of force against or among the people anywhere. Where hostility to the United States in any interior locality shall be so great and universal as to prevent competent resident citizens from holding the Federal offices, there will be no attempt to force obnoxious strangers among the people for that object. While the strict legal right may exist in the Government to enforce the exercise of these offices, the attempt to do so would be so irritating and so nearly impracticable withal that I deem it better to forego for the time the uses of such offices.\\n\\nThe mails, unless repelled, will continue to be furnished in all parts of the Union. So far as possible the people everywhere shall have that sense of perfect security which is most favorable to calm thought and reflection. The course here indicated will be followed unless current events and experience shall show a modification or change to be proper, and in every case and exigency my best discretion will be exercised, according to circumstances actually existing and with a view and a hope of a peaceful solution of the national troubles and the restoration of fraternal sympathies and affections.\\n\\nThat there are persons in one section or another who seek to destroy the Union at all events and are glad of any pretext to do it I will neither affirm nor deny; but if there be such, I need address no word to them. To those, however, who really love the Union may I not speak?\\n\\nBefore entering upon so grave a matter as the destruction of our national fabric, with all its benefits, its memories, and its hopes, would it not be wise to ascertain precisely why we do it? Will you hazard so desperate a step while there is any possibility that any portion of the ills you fly from have no real existence? Will you, while the certain ills you fly to are greater than all the real ones you fly from, will you risk the commission of so fearful a mistake?\\n\\nAll profess to be content in the Union if all constitutional rights can be maintained. Is it true, then, that any right plainly written in the Constitution has been denied? I think not. Happily, the human mind is so constituted that no party can reach to the audacity of doing this. Think, if you can, of a single instance in which a plainly written provision of the Constitution has ever been denied. If by the mere force of numbers a majority should deprive a minority of any clearly written constitutional right, it might in a moral point of view justify revolution; certainly would if such right were a vital one. But such is not our case. All the vital rights of minorities and of individuals are so plainly assured to them by affirmations and negations, guaranties and prohibitions, in the Constitution that controversies never arise concerning them. But no organic law can ever be framed with a provision specifically applicable to every question which may occur in practical administration. No foresight can anticipate nor any document of reasonable length contain express provisions for all possible questions. Shall fugitives from labor be surrendered by national or by State authority? The Constitution does not expressly say. May Congress prohibit slavery in the Territories? The Constitution does not expressly say. Must Congress protect slavery in the Territories? The Constitution does not expressly say.\\n\\nFrom questions of this class spring all our constitutional controversies, and we divide upon them into majorities and minorities. If the minority will not acquiesce, the majority must, or the Government must cease. There is no other alternative, for continuing the Government is acquiescence on one side or the other. If a minority in such case will secede rather than acquiesce, they make a precedent which in turn will divide and ruin them, for a minority of their own will secede from them whenever a majority refuses to be controlled by such minority. For instance, why may not any portion of a new confederacy a year or two hence arbitrarily secede again, precisely as portions of the present Union now claim to secede from it? All who cherish disunion sentiments are now being educated to the exact temper of doing this.\\n\\nIs there such perfect identity of interests among the States to compose a new union as to produce harmony only and prevent renewed secession?\\n\\nPlainly the central idea of secession is the essence of anarchy. A majority held in restraint by constitutional checks and limitations, and always changing easily with deliberate changes of popular opinions and sentiments, is the only true sovereign of a free people. Whoever rejects it does of necessity fly to anarchy or to despotism. Unanimity is impossible. The rule of a minority, as a permanent arrangement, is wholly inadmissible; so that, rejecting the majority principle, anarchy or despotism in some form is all that is left.\\n\\nI do not forget the position assumed by some that constitutional questions are to be decided by the Supreme Court, nor do I deny that such decisions must be binding in any case upon the parties to a suit as to the object of that suit, while they are also entitled to very high respect and consideration in all parallel cases by all other departments of the Government. And while it is obviously possible that such decision may be erroneous in any given case, still the evil effect following it, being limited to that particular case, with the chance that it may be overruled and never become a precedent for other cases, can better be borne than could the evils of a different practice. At the same time, the candid citizen must confess that if the policy of the Government upon vital questions affecting the whole people is to be irrevocably fixed by decisions of the Supreme Court, the instant they are made in ordinary litigation between parties in personal actions the people will have ceased to be their own rulers, having to that extent practically resigned their Government into the hands of that eminent tribunal. Nor is there in this view any assault upon the court or the judges. It is a duty from which they may not shrink to decide cases properly brought before them, and it is no fault of theirs if others seek to turn their decisions to political purposes.\\n\\nOne section of our country believes slavery is right and ought to be extended, while the other believes it is wrong and ought not to be extended. This is the only substantial dispute. The fugitive-slave clause of the Constitution and the law for the suppression of the foreign slave trade are each as well enforced, perhaps, as any law can ever be in a community where the moral sense of the people imperfectly supports the law itself. The great body of the people abide by the dry legal obligation in both cases, and a few break over in each. This, I think, can not be perfectly cured, and it would be worse in both cases after the separation of the sections than before. The foreign slave trade, now imperfectly suppressed, would be ultimately revived without restriction in one section, while fugitive slaves, now only partially surrendered, would not be surrendered at all by the other.\\n\\nPhysically speaking, we can not separate. We can not remove our respective sections from each other nor build an impassable wall between them. A husband and wife may be divorced and go out of the presence and beyond the reach of each other, but the different parts of our country can not do this. They can not but remain face to face, and intercourse, either amicable or hostile, must continue between them. Is it possible, then, to make that intercourse more advantageous or more satisfactory after separation than before? Can aliens make treaties easier than friends can make laws? Can treaties be more faithfully enforced between aliens than laws can among friends? Suppose you go to war, you can not fight always; and when, after much loss on both sides and no gain on either, you cease fighting, the identical old questions, as to terms of intercourse, are again upon you.\\n\\nThis country, with its institutions, belongs to the people who inhabit it. Whenever they shall grow weary of the existing Government, they can exercise their constitutional right of amending it or their revolutionary right to dismember or overthrow it. I can not be ignorant of the fact that many worthy and patriotic citizens are desirous of having the National Constitution amended. While I make no recommendation of amendments, I fully recognize the rightful authority of the people over the whole subject, to be exercised in either of the modes prescribed in the instrument itself; and I should, under existing circumstances, favor rather than oppose a fair opportunity being afforded the people to act upon it. I will venture to add that to me the convention mode seems preferable, in that it allows amendments to originate with the people themselves, instead of only permitting them to take or reject propositions originated by others, not especially chosen for the purpose, and which might not be precisely such as they would wish to either accept or refuse. I understand a proposed amendment to the Constitution -- which amendment, however, I have not seen--has passed Congress, to the effect that the Federal Government shall never interfere with the domestic institutions of the States, including that of persons held to service. To avoid misconstruction of what I have said, I depart from my purpose not to speak of particular amendments so far as to say that, holding such a provision to now be implied constitutional law, I have no objection to its being made express and irrevocable.\\n\\nThe Chief Magistrate derives all his authority from the people, and they have referred none upon him to fix terms for the separation of the States. The people themselves can do this if also they choose, but the Executive as such has nothing to do with it. His duty is to administer the present Government as it came to his hands and to transmit it unimpaired by him to his successor.\\n\\nWhy should there not be a patient confidence in the ultimate justice of the people? Is there any better or equal hope in the world? In our present differences, is either party without faith of being in the right? If the Almighty Ruler of Nations, with His eternal truth and justice, be on your side of the North, or on yours of the South, that truth and that justice will surely prevail by the judgment of this great tribunal of the American people.\\n\\nBy the frame of the Government under which we live this same people have wisely given their public servants but little power for mischief, and have with equal wisdom provided for the return of that little to their own hands at very short intervals. While the people retain their virtue and vigilance no Administration by any extreme of wickedness or folly can very seriously injure the Government in the short space of four years.\\n\\nMy countrymen, one and all, think calmly and well upon this whole subject. Nothing valuable can be lost by taking time. If there be an object to hurry any of you in hot haste to a step which you would never take deliberately, that object will be frustrated by taking time; but no good object can be frustrated by it. Such of you as are now dissatisfied still have the old Constitution unimpaired, and, on the sensitive point, the laws of your own framing under it; while the new Administration will have no immediate power, if it would, to change either. If it were admitted that you who are dissatisfied hold the right side in the dispute, there still is no single good reason for precipitate action. Intelligence, patriotism, Christianity, and a firm reliance on Him who has never yet forsaken this favored land are still competent to adjust in the best way all our present difficulty.\\n\\nIn your hands, my dissatisfied fellow-countrymen, and not in mine, is the momentous issue of civil war. The Government will not assail you. You can have no conflict without being yourselves the aggressors. You have no oath registered in heaven to destroy the Government, while I shall have the most solemn one to \"preserve, protect, and defend it.\"\\n\\nI am loath to close. We are not enemies, but friends. We must not be enemies. Though passion may have strained it must not break our bonds of affection. The mystic chords of memory, stretching from every battlefield and patriot grave to every living heart and hearthstone all over this broad land, will yet swell the chorus of the Union, when again touched, as surely they will be, by the better angels of our nature.\\n'"
      ]
     },
     "execution_count": 19,
     "metadata": {},
     "output_type": "execute_result"
    }
   ],
   "source": [
    "inaugural.raw('1861-Lincoln.txt')"
   ]
  },
  {
   "cell_type": "markdown",
   "metadata": {},
   "source": [
    "<h4>Let's look at the complexity of the speeches by four presidents</h4>"
   ]
  },
  {
   "cell_type": "code",
   "execution_count": 24,
   "metadata": {},
   "outputs": [
    {
     "name": "stdout",
     "output_type": "stream",
     "text": [
      "trump          \t544.00\t5.00\t18.00\t0.32\n",
      "obama          \t1348.00\t5.00\t25.00\t0.27\n",
      "jackson        \t813.00\t5.00\t45.00\t0.33\n",
      "washington     \t636.00\t5.00\t62.00\t0.38\n"
     ]
    }
   ],
   "source": [
    "texts = [('trump',inaugural.raw('2017-Trump.txt')),\n",
    "         ('obama',inaugural.raw('2009-Obama.txt')+inaugural.raw('2013-Obama.txt')),\n",
    "         ('jackson',inaugural.raw('1829-Jackson.txt')+inaugural.raw('1833-Jackson.txt')),\n",
    "         ('washington',inaugural.raw('1789-Washington.txt')+inaugural.raw('1793-Washington.txt'))]\n",
    "for text in texts:\n",
    "    (vocab,word_size,sent_size,vocab_to_text) = get_complexity(text[1])\n",
    "    print(\"{0:15s}\\t{1:1.2f}\\t{2:1.2f}\\t{3:1.2f}\\t{4:1.2f}\".format(text[0],vocab,word_size,sent_size,vocab_to_text))"
   ]
  },
  {
   "cell_type": "markdown",
   "metadata": {},
   "source": [
    "<h2>Analysis over time</h2>\n"
   ]
  },
  {
   "cell_type": "markdown",
   "metadata": {},
   "source": [
    "<h3>The files are arranged over time so we can analyze how complexity has changed between Washington and Trump</h3>"
   ]
  },
  {
   "cell_type": "code",
   "execution_count": 25,
   "metadata": {},
   "outputs": [
    {
     "data": {
      "text/plain": [
       "[<matplotlib.lines.Line2D at 0x276f876b988>]"
      ]
     },
     "execution_count": 25,
     "metadata": {},
     "output_type": "execute_result"
    },
    {
     "data": {
      "image/png": "[encoded data removed]",
      "text/plain": [
       "<Figure size 432x288 with 1 Axes>"
      ]
     },
     "metadata": {
      "needs_background": "light"
     },
     "output_type": "display_data"
    }
   ],
   "source": [
    "from nltk.corpus import inaugural\n",
    "sentence_lengths = list()\n",
    "for fileid in inaugural.fileids():\n",
    "    sentence_lengths.append(get_complexity(' '.join(inaugural.words(fileid)))[2])\n",
    "plt.plot(sentence_lengths)"
   ]
  },
  {
   "cell_type": "markdown",
   "metadata": {},
   "source": [
    "<h1>dispersion plots</h1>\n",
    "<h2>Dispersion plots show the relative frequency of words over the text</h2>\n",
    "<h3>Let's see how the frequency of some words has changed over the course of the republic</h3>\n",
    "<h3>That should give us some idea of how the focus of the nation has changed</h3>"
   ]
  },
  {
   "cell_type": "code",
   "execution_count": 27,
   "metadata": {},
   "outputs": [
    {
     "data": {
      "image/png": "[encoded data removed]",
      "text/plain": [
       "<Figure size 432x288 with 1 Axes>"
      ]
     },
     "metadata": {
      "needs_background": "light"
     },
     "output_type": "display_data"
    }
   ],
   "source": [
    "text4.dispersion_plot([\"immigration\", \"welfare\", \"freedom\", \"technology\",'safety','reputation','children'])"
   ]
  },
  {
   "cell_type": "markdown",
   "metadata": {},
   "source": [
    "<h4>We may want to use word stems rather than the part of speect form</h4>\n",
    "<li>For example: patriot, patriotic, patriotism all express roughly the same idea\n",
    "<li>nltk has a stemmer that implements the \"Porter Stemming Algorithm\" (https://tartarus.org/martin/PorterStemmer/)\n",
    "<li>We'll push everything to lowercase as well"
   ]
  },
  {
   "cell_type": "code",
   "execution_count": 29,
   "metadata": {},
   "outputs": [
    {
     "data": {
      "image/png": "[encoded data removed]",
      "text/plain": [
       "<Figure size 432x288 with 1 Axes>"
      ]
     },
     "metadata": {
      "needs_background": "light"
     },
     "output_type": "display_data"
    }
   ],
   "source": [
    "from nltk.stem.porter import PorterStemmer\n",
    "p_stemmer = PorterStemmer()\n",
    "text = inaugural.raw()\n",
    "striptext = text.replace('\\n\\n', ' ')\n",
    "striptext = striptext.replace('\\n', ' ')\n",
    "sentences = sent_tokenize(striptext)\n",
    "words = word_tokenize(striptext)\n",
    "text = nltk.Text([p_stemmer.stem(i).lower() for i in words])\n",
    "text.dispersion_plot([\"govern\", \"government\",\"citizen\", \"free\", \"america\",'independ','develop','patriot'])"
   ]
  },
  {
   "cell_type": "markdown",
   "metadata": {},
   "source": [
    "<h2>Weighted word analysis using Vader</h2>\n",
    "<h4>Vader contains a list of 7500 features weighted by how positive or negative they are</h4>\n",
    "<h4>It uses these features to calculate stats on how positive, negative and neutral a passage is</h4>\n",
    "<h4>And combines these results to give a compound sentiment (higher = more positive) for the passage</h4>\n",
    "<h4>Human trained on twitter data and generally considered good for informal communication</h4>\n",
    "<h4>10 humans rated each feature in each tweet in context from -4 to +4</h4>\n",
    "<h4>Calculates the sentiment in a sentence using word order analysis</h4>\n",
    "<li>\"marginally good\" will get a lower positive score than \"extremely good\"\n",
    "<h4>Computes a \"compound\" score based on heuristics (between -1 and +1)</h4>\n",
    "<h4>Includes sentiment of emoticons, punctuation, and other 'social media' lexicon elements</h4>\n"
   ]
  },
  {
   "cell_type": "code",
   "execution_count": null,
   "metadata": {},
   "outputs": [],
   "source": [
    "!pip install vaderSentiment"
   ]
  },
  {
   "cell_type": "code",
   "execution_count": 39,
   "metadata": {},
   "outputs": [],
   "source": [
    "from vaderSentiment.vaderSentiment import SentimentIntensityAnalyzer"
   ]
  },
  {
   "cell_type": "code",
   "execution_count": 40,
   "metadata": {},
   "outputs": [
    {
     "name": "stdout",
     "output_type": "stream",
     "text": [
      "community 0.19559909909909903 0.02484684684684685 0.7795720720720711 0.33815045045045045\n",
      "le monde 0.1768031914893617 0.043409574468085105 0.779803191489362 0.21942765957446791\n",
      "heights 0.17822580645161298 0.03373548387096774 0.7880258064516134 0.2874\n",
      "amigos 0.18400938967136146 0.047755868544600934 0.7682441314553989 0.2574319248826291\n"
     ]
    }
   ],
   "source": [
    "headers = ['pos','neg','neu','compound']\n",
    "texts = restaurant_data\n",
    "analyzer = SentimentIntensityAnalyzer()\n",
    "for i in range(len(texts)):\n",
    "    name = texts[i][0]\n",
    "    sentences = sent_tokenize(texts[i][1])\n",
    "    pos=compound=neu=neg=0\n",
    "    for sentence in sentences:\n",
    "        vs = analyzer.polarity_scores(sentence)\n",
    "        pos+=vs['pos']/(len(sentences))\n",
    "        compound+=vs['compound']/(len(sentences))\n",
    "        neu+=vs['neu']/(len(sentences))\n",
    "        neg+=vs['neg']/(len(sentences))\n",
    "    print(name,pos,neg,neu,compound)"
   ]
  },
  {
   "cell_type": "markdown",
   "metadata": {},
   "source": [
    "<h4>And functionalize this as well</h4>"
   ]
  },
  {
   "cell_type": "code",
   "execution_count": 41,
   "metadata": {},
   "outputs": [],
   "source": [
    "def vader_comparison(texts):\n",
    "    from vaderSentiment.vaderSentiment import SentimentIntensityAnalyzer\n",
    "    headers = ['pos','neg','neu','compound']\n",
    "    print(\"Name\\t\",'  pos\\t','neg\\t','neu\\t','compound')\n",
    "    analyzer = SentimentIntensityAnalyzer()\n",
    "    for i in range(len(texts)):\n",
    "        name = texts[i][0]\n",
    "        sentences = sent_tokenize(texts[i][1])\n",
    "        pos=compound=neu=neg=0\n",
    "        for sentence in sentences:\n",
    "            vs = analyzer.polarity_scores(sentence)\n",
    "            pos+=vs['pos']/(len(sentences))\n",
    "            compound+=vs['compound']/(len(sentences))\n",
    "            neu+=vs['neu']/(len(sentences))\n",
    "            neg+=vs['neg']/(len(sentences))\n",
    "        print('%-10s'%name,'%1.2f\\t'%pos,'%1.2f\\t'%neg,'%1.2f\\t'%neu,'%1.2f\\t'%compound)"
   ]
  },
  {
   "cell_type": "code",
   "execution_count": 42,
   "metadata": {},
   "outputs": [
    {
     "name": "stdout",
     "output_type": "stream",
     "text": [
      "Name\t   pos\t neg\t neu\t compound\n",
      "community  0.20\t 0.02\t 0.78\t 0.34\t\n",
      "le monde   0.18\t 0.04\t 0.78\t 0.22\t\n",
      "heights    0.18\t 0.03\t 0.79\t 0.29\t\n",
      "amigos     0.18\t 0.05\t 0.77\t 0.26\t\n"
     ]
    }
   ],
   "source": [
    "vader_comparison(restaurant_data)"
   ]
  },
  {
   "cell_type": "markdown",
   "metadata": {
    "collapsed": true
   },
   "source": [
    "<h2>Named Entities</h2>\n",
    "<h4>People, places, organizations</h4>\n",
    "Named entities are often the subject of sentiments so identifying them can be very useful"
   ]
  },
  {
   "cell_type": "markdown",
   "metadata": {},
   "source": [
    "<h4>Named entity detection is based on Part-of-speech tagging of words and chunks (groups of words)</h4>\n",
    "<li>Start with sentences (using a sentence tokenizer)\n",
    "<li>tokenize words in each sentence\n",
    "<li>chunk them. ne_chunk identifies likely chunked candidates (ne = named entity)\n",
    "<li>Finally build chunks using nltk's guess on what members of chunk represent (people, place, organization)\n"
   ]
  },
  {
   "cell_type": "code",
   "execution_count": 30,
   "metadata": {},
   "outputs": [
    {
     "name": "stdout",
     "output_type": "stream",
     "text": [
      "{   'America': ['GPE', 'NNP'],\n",
      "    'Awesome': ['GPE', 'NNP'],\n",
      "    'BEST': ['ORGANIZATION', 'NNP'],\n",
      "    'Bill': ['PERSON', 'NN'],\n",
      "    'Boston': ['GPE', 'NNP'],\n",
      "    'Bottomless': ['GPE', 'NNP'],\n",
      "    'Broadway': ['GPE', 'NNP'],\n",
      "    'Brooklyn': ['GPE', 'NNP'],\n",
      "    'Brunch': ['PERSON', 'NNP'],\n",
      "    'CU': ['ORGANIZATION', 'NNP'],\n",
      "    'Came': ['GPE', 'NN'],\n",
      "    'Cana': ['PERSON', 'NNP'],\n",
      "    'Cheaper': ['GPE', 'NNP'],\n",
      "    'Colombia': ['GPE', 'NNP'],\n",
      "    'Columbia': ['GPE', 'NNP'],\n",
      "    'Columbia University': ['ORGANIZATION', 'NNP NNP'],\n",
      "    'Columbian': ['GPE', 'JJ'],\n",
      "    'Community': ['ORGANIZATION', 'NNP'],\n",
      "    'Community Food': ['ORGANIZATION', 'NNP NNP'],\n",
      "    'Company': ['ORGANIZATION', 'NNP'],\n",
      "    'Country Breakfast': ['ORGANIZATION', 'NNP NNP'],\n",
      "    'Delish': ['GPE', 'NNP'],\n",
      "    'Dinner': ['GPE', 'NN'],\n",
      "    'Disclaimer': ['GPE', 'NN'],\n",
      "    'Everyone': ['GPE', 'NN'],\n",
      "    'FRESH': ['ORGANIZATION', 'NNP'],\n",
      "    'Fire Island Beer': ['ORGANIZATION', 'NNP NNP NNP'],\n",
      "    'Flor': ['GPE', 'NNP'],\n",
      "    'French': ['GPE', 'JJ'],\n",
      "    'GF': ['ORGANIZATION', 'NNP'],\n",
      "    'GLUTEN': ['ORGANIZATION', 'NNP'],\n",
      "    'GOOD': ['ORGANIZATION', 'JJ'],\n",
      "    'GREAT FOR': ['ORGANIZATION', 'NNP NNP'],\n",
      "    'Greendale Community College': ['PERSON', 'NNP NNP NNP'],\n",
      "    'HOURS': ['ORGANIZATION', 'NNP'],\n",
      "    'Huevos Rancheros': ['ORGANIZATION', 'NNP NNP'],\n",
      "    'Jeff Winger': ['PERSON', 'NNP NNP'],\n",
      "    'LA': ['GPE', 'NNP'],\n",
      "    'Lighthouse': ['ORGANIZATION', 'NNP'],\n",
      "    'Midtown': ['GPE', 'NNP'],\n",
      "    'Morningside': ['GPE', 'NNP'],\n",
      "    'NBC': ['ORGANIZATION', 'NNP'],\n",
      "    'NOT': ['ORGANIZATION', 'NNP'],\n",
      "    'NYC': ['ORGANIZATION', 'NNP'],\n",
      "    'New York': ['GPE', 'NNP NNP'],\n",
      "    'Newbury': ['ORGANIZATION', 'NNP'],\n",
      "    'Nom': ['GPE', 'NNP'],\n",
      "    'Overall': ['GPE', 'JJ'],\n",
      "    'Overpriced': ['GPE', 'NNP'],\n",
      "    'POTATO': ['ORGANIZATION', 'NNP'],\n",
      "    'REAL': ['ORGANIZATION', 'JJ'],\n",
      "    'Sam D.': ['PERSON', 'NNP NNP'],\n",
      "    'Screen': ['GPE', 'NN'],\n",
      "    'Service': ['GPE', 'NNP'],\n",
      "    'Sigh': ['GPE', 'NNP'],\n",
      "    'Solid': ['GPE', 'NNP'],\n",
      "    'Stephanie': ['PERSON', 'NNP'],\n",
      "    'THE': ['ORGANIZATION', 'NNP'],\n",
      "    'Thanks': ['GPE', 'NNS'],\n",
      "    'Troy Barnes': ['ORGANIZATION', 'NN NNPS'],\n",
      "    'VERY': ['ORGANIZATION', 'NNP'],\n",
      "    'Vast': ['GPE', 'JJ'],\n",
      "    'Veggie': ['GPE', 'NNP'],\n",
      "    'Yahoo': ['ORGANIZATION', 'NN']}\n"
     ]
    }
   ],
   "source": [
    "en={}\n",
    "try:\n",
    "    sent_detector = nltk.data.load('tokenizers/punkt/english.pickle')\n",
    "    sentences = sent_detector.tokenize(community_data.raw().strip())\n",
    "    for sentence in sentences:\n",
    "            tokenized = nltk.word_tokenize(sentence)\n",
    "            tagged = nltk.pos_tag(tokenized)\n",
    "            chunked = nltk.ne_chunk(tagged)\n",
    "            for tree in chunked:\n",
    "                if hasattr(tree, 'label'):\n",
    "                    ne = ' '.join(c[0] for c in tree.leaves())\n",
    "                    en[ne] = [tree.label(), ' '.join(c[1] for c in tree.leaves())]\n",
    "except Exception as e:\n",
    "    print(str(e))\n",
    "import pprint\n",
    "pp = pprint.PrettyPrinter(indent=4)\n",
    "pp.pprint(en)"
   ]
  },
  {
   "cell_type": "markdown",
   "metadata": {},
   "source": [
    "<h4>Assuming we've done a good job of identifying named entities, we can get an affect score on entities</h4>"
   ]
  },
  {
   "cell_type": "code",
   "execution_count": 44,
   "metadata": {},
   "outputs": [
    {
     "name": "stdout",
     "output_type": "stream",
     "text": [
      "Name\t   pos\t neg\t neu\t compound\n",
      "1          0.00\t 0.00\t 1.00\t 0.00\t\n",
      "2          0.09\t 0.12\t 0.79\t -0.17\t\n",
      "3          0.50\t 0.00\t 0.50\t 0.84\t\n",
      "4          0.28\t 0.00\t 0.71\t 0.49\t\n",
      "5          0.19\t 0.00\t 0.81\t 0.49\t\n",
      "6          0.34\t 0.00\t 0.66\t 0.74\t\n"
     ]
    }
   ],
   "source": [
    "meaningful_sents = list()\n",
    "i=0\n",
    "for sentence in sentences:\n",
    "    if 'service' in sentence:\n",
    "        i+=1\n",
    "        meaningful_sents.append((i,sentence))\n",
    "\n",
    "vader_comparison(meaningful_sents)       "
   ]
  },
  {
   "cell_type": "markdown",
   "metadata": {},
   "source": [
    "<h4>We could also develop a affect calculator for common terms in our domain (e.g., food items)</h4>"
   ]
  },
  {
   "cell_type": "code",
   "execution_count": null,
   "metadata": {},
   "outputs": [],
   "source": [
    "def get_affect(text,word,lower=False):\n",
    "    import nltk\n",
    "    from vaderSentiment.vaderSentiment import SentimentIntensityAnalyzer\n",
    "    analyzer = SentimentIntensityAnalyzer()\n",
    "    sent_detector = nltk.data.load('tokenizers/punkt/english.pickle')\n",
    "    sentences = sent_detector.tokenize(text.strip())\n",
    "    sentence_count = 0\n",
    "    running_total = 0\n",
    "    for sentence in sentences:\n",
    "        if lower: sentence = sentence.lower()\n",
    "        if word in sentence:\n",
    "            vs = analyzer.polarity_scores(sentence) \n",
    "            running_total += vs['compound']\n",
    "            sentence_count += 1\n",
    "    if sentence_count == 0: return 0\n",
    "    return running_total/sentence_count"
   ]
  },
  {
   "cell_type": "code",
   "execution_count": null,
   "metadata": {},
   "outputs": [],
   "source": [
    "get_affect(community_data.raw(),'service',True)"
   ]
  },
  {
   "cell_type": "markdown",
   "metadata": {},
   "source": [
    "<h4>The nltk function concordance returns text fragments around a word</h4>"
   ]
  },
  {
   "cell_type": "code",
   "execution_count": null,
   "metadata": {},
   "outputs": [],
   "source": [
    "nltk.Text(community_data.words()).concordance('service',100)"
   ]
  },
  {
   "cell_type": "markdown",
   "metadata": {},
   "source": [
    "<h2>Text summarization</h2>\n",
    "<h4>Text summarization is useful because you can generate a short summary of a large piece of text automatically</h4>\n",
    "<h4>Then, these summaries can serve as an input into a topic analyzer to figure out what the main topic of the text is</h4>"
   ]
  },
  {
   "cell_type": "markdown",
   "metadata": {},
   "source": [
    "A naive form of summarization is to identify the most frequent words in a piece of text and use the occurrence of these words in sentences to rate the importance of a sentence. "
   ]
  },
  {
   "cell_type": "markdown",
   "metadata": {},
   "source": [
    "<h4>First the imports</h4>"
   ]
  },
  {
   "cell_type": "code",
   "execution_count": 31,
   "metadata": {},
   "outputs": [],
   "source": [
    "from nltk.tokenize import word_tokenize\n",
    "from nltk.tokenize import sent_tokenize\n",
    "from nltk.probability import FreqDist\n",
    "from nltk.corpus import stopwords\n",
    "from collections import OrderedDict\n",
    "import pprint"
   ]
  },
  {
   "cell_type": "markdown",
   "metadata": {},
   "source": [
    "<h4>Then prep the text. Get did of end of line chars</h4>"
   ]
  },
  {
   "cell_type": "code",
   "execution_count": 32,
   "metadata": {},
   "outputs": [],
   "source": [
    "text = community_data.raw()\n",
    "summary_sentences = []\n",
    "candidate_sentences = {}\n",
    "candidate_sentence_counts = {}\n",
    "striptext = text.replace('\\n\\n', ' ')\n",
    "striptext = striptext.replace('\\n', ' ')"
   ]
  },
  {
   "cell_type": "markdown",
   "metadata": {},
   "source": [
    "<h4>Construct a list of words after getting rid of unimportant ones and numbers</h4>"
   ]
  },
  {
   "cell_type": "code",
   "execution_count": 33,
   "metadata": {},
   "outputs": [],
   "source": [
    "words = word_tokenize(striptext)\n",
    "lowercase_words = [word.lower() for word in words\n",
    "                  if word not in stopwords.words() and word.isalpha()]\n"
   ]
  },
  {
   "cell_type": "markdown",
   "metadata": {},
   "source": [
    "<h4>Construct word frequencies and choose the most common n (20)</h4>"
   ]
  },
  {
   "cell_type": "code",
   "execution_count": 34,
   "metadata": {},
   "outputs": [
    {
     "name": "stdout",
     "output_type": "stream",
     "text": [
      "[   ('i', 73),\n",
      "    ('the', 46),\n",
      "    ('food', 20),\n",
      "    ('brunch', 20),\n",
      "    ('good', 19),\n",
      "    ('place', 15),\n",
      "    ('nice', 13),\n",
      "    ('ordered', 13),\n",
      "    ('pancakes', 13),\n",
      "    ('fresh', 13),\n",
      "    ('came', 13),\n",
      "    ('my', 12),\n",
      "    ('coffee', 12),\n",
      "    ('delicious', 12),\n",
      "    ('we', 10),\n",
      "    ('community', 10),\n",
      "    ('eggs', 10),\n",
      "    ('friend', 10),\n",
      "    ('get', 9),\n",
      "    ('columbia', 8)]\n"
     ]
    }
   ],
   "source": [
    "word_frequencies = FreqDist(lowercase_words)\n",
    "most_frequent_words = FreqDist(lowercase_words).most_common(20)\n",
    "pp = pprint.PrettyPrinter(indent=4)\n",
    "pp.pprint(most_frequent_words)"
   ]
  },
  {
   "cell_type": "markdown",
   "metadata": {},
   "source": [
    "<h4>lowercase the sentences</h4>\n",
    "candidate_sentences is a dictionary with the original sentence as the key, and its lowercase version as the value"
   ]
  },
  {
   "cell_type": "code",
   "execution_count": 49,
   "metadata": {},
   "outputs": [
    {
     "data": {
      "text/plain": [
       "{'I ate here Monday night for a working dinner with a coworker.': 'i ate here monday night for a working dinner with a coworker.',\n",
       " \"I immediately saw its reason for name, beyond the owner's fandom of the show of the same name: the tablet setup are nearly all communal long tables.\": \"i immediately saw its reason for name, beyond the owner's fandom of the show of the same name: the tablet setup are nearly all communal long tables.\",\n",
       " \"There're rather few non-shared tables which is fine as not only is NYC filled with such setup but there's a liveliness in the Columbia area vibe which prefers this setup.\": \"there're rather few non-shared tables which is fine as not only is nyc filled with such setup but there's a liveliness in the columbia area vibe which prefers this setup.\",\n",
       " \"There's a shortage of such nice sit-down restaurants in the Columbia area so this place is not only capitalizing on its presence but doing so with great style and flare.\": \"there's a shortage of such nice sit-down restaurants in the columbia area so this place is not only capitalizing on its presence but doing so with great style and flare.\",\n",
       " \"I ordered the beef burger which was very juicy, perfectly lean, well sauced, cooked as desired (medium-well, for those who wonder), and paired with a dill pickle, a handmade cole slaw that lacked mayo (which is good as mayo's pure trans-fat), and a spindle of fries.\": \"i ordered the beef burger which was very juicy, perfectly lean, well sauced, cooked as desired (medium-well, for those who wonder), and paired with a dill pickle, a handmade cole slaw that lacked mayo (which is good as mayo's pure trans-fat), and a spindle of fries.\",\n",
       " 'My coworker got the salmon sandwich, same review applies.': 'my coworker got the salmon sandwich, same review applies.',\n",
       " \"Awesome bar alongside, but we didn't patronize it.\": \"awesome bar alongside, but we didn't patronize it.\",\n",
       " 'Vast amounts of seating and an open kitchen where tons of food is prepared live makes for a fun environ.': 'vast amounts of seating and an open kitchen where tons of food is prepared live makes for a fun environ.',\n",
       " 'I accidentally left my headphones, called to ask if it was found, and fetched them the day later.': 'i accidentally left my headphones, called to ask if it was found, and fetched them the day later.',\n",
       " \"The staff were so helpful, kind, and soft-spoken about recovering and returning it that I'm duly humbled.\": \"the staff were so helpful, kind, and soft-spoken about recovering and returning it that i'm duly humbled.\",\n",
       " 'Thanks, all!': 'thanks, all!',\n",
       " 'The food here is quite good, and I have no complaints in that area.': 'the food here is quite good, and i have no complaints in that area.',\n",
       " 'The reason for only two stars is the cost of that food--OMG are they overpriced.': 'the reason for only two stars is the cost of that food--omg are they overpriced.',\n",
       " 'My wife and I went here for breakfast.': 'my wife and i went here for breakfast.',\n",
       " 'We each ordered blueberry pancakes and a cup of coffee--no fresh fruit, no juice, no bacon.': 'we each ordered blueberry pancakes and a cup of coffee--no fresh fruit, no juice, no bacon.',\n",
       " 'The pancakes were $13 and the coffee was $4, so the initial bill was $34.': 'the pancakes were $13 and the coffee was $4, so the initial bill was $34.',\n",
       " 'The tax was $3, and I left a tip of $6--resulting in a final total of $43 for a breakfast of flapjacks and coffee.': 'the tax was $3, and i left a tip of $6--resulting in a final total of $43 for a breakfast of flapjacks and coffee.',\n",
       " 'Now I know this is NY and costs here are higher--but $43!': 'now i know this is ny and costs here are higher--but $43!',\n",
       " 'Ugh!': 'ugh!',\n",
       " 'There are a lot of nice places in the city where you can get a very good breakfast for 1/3rd to 1/2 less than Community.': 'there are a lot of nice places in the city where you can get a very good breakfast for 1/3rd to 1/2 less than community.',\n",
       " 'I recommend you seek them out.': 'i recommend you seek them out.',\n",
       " 'This is such a good brunch spot!': 'this is such a good brunch spot!',\n",
       " 'The food, service & ambiance was exactly what we were looking for.': 'the food, service & ambiance was exactly what we were looking for.',\n",
       " 'We sat at an adorable table on the outdoor patio and our waiter (sadly forgot his name) was awesome.': 'we sat at an adorable table on the outdoor patio and our waiter (sadly forgot his name) was awesome.',\n",
       " 'I started with a raspberry iced tea & ordered the community custom egg white omelette with sautéed spinach & mushrooms and a side of smoked salmon.': 'i started with a raspberry iced tea & ordered the community custom egg white omelette with sautéed spinach & mushrooms and a side of smoked salmon.',\n",
       " 'The omelette was thin (I would ask for eggs more well done next time) and was jam packed with veggies.': 'the omelette was thin (i would ask for eggs more well done next time) and was jam packed with veggies.',\n",
       " 'The mushrooms were perfectly cooked.': 'the mushrooms were perfectly cooked.',\n",
       " 'The salmon was so fresh and delicious.': 'the salmon was so fresh and delicious.',\n",
       " 'My friend got the house smoked salmon plate.': 'my friend got the house smoked salmon plate.',\n",
       " 'He loved it!': 'he loved it!',\n",
       " 'I used some of the chive cream cheese on the toast that came with the eggs - highly recommend asking for some on the side!': 'i used some of the chive cream cheese on the toast that came with the eggs - highly recommend asking for some on the side!',\n",
       " 'We also shared & loved the fruit salad.': 'we also shared & loved the fruit salad.',\n",
       " 'We were pleasantly surprised by how big it was and the fruit was all very fresh.': 'we were pleasantly surprised by how big it was and the fruit was all very fresh.',\n",
       " 'Overall, great brunch & highly recommend for a lovely brunch!': 'overall, great brunch & highly recommend for a lovely brunch!',\n",
       " 'Such a cute neighborhood spot and perfect for a pre-park brunch.': 'such a cute neighborhood spot and perfect for a pre-park brunch.',\n",
       " 'This place is great for Brunch.': 'this place is great for brunch.',\n",
       " 'I went with my mom and my brother.': 'i went with my mom and my brother.',\n",
       " 'Even though they were super busy, they were able to seat us right away, and our food came in a timely manner.': 'even though they were super busy, they were able to seat us right away, and our food came in a timely manner.',\n",
       " 'The server was very friendly and sensitive to my dietary restrictions.': 'the server was very friendly and sensitive to my dietary restrictions.',\n",
       " 'The food was very fresh, and the chefs knew exactly what they were doing.': 'the food was very fresh, and the chefs knew exactly what they were doing.',\n",
       " 'I ordered the eggs benedict florentine.': 'i ordered the eggs benedict florentine.',\n",
       " 'The hollandaise sauce was perfect: smooth and mildly tart.': 'the hollandaise sauce was perfect: smooth and mildly tart.',\n",
       " 'The biscuit under it was cooked to perfection.': 'the biscuit under it was cooked to perfection.',\n",
       " 'The eggs were perfect: solid on the outside, runny on the inside.': 'the eggs were perfect: solid on the outside, runny on the inside.',\n",
       " 'However, the spinach although cooked well, kind of took away from the dish.': 'however, the spinach although cooked well, kind of took away from the dish.',\n",
       " 'It was difficult to cut along with everything else, and pulling the spinach out from under the uncut part made parts of the egg fall off the biscuit.': 'it was difficult to cut along with everything else, and pulling the spinach out from under the uncut part made parts of the egg fall off the biscuit.',\n",
       " 'Had the spinach been softer, this would have been more enjoyable to eat.': 'had the spinach been softer, this would have been more enjoyable to eat.',\n",
       " 'Otherwise, it tasted delicious.': 'otherwise, it tasted delicious.',\n",
       " 'My brother had the Huevos Rancheros.': 'my brother had the huevos rancheros.',\n",
       " 'I wish I had ordered that instead.': 'i wish i had ordered that instead.',\n",
       " 'It was delicious.': 'it was delicious.',\n",
       " 'His eggs were sunny side up, and perfectly runny.': 'his eggs were sunny side up, and perfectly runny.',\n",
       " 'The beans were seasoned perfectly, as was the rest of the tomato sauce, The tortilla was fresh and soft, and it came with delicious guacamole and sour cream.': 'the beans were seasoned perfectly, as was the rest of the tomato sauce, the tortilla was fresh and soft, and it came with delicious guacamole and sour cream.',\n",
       " 'My mother ordered the frittata, which was also very good.': 'my mother ordered the frittata, which was also very good.',\n",
       " 'As per her request, they put less goat cheese.': 'as per her request, they put less goat cheese.',\n",
       " 'The flavors blended very well together.': 'the flavors blended very well together.',\n",
       " 'The portobello mushrooms were cut into small enough pieces to fit in one bite, but were soft enough to cut further if they were too big for you.': 'the portobello mushrooms were cut into small enough pieces to fit in one bite, but were soft enough to cut further if they were too big for you.',\n",
       " 'The frittata itself was soft and fluffy without being undercooked.': 'the frittata itself was soft and fluffy without being undercooked.',\n",
       " 'Their coffee is from Brooklyn Roasting Company.': 'their coffee is from brooklyn roasting company.',\n",
       " \"I don't normally drink coffee, but I would have had a whole cup of it had I not ordered the hot chocolate, which was also delicious.\": \"i don't normally drink coffee, but i would have had a whole cup of it had i not ordered the hot chocolate, which was also delicious.\",\n",
       " 'The hot chocolate was made with real cocoa powder and milk.': 'the hot chocolate was made with real cocoa powder and milk.',\n",
       " 'I gave this place four stars instead of five because of the consistency of the spinach in the eggs benedict florentine.': 'i gave this place four stars instead of five because of the consistency of the spinach in the eggs benedict florentine.',\n",
       " \"Otherwise, I'd have given this place five stars.\": \"otherwise, i'd have given this place five stars.\",\n",
       " 'Veggie sandwich on gluten free bread here.': 'veggie sandwich on gluten free bread here.',\n",
       " 'Nom nommmm.': 'nom nommmm.',\n",
       " 'The veggies were perfect and fresh!': 'the veggies were perfect and fresh!',\n",
       " 'Unfortunately, the GF bread is an upcharge for a sandwich half the size of the normal sandwich.': 'unfortunately, the gf bread is an upcharge for a sandwich half the size of the normal sandwich.',\n",
       " 'Still delicious, but sad when you see your non-GF friend with a full size sandwich.': 'still delicious, but sad when you see your non-gf friend with a full size sandwich.',\n",
       " 'I wish I took a picture, but I dug right in due to brunch hunger and slow service.': 'i wish i took a picture, but i dug right in due to brunch hunger and slow service.',\n",
       " \"I'd come back again, but be sure to have a snack before if you are feeling at all hungry like me.\": \"i'd come back again, but be sure to have a snack before if you are feeling at all hungry like me.\",\n",
       " 'I came here on a Saturday morning with one of my friends without a reservation around 10:30 am and luckily we were seated outside right away.': 'i came here on a saturday morning with one of my friends without a reservation around 10:30 am and luckily we were seated outside right away.',\n",
       " \"A man came over to the table and filled our waters but didn't introduce himself as our waiter so I wasn't sure if he was the busboy or the waiter; regardless, he took our drink order.\": \"a man came over to the table and filled our waters but didn't introduce himself as our waiter so i wasn't sure if he was the busboy or the waiter; regardless, he took our drink order.\",\n",
       " 'I ordered a mimosa, which was pretty good, and my friend ordered a coffee which was served in a huge mug.': 'i ordered a mimosa, which was pretty good, and my friend ordered a coffee which was served in a huge mug.',\n",
       " 'We both then ordered the breakfast biscuit.': 'we both then ordered the breakfast biscuit.',\n",
       " 'I was not a big fan of the sausage that was served with it and would much more have preferred bacon but overall it was good.': 'i was not a big fan of the sausage that was served with it and would much more have preferred bacon but overall it was good.',\n",
       " 'And the carrot hash browns were yummy too!': 'and the carrot hash browns were yummy too!',\n",
       " \"They were mostly made of potato with hints of carrots, so it wasn't too carroty.\": \"they were mostly made of potato with hints of carrots, so it wasn't too carroty.\",\n",
       " 'The bathrooms were also clean!': 'the bathrooms were also clean!',\n",
       " 'My friend and I had a very good time.': 'my friend and i had a very good time.',\n",
       " \"I've come here several times with a friend for brunch and once for dinner -- we've both really enjoyed a lot of the breakfast foods available; my favorite is the brioche French toast with blackberry and lemon curd & she loves heir waffles.\": \"i've come here several times with a friend for brunch and once for dinner -- we've both really enjoyed a lot of the breakfast foods available; my favorite is the brioche french toast with blackberry and lemon curd & she loves heir waffles.\",\n",
       " 'Their maple butter sauce light, sweet and adds a nice taste as opposed to heavier syrups.': 'their maple butter sauce light, sweet and adds a nice taste as opposed to heavier syrups.',\n",
       " 'If you come between 8-9am they have a pancake deal (blueberry or chocolate and a coffee or OJ for $12, not bad considering the area and average prices.': 'if you come between 8-9am they have a pancake deal (blueberry or chocolate and a coffee or oj for $12, not bad considering the area and average prices.',\n",
       " \"Pancakes were fluffy and very filling)  Their lattes sometimes taste a bit burnt and not mixed properly -- don't waste your money.\": \"pancakes were fluffy and very filling)  their lattes sometimes taste a bit burnt and not mixed properly -- don't waste your money.\",\n",
       " 'Dinner looked pretty...and that was all.': 'dinner looked pretty...and that was all.',\n",
       " 'Overpriced small portions that were essentially inedible.': 'overpriced small portions that were essentially inedible.',\n",
       " 'Dinner on Tuesday, usually a quiet affair, but given that Community is one of few good spots on Broadway for a good sit down, even at 6:30 p.m. it was bumping.': 'dinner on tuesday, usually a quiet affair, but given that community is one of few good spots on broadway for a good sit down, even at 6:30 p.m. it was bumping.',\n",
       " \"I work at CU, and may be one of the few people that's never been to Community before.\": \"i work at cu, and may be one of the few people that's never been to community before.\",\n",
       " 'Nice little tip, they have a deal between 5 pm and 7 pm on weekdays - beef burger and beer for $16.': 'nice little tip, they have a deal between 5 pm and 7 pm on weekdays - beef burger and beer for $16.',\n",
       " 'To note - any revisions/additions to your order is $2.': 'to note - any revisions/additions to your order is $2.',\n",
       " \"Let's be honest, sometimes a man just wants some sweet sweet avocado in the cool winter months.\": \"let's be honest, sometimes a man just wants some sweet sweet avocado in the cool winter months.\",\n",
       " 'Nice little draft selection, I went for the Fire Island Beer Co. Lighthouse - nice and crisp and not hoppy - a rare breed in NYC.': 'nice little draft selection, i went for the fire island beer co. lighthouse - nice and crisp and not hoppy - a rare breed in nyc.',\n",
       " \"Our waiter Sam D. was the perfect level of attentive, there for a question and to fill our water glasses, I don't think my ever dipped below half-filled.\": \"our waiter sam d. was the perfect level of attentive, there for a question and to fill our water glasses, i don't think my ever dipped below half-filled.\",\n",
       " 'All and all a solid meal, the burger was a wee bit dry, but cooked to my specifications (medium rare).': 'all and all a solid meal, the burger was a wee bit dry, but cooked to my specifications (medium rare).',\n",
       " \"I'd be interested to check out their lunch, which alas is usually a crush of CU staff and students, but there's always summer break ...\": \"i'd be interested to check out their lunch, which alas is usually a crush of cu staff and students, but there's always summer break ...\",\n",
       " 'Came here for brunch with my wife after she found the good review, and it did not disappoint!': 'came here for brunch with my wife after she found the good review, and it did not disappoint!',\n",
       " 'We did have to wait to be seated (which is a good sign even though no one really wants to)...': 'we did have to wait to be seated (which is a good sign even though no one really wants to)...',\n",
       " 'The food is awesome!': 'the food is awesome!',\n",
       " 'Very fresh, clean, and NOT oily, which is my usually qualm.': 'very fresh, clean, and not oily, which is my usually qualm.',\n",
       " 'Disclaimer: I like diner food but it is almost always to greasy which I hate, but this place has very fresh and carefully prepared food.': 'disclaimer: i like diner food but it is almost always to greasy which i hate, but this place has very fresh and carefully prepared food.',\n",
       " 'I wanted to order everything off the menu, but settled on the juevos rancheros with side of carrot hash browns, and biscuit.': 'i wanted to order everything off the menu, but settled on the juevos rancheros with side of carrot hash browns, and biscuit.',\n",
       " 'My wife got the blueberry pancakes.': 'my wife got the blueberry pancakes.',\n",
       " 'Everything was awesome.': 'everything was awesome.',\n",
       " 'The hash browns were not the least bit greasy; the pancakes were delicious, and I really enjoyed the juevos (w/ chorizo).': 'the hash browns were not the least bit greasy; the pancakes were delicious, and i really enjoyed the juevos (w/ chorizo).',\n",
       " 'I also tried my first ever bloody mary, and it was really good.': 'i also tried my first ever bloody mary, and it was really good.',\n",
       " 'Will definitely be back!': 'will definitely be back!',\n",
       " 'This place is fantastic.': 'this place is fantastic.',\n",
       " 'Everyone is super friendly and accommodating vegetarian requests!': 'everyone is super friendly and accommodating vegetarian requests!',\n",
       " 'P.s.': 'p.s.',\n",
       " 'Your whole party has to be there to be sat!': 'your whole party has to be there to be sat!',\n",
       " 'Excellent menu!': 'excellent menu!',\n",
       " 'The seven grain waffles, blueberry pancakes with a side of turkey chorizo.': 'the seven grain waffles, blueberry pancakes with a side of turkey chorizo.',\n",
       " 'Who knew turkey chorizo existed!!!': 'who knew turkey chorizo existed!!!',\n",
       " 'All the food was amazing.': 'all the food was amazing.',\n",
       " 'My new favorite brunch spot.': 'my new favorite brunch spot.',\n",
       " 'Will be exploring more items on the menu.': 'will be exploring more items on the menu.',\n",
       " 'Service is great - our water was also filled, our coffee was replenished at appropriate times.': 'service is great - our water was also filled, our coffee was replenished at appropriate times.',\n",
       " 'The attention to the details of the flavors in the food is impeccable.': 'the attention to the details of the flavors in the food is impeccable.',\n",
       " 'The accompanying sauces and jams were so memorable and delicious!': 'the accompanying sauces and jams were so memorable and delicious!',\n",
       " 'Initially, we went for brunch in the early afternoon, but ended up staying for appetizers and split a bottle of wine.': 'initially, we went for brunch in the early afternoon, but ended up staying for appetizers and split a bottle of wine.',\n",
       " 'The staff did not make us feel guilty at all, but welcomed us to stay until their dinner hour started.': 'the staff did not make us feel guilty at all, but welcomed us to stay until their dinner hour started.',\n",
       " 'During the whole time, not one waiter came over to encourage us to pay our bill and leave.': 'during the whole time, not one waiter came over to encourage us to pay our bill and leave.',\n",
       " 'Instead, they filled our coffees and water.': 'instead, they filled our coffees and water.',\n",
       " 'Speaking of coffee - their black drip coffee from a roaster in Brooklyn is delicious!': 'speaking of coffee - their black drip coffee from a roaster in brooklyn is delicious!',\n",
       " 'Down to the last drop - it was smooth, nutty, and not bitter even cold.': 'down to the last drop - it was smooth, nutty, and not bitter even cold.',\n",
       " 'Details of the food, including the presentation of each dish.': 'details of the food, including the presentation of each dish.',\n",
       " 'The biscuit sandwich was healthy-ish as they utilized whole wheat flour.': 'the biscuit sandwich was healthy-ish as they utilized whole wheat flour.',\n",
       " 'The sausage was not fatty at all and the meat patty - although a little smaller when compared to the biscuit (meat:bread ratio) was small, it went was so tasty with the tomato jam, as well as the perfectly cooked eggs!': 'the sausage was not fatty at all and the meat patty - although a little smaller when compared to the biscuit (meat:bread ratio) was small, it went was so tasty with the tomato jam, as well as the perfectly cooked eggs!',\n",
       " 'The raspberry preserve was so fresh!': 'the raspberry preserve was so fresh!',\n",
       " 'Not overly sweet and definitely enjoyed the seeds within the preserve.': 'not overly sweet and definitely enjoyed the seeds within the preserve.',\n",
       " 'The 7 grain waffle with the fresh berries, butterscotch sauce (maple glaze?)': 'the 7 grain waffle with the fresh berries, butterscotch sauce (maple glaze?)',\n",
       " 'with FRESH whipped cream was THE BEST dish there.': 'with fresh whipped cream was the best dish there.',\n",
       " 'There was a raspberry sauce beautifully spread on the plate that added a nice tartness to the whole bite.': 'there was a raspberry sauce beautifully spread on the plate that added a nice tartness to the whole bite.',\n",
       " 'Pancakes were fluffy and they used real, non-frozen blueberries which I loved!': 'pancakes were fluffy and they used real, non-frozen blueberries which i loved!',\n",
       " 'The sauce that came with it was definitely different than the waffle glaze, so it was so tasty to discover the flavors within the glaze.': 'the sauce that came with it was definitely different than the waffle glaze, so it was so tasty to discover the flavors within the glaze.',\n",
       " 'Community is definitely one of my favorite, non-boozy brunch spots in the UWS/Morningside!': 'community is definitely one of my favorite, non-boozy brunch spots in the uws/morningside!',\n",
       " 'Will go back!': 'will go back!',\n",
       " 'Traveled up here from the upper east side to get away from the usual brunch places.': 'traveled up here from the upper east side to get away from the usual brunch places.',\n",
       " 'Only a 20 minute bus ride from 79th, very easy to get to.': 'only a 20 minute bus ride from 79th, very easy to get to.',\n",
       " 'Came on Sunday near 1pm and it was VERY busy, ended up waiting an hour and a half (1 hour more than we were told) however, the food was ah-mazing.': 'came on sunday near 1pm and it was very busy, ended up waiting an hour and a half (1 hour more than we were told) however, the food was ah-mazing.',\n",
       " 'Everything looks and sounds good and this place smells like heaven.': 'everything looks and sounds good and this place smells like heaven.',\n",
       " 'I had the special of 2 fried eggs, vegetable ragout, bacon and truffle vinaigrette and it was Delish.': 'i had the special of 2 fried eggs, vegetable ragout, bacon and truffle vinaigrette and it was delish.',\n",
       " \"Cheaper brunch cocktails than most places (only $10....but yes, it is nyc where most are $14+) if I have one recommendation, it's the POTATO PANCAKES!!!\": \"cheaper brunch cocktails than most places (only $10....but yes, it is nyc where most are $14+) if i have one recommendation, it's the potato pancakes!!!\",\n",
       " 'SO GOOD, My bf and I split them.': 'so good, my bf and i split them.',\n",
       " 'He had the pancakes and said they were the best he had in the city.': 'he had the pancakes and said they were the best he had in the city.',\n",
       " 'Also GREAT FOR GLUTEN FREE!': 'also great for gluten free!',\n",
       " 'I am gluten/dairy intolerant and they were able to fully accommodate me.': 'i am gluten/dairy intolerant and they were able to fully accommodate me.',\n",
       " \"Also super close to Colombia's main campus, great place to walk around and digest.\": \"also super close to colombia's main campus, great place to walk around and digest.\",\n",
       " '2 HOURS AND NO FOOD!': '2 hours and no food!',\n",
       " 'Sunday Brunch July 13th 2014.': 'sunday brunch july 13th 2014.',\n",
       " \"We had to wait 30 minuets for a seat OK Sunday brunch it's popular.\": \"we had to wait 30 minuets for a seat ok sunday brunch it's popular.\",\n",
       " '15 minuets wait for the wait staff, 45 minuets before we got the wrong dish!': '15 minuets wait for the wait staff, 45 minuets before we got the wrong dish!',\n",
       " 'another 30 minuets still no food we left.': 'another 30 minuets still no food we left.',\n",
       " 'They where gracious enough not to charge for the momosasas.': 'they where gracious enough not to charge for the momosasas.',\n",
       " 'Community is a brunch place next to Columbia.': 'community is a brunch place next to columbia.',\n",
       " 'I came here one day to meet up with my cousin who studies at Columbia.': 'i came here one day to meet up with my cousin who studies at columbia.',\n",
       " 'Seated around 10 mins on a cozy Sat morning, not too bad.': 'seated around 10 mins on a cozy sat morning, not too bad.',\n",
       " 'The interior was normal, nothing fancy, but we enjoyed window seats and a tiny desk instead of the long family style tables at the center of the restaurant which gives limited privacy.': 'the interior was normal, nothing fancy, but we enjoyed window seats and a tiny desk instead of the long family style tables at the center of the restaurant which gives limited privacy.',\n",
       " 'I really like the hanging lights from the ceiling which is quite cute.': 'i really like the hanging lights from the ceiling which is quite cute.',\n",
       " 'The ground leveled glass windows allow you to see the views outside- it is a nice change from the busy pedestrians and giant high rise buildings view of the typical New York street cues in Midtown.': 'the ground leveled glass windows allow you to see the views outside- it is a nice change from the busy pedestrians and giant high rise buildings view of the typical new york street cues in midtown.',\n",
       " 'Morningside feels more like a college town with older residential building and quieter streets.': 'morningside feels more like a college town with older residential building and quieter streets.',\n",
       " 'Despite the 3.5 stars I was pleasantly surprised at the food here.': 'despite the 3.5 stars i was pleasantly surprised at the food here.',\n",
       " 'I thought it was delicious!': 'i thought it was delicious!',\n",
       " \"Much better than my experience at Stephanie's at Newbury in Boston or even many of the brunch places I've been in LA.\": \"much better than my experience at stephanie's at newbury in boston or even many of the brunch places i've been in la.\",\n",
       " 'We ordered the morning specials : 7 grains waffle and truffle egg dish.': 'we ordered the morning specials : 7 grains waffle and truffle egg dish.',\n",
       " '-7 grains waffle: had vanilla cream, raspberry, cherry, and toasted nuts.': '-7 grains waffle: had vanilla cream, raspberry, cherry, and toasted nuts.',\n",
       " 'Tasted slightly more chewy than the usual waffle with flour, and on top there was marinated peach slices and cream.': 'tasted slightly more chewy than the usual waffle with flour, and on top there was marinated peach slices and cream.',\n",
       " \"I really like how it wasn't hard and overly sweet- especially how the toasted nuts added a level of crunchiness to the heaviness of the cream.\": \"i really like how it wasn't hard and overly sweet- especially how the toasted nuts added a level of crunchiness to the heaviness of the cream.\",\n",
       " '- The truffle egg dish: had sausage, potatoes, some leafy greens, sautéed mushrooms, and poached egg on top.': '- the truffle egg dish: had sausage, potatoes, some leafy greens, sautéed mushrooms, and poached egg on top.',\n",
       " 'To be honest I  could not tasted the truffle at all, besides the garlic and the pepper and the salt; however with this mix it can hardly go wrong.': 'to be honest i  could not tasted the truffle at all, besides the garlic and the pepper and the salt; however with this mix it can hardly go wrong.',\n",
       " 'It was flavorful and not overly salty.': 'it was flavorful and not overly salty.',\n",
       " 'The only thing I guess I can \"complain\" is that the dishes were small.': 'the only thing i guess i can \"complain\" is that the dishes were small.',\n",
       " \"Bill came up to be around 50, which isn't exactly cheap considering how small the portions are- but justifiable still due to the taste.\": \"bill came up to be around 50, which isn't exactly cheap considering how small the portions are- but justifiable still due to the taste.\",\n",
       " 'Overpriced, oversized, oversweet... Oh wait, this is America.': 'overpriced, oversized, oversweet... oh wait, this is america.',\n",
       " 'The pancakes with banana and walnut were okay.': 'the pancakes with banana and walnut were okay.',\n",
       " 'They could have done without the maple butter and walnuts and would have been better with maple syrup.': 'they could have done without the maple butter and walnuts and would have been better with maple syrup.',\n",
       " \"I'd rather have paid half price for half the portion.\": \"i'd rather have paid half price for half the portion.\",\n",
       " 'Bottomless coffee was standard.': 'bottomless coffee was standard.',\n",
       " 'The waitress serving our table was polite and courteous considering how many customers she was dealing with.': 'the waitress serving our table was polite and courteous considering how many customers she was dealing with.',\n",
       " 'Having seen the title of this place, I did expect somewhere a little cosier, trendier, more rustic and more inviting.': 'having seen the title of this place, i did expect somewhere a little cosier, trendier, more rustic and more inviting.',\n",
       " 'The interior was a little canteenish and there were only a couple of juices on the menu.': 'the interior was a little canteenish and there were only a couple of juices on the menu.',\n",
       " \"I wouldn't go back at these prices and with these crowds.\": \"i wouldn't go back at these prices and with these crowds.\",\n",
       " '\"I have a degree from Columbia, and now I have to get one from America.\"': '\"i have a degree from columbia, and now i have to get one from america.\"',\n",
       " '- Jeff Winger, Community.': '- jeff winger, community.',\n",
       " 'I came here with my friend who also is a huge fan of the show \"Community\", which used to be aired on NBC then got cancelled and then re-birthed on Yahoo!': 'i came here with my friend who also is a huge fan of the show \"community\", which used to be aired on nbc then got cancelled and then re-birthed on yahoo!',\n",
       " 'Screen.': 'screen.',\n",
       " \"That's right, Yahoo!\": \"that's right, yahoo!\",\n",
       " 'Sigh, oh how I miss the golden age of that glorious, glorious show.': 'sigh, oh how i miss the golden age of that glorious, glorious show.',\n",
       " 'My friend, however, is actually pursuing a REAL degree from Columbia University--not Colombia the country, unlike our hateable yet lovable ex-lawyer who attended Greendale Community College.': 'my friend, however, is actually pursuing a real degree from columbia university--not colombia the country, unlike our hateable yet lovable ex-lawyer who attended greendale community college.',\n",
       " \"She chose this place because of the name--I mean come on, can't get more fitting than that--and because of its proximity to Columbia's campus.\": \"she chose this place because of the name--i mean come on, can't get more fitting than that--and because of its proximity to columbia's campus.\",\n",
       " \"Community Food & Juice is literally a few blocks away, so it's perfect for students.\": \"community food & juice is literally a few blocks away, so it's perfect for students.\",\n",
       " \"On a nice New York morning, we had brunch and got to talk about everything from racist experiences to the TV show we can't quite get over.\": \"on a nice new york morning, we had brunch and got to talk about everything from racist experiences to the tv show we can't quite get over.\",\n",
       " 'The food?': 'the food?',\n",
       " 'My chocolate pancakes were pretty darn good and pretty darn rich.': 'my chocolate pancakes were pretty darn good and pretty darn rich.',\n",
       " \"I don't know what I was expecting.\": \"i don't know what i was expecting.\",\n",
       " 'In fact, the \"syrup\"--not even sure what it is (apple?)': 'in fact, the \"syrup\"--not even sure what it is (apple?)',\n",
       " 'was kind of overkill because the pancakes and chocolate were far sweet enough.': 'was kind of overkill because the pancakes and chocolate were far sweet enough.',\n",
       " 'I also got a shiso mojito which sounds fancy--and it better be for the $11 I paid for it.': 'i also got a shiso mojito which sounds fancy--and it better be for the $11 i paid for it.',\n",
       " 'Flor de Cana aged white rum, fresh lime juice, shiso-mint simple syrup, yuzu splash, muddled mint, and crushed ice made up the drink that Jeff Winger would have called a \"kid\\'s drink\".': 'flor de cana aged white rum, fresh lime juice, shiso-mint simple syrup, yuzu splash, muddled mint, and crushed ice made up the drink that jeff winger would have called a \"kid\\'s drink\".',\n",
       " \"It was pretty strong but the shiso-mint did come through, so it was worth it (I'm rationalizing the price right now).\": \"it was pretty strong but the shiso-mint did come through, so it was worth it (i'm rationalizing the price right now).\",\n",
       " 'All in all, a pleasant experience with nice service and nice company.': 'all in all, a pleasant experience with nice service and nice company.',\n",
       " \"It's not every day I get to go to New York, take some subways to meet a friend, eat some good food, get a tour of a top university, and walk away with my wallet much lighter.\": \"it's not every day i get to go to new york, take some subways to meet a friend, eat some good food, get a tour of a top university, and walk away with my wallet much lighter.\",\n",
       " 'On that note, \"It said market price.': 'on that note, \"it said market price.',\n",
       " 'What market are you shopping at!?!?!\"': 'what market are you shopping at!?!?!\"',\n",
       " '- Troy Barnes Man I love that show.': '- troy barnes man i love that show.',\n",
       " 'We stopped in for lunch.': 'we stopped in for lunch.',\n",
       " 'We had ordered three things the beet salad, the rice bowl and the veggie burger.': 'we had ordered three things the beet salad, the rice bowl and the veggie burger.',\n",
       " 'The place was packed.': 'the place was packed.',\n",
       " 'Even though it was packed service was very good.': 'even though it was packed service was very good.',\n",
       " 'The beat salad and rice bowl were delicious.': 'the beat salad and rice bowl were delicious.',\n",
       " \"Although we thought the veggie burger could've used another flavor component.\": \"although we thought the veggie burger could've used another flavor component.\",\n",
       " 'Solid breakfast place in Morningside Heights.': 'solid breakfast place in morningside heights.',\n",
       " 'I came here with a friend - we were seated promptly and service was attentive.': 'i came here with a friend - we were seated promptly and service was attentive.',\n",
       " 'The decor was beautiful and the lighting was warm - a great place for a brunch date.': 'the decor was beautiful and the lighting was warm - a great place for a brunch date.',\n",
       " 'I ordered the Country Breakfast and the eggs were delicious and fluffy, the biscuit was moist and flavorful, the carrot hash browns were warm and comforting, and the ham was sweet and juicy.': 'i ordered the country breakfast and the eggs were delicious and fluffy, the biscuit was moist and flavorful, the carrot hash browns were warm and comforting, and the ham was sweet and juicy.',\n",
       " \"Pricing was around $15 per person, which was reasonable for the quality and amount of food, especially considering it's New York.\": \"pricing was around $15 per person, which was reasonable for the quality and amount of food, especially considering it's new york.\",\n",
       " 'The restaurant is within walking distance of Columbia, and I would recommend for a nice brunch in the area!': 'the restaurant is within walking distance of columbia, and i would recommend for a nice brunch in the area!',\n",
       " 'Nice experience there.': 'nice experience there.',\n",
       " 'My friend n me went there early to enjoy pancake with fresh juice n on site coffee.': 'my friend n me went there early to enjoy pancake with fresh juice n on site coffee.',\n",
       " 'Thanks to the kind service as well,i will remember this restaurant as a Columbian.': 'thanks to the kind service as well,i will remember this restaurant as a columbian.',\n",
       " 'This place is really good for breakfast and has great pancakes, sausages, eggs.': 'this place is really good for breakfast and has great pancakes, sausages, eggs.',\n",
       " 'Although you really have to spring ti get in, since there are very big lines to eat.': 'although you really have to spring ti get in, since there are very big lines to eat.'}"
      ]
     },
     "execution_count": 49,
     "metadata": {},
     "output_type": "execute_result"
    }
   ],
   "source": [
    "sentences = sent_tokenize(striptext)\n",
    "for sentence in sentences:\n",
    "    candidate_sentences[sentence] = sentence.lower()\n",
    "candidate_sentences"
   ]
  },
  {
   "cell_type": "code",
   "execution_count": 57,
   "metadata": {},
   "outputs": [],
   "source": [
    "for long, short in candidate_sentences.items():\n",
    "    count = 0\n",
    "    for freq_word, frequency_score in most_frequent_words:\n",
    "        if freq_word in short:\n",
    "            count += frequency_score\n",
    "    candidate_sentence_counts[long] = count"
   ]
  },
  {
   "cell_type": "code",
   "execution_count": 58,
   "metadata": {},
   "outputs": [],
   "source": [
    "import collections\n",
    "orderedDict = collections.OrderedDict()\n",
    "\n",
    "\n",
    "from collections import OrderedDict"
   ]
  },
  {
   "cell_type": "code",
   "execution_count": 59,
   "metadata": {},
   "outputs": [
    {
     "name": "stdout",
     "output_type": "stream",
     "text": [
      "OrderedDict([   ('with FRESH whipped cream was THE BEST dish there.', 132),\n",
      "                (   'was kind of overkill because the pancakes and chocolate '\n",
      "                    'were far sweet enough.',\n",
      "                    142),\n",
      "                ('another 30 minuets still no food we left.', 149),\n",
      "                ('Your whole party has to be there to be sat!', 46)])\n"
     ]
    }
   ],
   "source": [
    "sorted_sentences = OrderedDict(sorted(\n",
    "                    candidate_sentence_counts.items(),\n",
    "                    key = lambda x: x[0],\n",
    "                    reverse = True)[:4])\n",
    "pp.pprint(sorted_sentences)"
   ]
  },
  {
   "cell_type": "markdown",
   "metadata": {},
   "source": [
    "<h4>Packaging all this into a function</h4>\n"
   ]
  },
  {
   "cell_type": "code",
   "execution_count": 35,
   "metadata": {},
   "outputs": [],
   "source": [
    "def build_naive_summary(text):\n",
    "    from nltk.tokenize import word_tokenize\n",
    "    from nltk.tokenize import sent_tokenize\n",
    "    from nltk.probability import FreqDist\n",
    "    from nltk.corpus import stopwords\n",
    "    from collections import OrderedDict\n",
    "    summary_sentences = []\n",
    "    candidate_sentences = {}\n",
    "    candidate_sentence_counts = {}\n",
    "    striptext = text.replace('\\n\\n', ' ')\n",
    "    striptext = striptext.replace('\\n', ' ')\n",
    "    words = word_tokenize(striptext)\n",
    "    lowercase_words = [word.lower() for word in words\n",
    "                      if word not in stopwords.words() and word.isalpha()]\n",
    "    word_frequencies = FreqDist(lowercase_words)\n",
    "    most_frequent_words = FreqDist(lowercase_words).most_common(20)\n",
    "    sentences = sent_tokenize(striptext)\n",
    "    for sentence in sentences:\n",
    "        candidate_sentences[sentence] = sentence.lower()\n",
    "    for long, short in candidate_sentences.items():\n",
    "        count = 0\n",
    "        for freq_word, frequency_score in most_frequent_words:\n",
    "            if freq_word in short:\n",
    "                count += frequency_score\n",
    "                candidate_sentence_counts[long] = count   \n",
    "    sorted_sentences = OrderedDict(sorted(\n",
    "                        candidate_sentence_counts.items(),\n",
    "                        key = lambda x: x[1],\n",
    "                        reverse = True)[:4])\n",
    "    return sorted_sentences   "
   ]
  },
  {
   "cell_type": "code",
   "execution_count": 36,
   "metadata": {},
   "outputs": [
    {
     "name": "stdout",
     "output_type": "stream",
     "text": [
      "I've come here several times with a friend for brunch and once for dinner -- we've both really enjoyed a lot of the breakfast foods available; my favorite is the brioche French toast with blackberry and lemon curd & she loves heir waffles.\n",
      "There are a lot of nice places in the city where you can get a very good breakfast for 1/3rd to 1/2 less than Community.\n",
      "Came here for brunch with my wife after she found the good review, and it did not disappoint!\n",
      "My friend n me went there early to enjoy pancake with fresh juice n on site coffee.\n"
     ]
    }
   ],
   "source": [
    "summary = '\\n'.join(build_naive_summary(community_data.raw()))\n",
    "print(summary)"
   ]
  },
  {
   "cell_type": "code",
   "execution_count": 55,
   "metadata": {},
   "outputs": [
    {
     "name": "stdout",
     "output_type": "stream",
     "text": [
      "i would recommend going for brunch over any other meal, as everything i've ordered for brunch has been quite good the shakshuka is great, and you can't anything else like it in the area.\n",
      "I would love to try them out for dinner, as I said, the service was great and we were checked on regularly.\n",
      "I would give them a better review because the food was good but the waiting really was long.\n",
      "The food was really good and they are known for their brunch menu.\n"
     ]
    }
   ],
   "source": [
    "summary = '\\n'.join(build_naive_summary(le_monde_data.raw()))\n",
    "print(summary)"
   ]
  },
  {
   "cell_type": "markdown",
   "metadata": {},
   "source": [
    "<h4>We can summarize George Washington's first inaugural speech<h4>"
   ]
  },
  {
   "cell_type": "code",
   "execution_count": 56,
   "metadata": {},
   "outputs": [
    {
     "data": {
      "text/plain": [
       "OrderedDict([('I dwell on this prospect with every satisfaction which an ardent love for my country can inspire, since there is no truth more thoroughly established than that there exists in the economy and course of nature an indissoluble union between virtue and happiness; between duty and advantage; between the genuine maxims of an honest and magnanimous policy and the solid rewards of public prosperity and felicity; since we ought to be no less persuaded that the propitious smiles of Heaven can never be expected on a nation that disregards the eternal rules of order and right which Heaven itself has ordained; and since the preservation of the sacred fire of liberty and the destiny of the republican model of government are justly considered, perhaps, as deeply, as finally, staked on the experiment entrusted to the hands of the American people.',\n",
       "              79),\n",
       "             ('Such being the impressions under which I have, in obedience to the public summons, repaired to the present station, it would be peculiarly improper to omit in this first official act my fervent supplications to that Almighty Being who rules over the universe, who presides in the councils of nations, and whose providential aids can supply every human defect, that His benediction may consecrate to the liberties and happiness of the people of the United States a Government instituted by themselves for these essential purposes, and may enable every instrument employed in its administration to execute with success the functions allotted to his charge.',\n",
       "              71),\n",
       "             ('Instead of undertaking particular recommendations on this subject, in which I could be guided by no lights derived from official opportunities, I shall again give way to my entire confidence in your discernment and pursuit of the public good; for I assure myself that whilst you carefully avoid every alteration which might endanger the benefits of an united and effective government, or which ought to await the future lessons of experience, a reverence for the characteristic rights of freemen and a regard for the public harmony will sufficiently influence your deliberations on the question how far the former can be impregnably fortified or the latter be safely and advantageously promoted.',\n",
       "              63),\n",
       "             ('Having thus imparted to you my sentiments as they have been awakened by the occasion which brings us together, I shall take my present leave; but not without resorting once more to the benign Parent of the Human Race in humble supplication that, since He has been pleased to favor the American people with opportunities for deliberating in perfect tranquillity, and dispositions for deciding with unparalleled unanimity on a form of government for the security of their union and the advancement of their happiness, so His divine blessing may be equally conspicuous in the enlarged views, the temperate consultations, and the wise measures on which the success of this Government must depend.',\n",
       "              56)])"
      ]
     },
     "execution_count": 56,
     "metadata": {},
     "output_type": "execute_result"
    }
   ],
   "source": [
    "build_naive_summary(inaugural.raw('1789-Washington.txt'))"
   ]
  },
  {
   "cell_type": "markdown",
   "metadata": {},
   "source": [
    "<h3>gensim: another text summarizer</h3>\n",
    "Gensim uses a network with sentences as nodes and 'lexical similarity' as weights on the arcs between nodes<p>\n"
   ]
  },
  {
   "cell_type": "code",
   "execution_count": 60,
   "metadata": {},
   "outputs": [],
   "source": [
    "from wordcloud import WordCloud, STOPWORDS\n",
    "import matplotlib.pyplot as plt\n",
    "%matplotlib inline\n",
    "import nltk\n",
    "from nltk.corpus import PlaintextCorpusReader\n",
    "from nltk import sent_tokenize,word_tokenize \n",
    "from nltk.book import *"
   ]
  },
  {
   "cell_type": "code",
   "execution_count": 61,
   "metadata": {},
   "outputs": [],
   "source": [
    "import nltk\n",
    "from nltk.corpus import PlaintextCorpusReader\n",
    "community_root = \"data/community\"\n",
    "le_monde_root = \"data/le_monde\"\n",
    "community_files = \"community.*\"\n",
    "le_monde_files = \"le_monde.*\"\n",
    "heights_root = \"data/heights\"\n",
    "heights_files = \"heights.*\"\n",
    "amigos_root = \"data/amigos\"\n",
    "amigos_files = \"amigos.*\"\n",
    "community_data = PlaintextCorpusReader(community_root,community_files)\n",
    "le_monde_data = PlaintextCorpusReader(le_monde_root,le_monde_files)\n",
    "heights_data = PlaintextCorpusReader(heights_root,heights_files)\n",
    "amigos_data = PlaintextCorpusReader(amigos_root,amigos_files)"
   ]
  },
  {
   "cell_type": "code",
   "execution_count": 62,
   "metadata": {},
   "outputs": [
    {
     "data": {
      "text/plain": [
       "nltk.corpus.reader.plaintext.PlaintextCorpusReader"
      ]
     },
     "execution_count": 62,
     "metadata": {},
     "output_type": "execute_result"
    }
   ],
   "source": [
    "type(community_data)"
   ]
  },
  {
   "cell_type": "code",
   "execution_count": 63,
   "metadata": {},
   "outputs": [],
   "source": [
    "text = community_data.raw()\n",
    "summary_sentences = []\n",
    "candidate_sentences = {}\n",
    "candidate_sentence_counts = {}\n",
    "striptext = text.replace('\\n\\n', ' ')\n",
    "striptext = striptext.replace('\\n', ' ')"
   ]
  },
  {
   "cell_type": "code",
   "execution_count": 64,
   "metadata": {},
   "outputs": [],
   "source": [
    "import gensim.summarization"
   ]
  },
  {
   "cell_type": "code",
   "execution_count": null,
   "metadata": {},
   "outputs": [],
   "source": []
  },
  {
   "cell_type": "code",
   "execution_count": null,
   "metadata": {},
   "outputs": [],
   "source": [
    "#!pip install gensim"
   ]
  },
  {
   "cell_type": "code",
   "execution_count": null,
   "metadata": {},
   "outputs": [],
   "source": [
    "import gensim.summarization"
   ]
  },
  {
   "cell_type": "code",
   "execution_count": 65,
   "metadata": {},
   "outputs": [
    {
     "name": "stdout",
     "output_type": "stream",
     "text": [
      "We each ordered blueberry pancakes and a cup of coffee--no fresh fruit, no juice, no bacon.\n",
      "I started with a raspberry iced tea & ordered the community custom egg white omelette with sautéed spinach & mushrooms and a side of smoked salmon.\n",
      "I've come here several times with a friend for brunch and once for dinner -- we've both really enjoyed a lot of the breakfast foods available; my favorite is the brioche French toast with blackberry and lemon curd & she loves heir waffles.\n",
      "This place is really good for breakfast and has great pancakes, sausages, eggs.\n"
     ]
    }
   ],
   "source": [
    "summary = gensim.summarization.summarize(striptext, word_count=100) \n",
    "print(summary)"
   ]
  },
  {
   "cell_type": "code",
   "execution_count": 66,
   "metadata": {},
   "outputs": [
    {
     "name": "stdout",
     "output_type": "stream",
     "text": [
      "brunch\n",
      "nice\n",
      "food\n",
      "foods\n",
      "egg\n",
      "eggs\n",
      "good\n",
      "sauced\n",
      "sauce\n",
      "sauces\n",
      "fresh\n",
      "communal\n",
      "community\n",
      "pancakes\n",
      "pancake\n",
      "service\n"
     ]
    }
   ],
   "source": [
    "print(gensim.summarization.keywords(striptext,words=10))"
   ]
  },
  {
   "cell_type": "code",
   "execution_count": 67,
   "metadata": {},
   "outputs": [
    {
     "name": "stdout",
     "output_type": "stream",
     "text": [
      "I've come here several times with a friend for brunch and once for dinner -- we've both really enjoyed a lot of the breakfast foods available; my favorite is the brioche French toast with blackberry and lemon curd & she loves heir waffles.\n",
      "There are a lot of nice places in the city where you can get a very good breakfast for 1/3rd to 1/2 less than Community.\n",
      "Came here for brunch with my wife after she found the good review, and it did not disappoint!\n",
      "My friend n me went there early to enjoy pancake with fresh juice n on site coffee.\n"
     ]
    }
   ],
   "source": [
    "summary = '\\n'.join(build_naive_summary(community_data.raw()))\n",
    "print(summary)"
   ]
  },
  {
   "cell_type": "code",
   "execution_count": 68,
   "metadata": {},
   "outputs": [
    {
     "name": "stdout",
     "output_type": "stream",
     "text": [
      "I think they take forever to take your order, and deliver the food because they want you to sit in here as long as possible to make their business look busy.\n",
      "Food was good, my girl got fettuccine alfredo and I had the stuffed French toast.\n",
      "i would recommend going for brunch over any other meal, as everything i've ordered for brunch has been quite good the shakshuka is great, and you can't anything else like it in the area.\n",
      "I would love to try them out for dinner, as I said, the service was great and we were checked on regularly.\n",
      "The food was really good and they are known for their brunch menu.\n"
     ]
    }
   ],
   "source": [
    "text = le_monde_data.raw()\n",
    "summary_sentences = []\n",
    "candidate_sentences = {}\n",
    "candidate_sentence_counts = {}\n",
    "striptext = text.replace('\\n\\n', ' ')\n",
    "striptext = striptext.replace('\\n', ' ')\n",
    "summary = gensim.summarization.summarize(striptext, word_count=100) \n",
    "print(summary)\n",
    "#print(gensim.summarization.keywords(striptext,words=10))"
   ]
  },
  {
   "cell_type": "markdown",
   "metadata": {},
   "source": [
    "<h1>Topic modeling</h1>\n",
    "<h4>The goal of topic modeling is to identify the major concepts underlying a piece of text</h4>\n",
    "<h4>Topic modeling uses \"Unsupervised Learning\". No apriori knowledge is necessary\n",
    "<li>Though it is helpful in cleaning up results!"
   ]
  },
  {
   "cell_type": "markdown",
   "metadata": {},
   "source": [
    "<h3>LDA: Latent Dirichlet Allocation Model</h3>\n",
    "<li>Identifies potential topics using pruning techniques like 'upward closure'\n",
    "<li>Computes conditional probabilities for topic word sets\n",
    "<li>Identifies the most likely topics\n",
    "<li>Does this over multiple passes probabilistically picking topics in each pass\n",
    "<li>Good intuitive explanation: http://blog.echen.me/2011/08/22/introduction-to-latent-dirichlet-allocation/"
   ]
  },
  {
   "cell_type": "code",
   "execution_count": 69,
   "metadata": {},
   "outputs": [],
   "source": [
    "from gensim import corpora\n",
    "from gensim.models.ldamodel import LdaModel\n",
    "from gensim.parsing.preprocessing import STOPWORDS\n",
    "import pprint"
   ]
  },
  {
   "cell_type": "markdown",
   "metadata": {},
   "source": [
    "<h4>Prepare the text</h4>"
   ]
  },
  {
   "cell_type": "code",
   "execution_count": 70,
   "metadata": {},
   "outputs": [
    {
     "data": {
      "text/plain": [
       "360"
      ]
     },
     "execution_count": 70,
     "metadata": {},
     "output_type": "execute_result"
    }
   ],
   "source": [
    "text = PlaintextCorpusReader(\"data/\",\"Nikon_coolpix_4300.txt\").raw()\n",
    "striptext = text.replace('\\n\\n', ' ')\n",
    "striptext = striptext.replace('\\n', ' ')\n",
    "sentences = sent_tokenize(striptext)\n",
    "#words = word_tokenize(striptext)\n",
    "#tokenize each sentence into word tokens\n",
    "texts = [[word for word in sentence.lower().split()\n",
    "        if word not in STOPWORDS and word.isalnum()]\n",
    "        for sentence in sentences]\n",
    "len(texts)"
   ]
  },
  {
   "cell_type": "markdown",
   "metadata": {},
   "source": [
    "<h4>Create a (word,frequency) dictionary for each word in the text</h4>"
   ]
  },
  {
   "cell_type": "code",
   "execution_count": 71,
   "metadata": {},
   "outputs": [
    {
     "name": "stdout",
     "output_type": "stream",
     "text": [
      "*****************************************************************************\n",
      "* Annotated by: Minqing Hu and Bing Liu, 2004.              \n",
      "*\t\tDepartment of Computer Sicence\n",
      "*               University of Illinois at Chicago              \n",
      "*\n",
      "* Product name: Nikon coolpix 4300\n",
      "* Review Source: amazon.com\n",
      "*\n",
      "* See Readme.txt to find the meaning of each symbol. \n",
      "*****************************************************************************\n",
      "\n",
      "[t]the best 4mp compact digital available  \n",
      "camera[+2]##this camera is perfect for an enthusiastic amateur photographer . \n",
      "picture[+3], macro[+3]##the pictures are razor-sharp , even in macro . \n",
      "size[+2][u]##it is small enough to fit easily in a coat pocket or purse . \n",
      "weight[+1][u]##it is light enough to carry around all day without bother . \n",
      "feature[+2][u]##operating its many features is easy and often obvious - i 'm no annie lebovitz , but i was able to figure out most of its abilities just messing around with it at a camera store . \n",
      "manual[+2]##the manual does a fine job filling in any blanks that remain . \n",
      "auto focus[+2],scene mode[+2]##the auto-focus performs well , but i love having the 12 optional scene modes - they are dummy-proof , and correspond to many situations in which i would actually seek to use the camera . \n",
      "rechargable battery[+2]##comes with a 16 mb compact flash and one rechargable battery the charging unit , included , is fast and small . \n",
      "##i bought a 256 mb cf and a second battery , so it 's good to go on a long vacation . \n",
      "camera[+2]##i enthusiastically recommend this camera . \n",
      "[t]perfect to grow into \n",
      "##i got my camera three days back , and although i had some experience with digital cameras prior to purchasing this one , i still rate myself as a beginner . \n",
      "##i bought this camera because it fit my budget and the pre-production and production model reviews were positive . \n",
      "camera[+2][p], use[+1][u], feature[+2]##it 's easy to use , and yet very feature rich . \n",
      "auto mode[+1],scene mode[+2]##in the auto mode it functions basically as a point and click , the scene modes are very easy to use and produce good results . \n",
      "manual mode[+2]##the manual mode is feature rich and i can 't wait to get the hang of it . \n",
      "macro mode[+3],picture[+3]##the macro mode is exceptional , the pictures are very clear and you can take the pictures with the lens unbelievably close the subject . \n",
      "battery life[+3]##the battery life is very good , i got about 90 minutes with the lcd turned on all the time , the first time around , and i have been using it with the lcd off every now and then , and have yet needed to recharge it . \n",
      "##the camera comes with a lexar 16mb starter card , which stores about 10 images in fine mode at the highest resolution , i intend to buy a bigger card soon . \n",
      "[t]near perfection \n",
      "##i love photography . \n",
      "##i had an older camera that was simply a point and shoot camera . \n",
      "##i needed something with more power , so i bought a nikon coolpix 4300 . \n",
      "camera[+3], use[+1]##i fell in love with this camera , it combines ease of use , with an immense amount of options and power . \n",
      "##you can use the scene modes , or fine tune the options , i. you can change the iso level , shutter speed , etc. \n",
      "camera[+2]##this camera is ideal for people who want more power , but do n't want to spend 1000s dollars on a camera . \n",
      "[t]not too excited \n",
      "##i bought coolpix 4300 two months after i had bought canon powershot s400 . \n",
      "##reason for two ? \n",
      "##it was not easy sharing one with my teen age kid . \n",
      "##the two cameras are very similar in functionality and pricing . \n",
      "##i 've had no problem with canon whatsoever . \n",
      "picture quality[+1]##with nikon , although picture qualities are as good as any other 4 mp cameras , i 've had the following headaches ; \n",
      "transfer[-2]##1 . pictures wo n't transfer to pc directly from the camera using the included transfer cable . \n",
      "##i did everything i could , and it took many days of frustration before concluding that the only way to transfer to pc is with the card reader . \n",
      "##card reader is included . \n",
      "##2 . the speed is noticeably slower than canon , especially so with flashes on . \n",
      "##3 . with low battery , it twice wiped out the entire pictures in the memory chip . \n",
      "##i used lexar 256 mb and i still use it which means nothing is wrong with lexar . \n",
      "##be very careful when the battery is low and make sure to carry extra batteries . \n",
      "[t]only \" cons \" here\n",
      "##the other reviewers have clearly pointed all the good things about this camera , which i do agree . \n",
      "##but there are certain issues might be they are to me here - all of them are minor; not major ones though , \n",
      "auto mode[-2]##. this camera keeps on autofocussing in auto mode with a buzzing sound which can 't be stopped . \n",
      "##would be really good if they have given an option to stop this autofocussing . \n",
      "##. if you want to have the date ; time on the image , its only through their software \" nikon view \" which reads the images date ; time from the images meta-data . \n",
      "##so if you use your card reader ; copy images - you got to onceagain open them through their software to put the date ; time . \n",
      "##in that too , there is n't a direct way to add date ; time - you got to say ' print images ' to a different directory in which there is an option to specify the date ; time . \n",
      "image[-2]##. even the slightest of the shakes totally distorts your image \n",
      "indoor image[-2]##. images taken indoor were n't so clear . \n",
      "##you got to have flash ' on ' to get it eventhough your room is well lit \n",
      "lens cap[-3]##. lens cap is a really annoying \n",
      "##. go ; get a high speed like lexar 12x or higher cf card . \n",
      "##else with simpler viking cf cards , it takes couple of seconds to write a picture with approximately \" fine **\" picture quality  \" image size : 1600 . \n",
      "movie[-2]##. the movie clips taken will always have some ' noise ' in it - you can 't avoid that . \n",
      "camera[+2], picture[+2], close-up shooting[+3]##but overall this is a good camera with a ' really good ' picture clarity ; an exceptional close-up shooting capability . \n",
      "##i would rate this is 4.5 stars picture quality ; image size defined above are specific to nikon coolpix . \n",
      "[t]bad service \n",
      "menu dial knob[-2]##within a year , there are problems with my menu dial knob . \n",
      "##it became stucked which makes it almost impossible to switch between modes . \n",
      "servicing[-2]##i send my camera to nikon for servicing , took them a whole 6 weeks to diagnose the problem . \n",
      "##worse of all , they claim that it 's some kind of internal damage and refuse to cover the cost via warranty ! \n",
      "##they would n't repair my camera unless if i pay $ 100 for parts ? and labor ! \n",
      "camera[+2],customer service[-2]##it is a good camera in terms of the function and quality , but take your chance with it because nikon absolutely sucks when it comes to customer service . \n",
      "[t]system error \n",
      "system error[-2]##got a \" system error \" problem 30 days after purchase . \n",
      "camera[-2]##made the camera totally inoperable . \n",
      "lens cap[-2]##also , the lens cap design is flawed . \n",
      "##you have to manually take the cap off in order to use it . \n",
      "audio[-2]##audio on video also lacking . \n",
      "picture[+3],delay[+1]##otherwise , it takes very good pictures ; shutter delay is n't so bad either . \n",
      "##still , had to send it back to nikon for repair . \n",
      "[t]amazing camera \n",
      "##i am an amateur photographer and here is a piece of advise to all the folks who are thinking about making a move the digital world . \n",
      "camera[+3]##nikon 4300 , i feel , is the best camera out there for the features and price . \n",
      "##here were my requirements in a digital camera : \n",
      "##1 . i had initially thought of buying a 2 or 3 megapixel camera but these are good for 4x6 \" or 5x7 \" prints and i wanted some really great 8x10 \" photos once in a while . \n",
      "##2 . i did not want a very small camera as it seems to get lost in my hands and i was n't comfortable with that . \n",
      "##i wanted a decent sized camera with a contour for my fingers to hold it steadily . \n",
      "##3 . i wanted a camera that had a lot of built-in settings for different types of suroundings while giving me an option to use my photography skills although , i am an amateur with an interest in photography by turning on the manual settings . \n",
      "##4 . and , of course , i wanted a respected brand and had to stay within my budget because i had bought an expensive camcorder before but had n't used it much . \n",
      "##depending on all the above requirements , i had narrowed down my search to nikon 4300 and canon powershot s400 models . \n",
      "##nikon got the final nod for its settings auto and manual along with movie modes , medium; compact size , price , brand name , good software that is included and previous reviews . \n",
      "##i should say i have been very happy with my decision ever since . \n",
      "picture[+3]##the pictures are absolutely amazing - the camera captures the minutest of details . \n",
      "##a few things that might make it even better : \n",
      "indoor picture[-1]##1 . pictures taken in an indoor setting are a little dull and rarely hazy if you tend to take photographs from a distance . \n",
      "delay[-2][u]##2 . it takes a while for the camera to actually capture the photograph from the time you click the button and i have seen people becoming a little impatient waiting for the flash to glow . \n",
      "picture[-2]##3 . the pictures come out hazy if your hands shake even for a moment during the entire process of taking a picture . \n",
      "##all the above , i think , are problems with all the digital cameras out there and so i have no major complaints . \n",
      "##try to buy a tripod and that should solve some of those problems . \n",
      "##whichever camera you buy , add upto about 200 dollars for an additional memory card i bought a 256 mb card , usb card reader , camera bag and the warranty . \n",
      "##and finally , get your pictures developed at a kodak picture maker machine even though it costs you a little extra - no one can beat kodak processing in terms of clarity and brightness . \n",
      "##hope this review has helped you in making up your mind . \n",
      "##i have taken about 150 photographs so far and have absolutely loved the experience . \n",
      "##i am looking forward to my vegas trip for some great photographs now . \n",
      "[t]super camera \n",
      "##with our compact 35mm broken , and a vacation in europe at hand , i finally decided to enter the digital age . \n",
      "##i first intended to buy the 3100 , but am really happy to invest the extra money for the 4300 . \n",
      "##the lense is a lot better , and the 4mb produce fantastic pictures . \n",
      "auto mode[+2], manual mode[+2], scene mode[+2]##the possibilities with auto , manual , and the very helpful \" scene \" mode , which offers 11 optimized situational settings like portrait , landscape , beach / snow , sunset etc. , are endless . \n",
      "movie mode[+2]##the movie mode is also working great . \n",
      "software[+3]##the 4300 comes with excellent easy to install software i use it on xp and win98 without problem , battery charger , usb and video cable . \n",
      "##a 64mb flash card camera comes with a 16mb holds 52 pictures on \" normal \" resolution . \n",
      "print[+2]##i experimented with online print ordering with the two major us brick and mortar retailers , and they both delivered great results . \n",
      "print[+3]##even at the \" normal \" setting , a 8x10 print ! shows not a single sign of visible rendering or pixels - you could never tell that the picture has been taken by a \" digital \" . \n",
      "battery life[+1]##the battery life is ok , but can be somewhat short when working a lot with the monitor on . \n",
      "##i therefore bought a second battery as a backup , and due to the lightingfast charging with the included charger , which by the way works on 110v as well as 220v in europe , we ran never out of \" juice \" . \n",
      "##i highly recommend the accessory kit , which provides you with everything else you need : \n",
      "##a nice camera bag , which holds camera plus all the cables and the charger . \n",
      "##furher it contains a card reader , a flash card folder for up to 8 cards , a lense cleaning rag , and an ac adapter , which is very helpful when working in an \" outlet environment \" . \n",
      "camera[+3]##over all a fantastic very compact camera , which made us experience photography on a totally new level ! \n",
      "[t]camera shake \n",
      "##after reading all the glowing review on this camera , i went to my local camera shop to try one . \n",
      "##i currently own an olympus d-550 which takes wonderful outdoor pictures . \n",
      "##however , indoor pictures of subjects more than a few feet away can be blurry or grainy . \n",
      "##anyway , in the store , i tried coolpix 4300 along with two other 4mp models minolta dimage s414 , and panasonic lumix . \n",
      "picture[-2]##focusing on a display rack about 20 feet away in a brightly lit room during day time , pictures produced by this camera were blurry and in a shade of orange . \n",
      "##pictures produced by the minolta were orange but not blurry . \n",
      "##pictures produced by the panasonic were excellent . \n",
      "##the store clerk concluded that the blurriness may be caused by shaking the camera slightly when i press the button , which is understandable since this camera is lighter than the other two models . \n",
      "##anyway , i ended up purchasing the lumix . \n",
      "##i 'm sure that this camera has all the wonderful features that others talk about . \n",
      "##however , as an average person with unsteady hands , i doubt it 'll perform well in lower light settings . \n",
      "[t]great camera \n",
      "##i purchased the nikon 4300 after several weeks of searching . \n",
      "##the value , name , and resolution signed the lease . \n",
      "picture[+3]##after nearly 800 pictures i have found that this nikon takes incredible pictures . \n",
      "digital zoom[+2],optical zoom[+2]##the digital zoom takes as good of pictures , as the optical zoom does ! \n",
      "picture[-2]##the inside pics , can be a bit challenging , but when you can instantly delete pics you dont like , that are not focused perfectly , or need lighting adjustments , make this camera very simple and effective . \n",
      "feature[+3]##i love all of the features , and presets as well . \n",
      "sunset feature[+3]##sunset feature takes incredible pics in the morning , and the evening ! \n",
      "software[+3]##the software you get with this camera is perfect . \n",
      "touchup[+2], redeye[+2]##touchups , redeye , and so on are very easy to alter , and correct . \n",
      "##i definately recommend a large memory card . \n",
      "##i use a 128mb card , and usually get around 70 to 100 pics 1024-1280 res. , with good resolution . \n",
      "##very large pics take 8mb each ! \n",
      "battery life[+2]##battery life is good , although i recommend two rechargebles , or a alkaline backup , for those emergency pics you have to have . \n",
      "camera[+3]##all and all , i am extremely pleased with this camera . \n",
      "##making the step from film to digital has been a great move . \n",
      "##i find myself emailing pics to everyone i know . \n",
      "camera[+3]##great camera , great investment ! \n",
      "[t]excellent camera \n",
      "##this is my second digital camera , though i also use one at work and have some experience with several nikon and canon models . \n",
      "use[+1][u],quality[+2],size[+1]##the nikon coolpix 4300 is wonderful -- easy to use , high quality , and compact in size . \n",
      "##with an extra battery and a couple of good sized memory cards you are all set for a day of picture taking while on vacation . \n",
      "auto setting[+2]##the auto setting does a great job most of the time but there are manual settings for those who want them . \n",
      "##if something were to happen to my nikon coolpix 4300 , i would order another just like it . \n",
      "[t]the ricksters review \n",
      "##after much research i decided on the nikon coolpix 4300 . \n",
      "camera[+2][p]##it has many great features and very few bad ones . \n",
      "picture[+2],ease of use[+2]##it takes excellent pics and is very easy to use , if you read the manual . \n",
      "##if you cant get great pics from this camera its because you havent read the manual . \n",
      "lcd[-1]##the only things i have found that i havent liked is that the lcd is hard to read in daylight but everyone elses is too . \n",
      "download[+2]##downloads are a snap and quick . \n",
      "control[+2]##controls easy yo use and easy to get to . \n",
      "camera[+3]##i 'm extremely glad i bought this camera . \n",
      "[t]super little camera \n",
      "camera[+3]##really happy with this little camera . \n",
      "size[+2][u]##it is n't big and offensive , though you would n't know it by looking at the pics it takes . \n",
      "##got it for christmas , still learning a few of the settings , but i do n't take pictures every single day . \n",
      "picture[+2],print[+2]##settings for just about everything , beautiful pics and beautiful prints . \n",
      "zoomed image[+2]##i expected the 12x digital zoom to be grainy , but onfull size high to fine quality , the zoomed images are quite impressive . \n",
      "##did buy a 256mb compact flash , it holds a lot of pics at any resolution . \n",
      "##i only wish you could get high quality tiff images at all resolutions , but does n't seem any of the buget cameras do . \n",
      "camera[+2]##still , at least from my perspective , a great camera for the money , and i 'm a happy camper ! \n",
      "[t]beginner looks experienced with coolpix \n",
      "camera[+2]##this is a wonderful camera . \n",
      "##my wife and i read and read and read reviews on different cameras for months . \n",
      "##in the end this is the one that we decided upon and since have never had buyer 's remorse . \n",
      "4mp[+2],optical zoom[+2]##4 mp gives you room for the future gaining experience ; cost offsets over time from wanting more in a camera , 3x optical and the fact that it carries nikon 's quality reputation behind it make the whole package prove itself worthwile at the price . \n",
      "picture[+2]##one neat thing - i have taken some pictures in what i thought would be impossible lighting conditions pitch black rooms - no problem for the camera - rooms looked like they had ample lighting . \n",
      "[t]can i have a few more stars please \n",
      "camera[+3]##this little camera has created a marriage between myself and nikon. never knew i could love a digital camera so much . \n",
      "software[+3], online service[+2]##the software that comes with it is amazing and the online service that comes free is really very neat. clean clear and well focused on over 95 % of all photos taken by a beginner . \n",
      "##100 % perfect if you put some thought and time into reading the manual before you take the photos . \n",
      "##i took the camera and just gave it to someone . \n",
      "##no instructions . \n",
      "photo[+2]##just point and shoot and the photos were great . \n",
      "##just imagine if you place a bit of knowledge when you take your photos . \n",
      "memory card[+2]##the memory card fit nicely since i also have a pocket pc and it automatically installed a picture software on my pda wolla . \n",
      "##my pda becames a digital album . \n",
      "##i have a 128mb card in it and can shoot over 150 hi res photos . \n",
      "camera[+2]##if you have to buy a camera on a buget, this has got to be the one . \n",
      "##go get it . \n",
      "##before they are sold out ! \n",
      "[t]great camera \n",
      "camera[+2]##great camera , i have been using this for several months and got excellent results , simple friendly usage , in many scenes indoor , outdoor , snow , close up macro etc. \n",
      "[t]great camera for a great price \n",
      "##i bought my nikon coolpix4300 about a week ago . \n",
      "camera[+3], feature[+2]##this is my first digital camera and i can say that i am quite impressed with the features that it has . \n",
      "use[+2][u]##it is easy enough to use for a beginner like me but it has plenty of features for me to grow into . \n",
      "macro[+2]##i particularly like the way it aids me in taking my macro shots . \n",
      "picture quality[+2]##my friends were impressed with the quality of the pictures i took ! \n",
      "autofocus[-2]##one downside though is that autofocus does not work well when battery is low . \n",
      "##i assume this is the case for most cameras since it does not have enough power to do autofocus . \n",
      "battery life[+1]##battery life is ok . \n",
      "##i plan on buying a second battery and a larger cf for it . \n",
      "[t]not disappointed \n",
      "camera[+2]##great camera , and for the price you can 't beat it . \n",
      "##i 've been using it for about 3 months now . \n",
      "control[+3]##i found the controls very intuitive and learned how to manuver through the menus quickly . \n",
      "quality[+3]##the quality is superb . \n",
      "size[+2]##the small size is perfect for my little hands , but may perhaps be uncomfortable or awkward for a bigger person . \n",
      "[t]field tested \n",
      "##we use older versions 880 , 885 of this model in the office and i find them to produce excellent quality photos . \n",
      "nikon 4300[+3]##the 4300 is a very durable , compact package , and i find nikon to be a brand that i can trust . \n",
      "##it comes with a 16mb flash card that you will need to upgrade ! \n",
      "##we got a 256mb card , and have been hard-pressed to fill it over a weekend . \n",
      "##the only drawbacks that i have noticed : \n",
      "battery[-2]##it comes with a rechargable battery that does not seem to last all that long , especially if you use the flash a lot . \n",
      "##so , it 's a good idea to purchase an extra battery to insure that you are not left hanging . \n",
      "auto-focus assist light[-1]##it does not have an auto-focus assist light which is nice for taking shots in low-light situations it allows the camera to focus in low light . \n",
      "##i would say that this is not a major issue , but it can be slightly annoying if you care about these things . \n",
      "optical zoom[-1]##it has a 3x optical zoom , which is average for these cameras . \n",
      "##for more , you sacrifice weight and size : more optical zoom requires more glass and focal length . \n",
      "##it does have a digital zoom on top of the optical zoom , but you sacrifice quality . \n",
      "##i set the camera to the \" manual \" mode for one main reason : \n",
      "##in any other mode it autofocuses continuously and burns batteries . \n",
      "##in manual , you can set it to \" single af \" where it will focus by depressing the shudder button prior to taking the pic ; this is not really a hinderance , you just have to be familiar with its menus and features . \n",
      "##in reality , these are the only drawbacks this camera has , much less than many other models ! \n",
      "##it is easy to \" focus \" in on the drawbacks , so do n't think i hate this camera . \n",
      "camera[+3]##it really is an awesome camera that is hard to beat for general-to moderate snapping . \n",
      "##for work , we use them in the field often , and they hold up really well . \n",
      "macro[+2]##they take excellent macro shots as well . \n",
      "menu[+2]##the menus and features are easy to manipulate and access , and it takes silent movies . \n",
      "[t]it do n't get better \n",
      "camera[+2]##i compared this to a lot of other cameras , believe me , it 's value for money . \n",
      "picture[+3]##the picturers are amazing . \n",
      "##do n't waste time looking at anything else , just buy this one . \n",
      "##it do n't get any better then the nikon 4300 . \n",
      "[t]excellent compact digital camera \n",
      "##i am a nikon fan , and owned and used slr nikon fe , n50 and n90s for many many years . \n",
      "picture quality[+2],function[+2]##recently bought this coolpix 4300 along with a 256mb ultra flash card . as expected , i happily found that qualities of the picture are excellent with 3m-4m pixel / fine combos and many of the user-friendly functions are very similar to slr models , and with added convenience of a digital camera that you can see pictures immediately . \n",
      "txt file[+2]##i particularly like the \" txt \" file which records all the control information for all the pictures you take. \n",
      "size[+2][u]##the compact digital camera is especially useful if you have little children around and you can always take the camera with you and take many pictures of them . \n",
      "##try to buy a high capacity ultra card , as it 's 2x as faster as the regular cf card . \n",
      "##consider the time you save during picture taking especially not missing a good moment and during download , it 's well worth the little extra money . \n",
      "##an extra rechargeable en-el 1 battery is also handy , so you will seldom run into \" out of battery \" situation . \n",
      "##use the rechargeable because that saves you money and helps the environment in a long run . \n",
      "##one thing puzzles me is that for \" fine and 2200 + \" quality pictures , one ultra 256mb cf card can only hold 130-140 pics , but the size of the pictures are only around 1.2 mb , the math does not add up . \n",
      "##i would expecct the card to hold over 200 pictures for size of 1.2 mb/per . \n",
      "##anybody can explain that ? \n",
      "nikon[+3]##a nikon will make you happier and leave you lots of good memories , as always . \n",
      "[t]you will not be sorry \n",
      "camera[+3],picture[+2]##i highly recommend this camera to anyone looking for a good digital camera that takes great pictures yet does n't take weeks to figure out how to operate . \n",
      "picture quality[+2]##we take this camera with us everywhere and are constantly amazed at the quality of the pictures that we get and the number of different ways the camera allows for pictures to be taken . \n",
      "camera[+3]##i am a picture fanatic so i consider myself picky and if your the same way this camera will not let you down.now buy it ! \n",
      "[t]absolutely great point and shoot camera \n",
      "##first of all , let 's start with my needs : 1 $ 500 budget 2 4mp resolution , 3 optical clarity and color , 4 fast - very little shutter lag and quick sep-up for next picture , 5 compact size , and 6 good camera grip to minimize camera shake . \n",
      "##for three months , i 've researched the internet and magazines , queried various sales personnel , and took hands-on in-store test drives . \n",
      "##and i finally settled on the nikon coolpix 4300 . \n",
      "camera[+3]##i have it for a week now , and this camera has exceeded my expectations . \n",
      "picture[+2],indoor shot[+1]##the daylight pictures are brilliant and the indoor shots are very good provided that your subject is no more than about 8 feet away . \n",
      "##the shutter lag is on par with what i 've experienced with point and shoot 35mm and aps film cameras and the next frame advance is about a couple seconds using a high speed 12x 128mb compact flash card a salesperson recommended the high speed card since next frame advance speed was important to me - and it was only a few dollars more . \n",
      "image download[+2][u]##uploading the images to my windows-based pc is very fast and simple . \n",
      "indoor shot[-1]##the only drawbacks i 've encountered are : 1 indoor shots from a distance > 8ft lack contrast and color , but i 've found this to be a problem with all cameras with built-in flashes that i 've used even on a nikon slr . \n",
      "##right now , i 'm researching for an inexpensive slave flash unit that 's designed for digital cameras . \n",
      "battery life[-1]##2 the battery life seems to be on the short side but adequate for most situations . \n",
      "##i got 45 outdoor and 15 indoor shots with the monitor on turning the camera off and on over a 4 hour period before the battery died . \n",
      "##an extra for a back-up battery would be a good investment . \n",
      "software[-1]##3 the picture editing software it came with is adequate , but not very robust . \n",
      "##i 'll still use my photosuite for editing . \n",
      "##one more thing about indoor shots - many of the reviews knocked this camera for low light focusing . \n",
      "##just for the heck of it , i took it into my dark kitchen with only indirect light coming in though the door , and the focusing was just fine . \n",
      "camera[+3]##in summary , i love this camera and would whole-heartedly recommend this to anyone wanting a high quality point and shoot camera in the medium price range . \n",
      "##- since i wrote the review above in january 2003 , i still love this camera . \n",
      "##i 've picked up a few accessories that i found to be useful . \n",
      "##i bought a digi-slave dsf-1s flash unit . \n",
      "##i do n't use a bracket , i just hold it above my head and aim the flash with my left hand . \n",
      "##i also got a ur-e 4 step down ring adapter , lc-e 900 lens cap , and the nikon 28mm filter set . \n",
      "##this provides added protection for the camera lens and allows the use of filters . \n",
      "##i leave the adapter and uv filter on all the time . \n",
      "##this also allows you to turn on the camera on without having to remove the lens cap . \n",
      "##the downside is that you might accidentally take pictures with the lens cap on , the camera wo n't fit in the small cases , and 28mm filters are expensive and hard to find . \n",
      "[t]great camera \n",
      "camera[+2]##great camera . \n",
      "use[+2]##i am impressed with how easy this camera is to use . \n",
      "picture[+2]##it takes great pictures . \n",
      "manual[+2]##the manual is easy to understand , and it is mostly idiot proof . \n",
      "size[+2][u]##it is small , unlike my canon slr , so it easily fits in my pocket . \n",
      "##i have not yet figured out how to make it snap quick pictures for action shots . \n",
      "##now where did i put that manual ? \n",
      "[t]best 4-mp camera of its size and price range \n",
      "##do n't let my five star rating fool you . \n",
      "##the nikon coolpix 4300 deserves six . \n",
      "camera[+3]##i got this camera about a month ago and i can 't put it down . \n",
      "##i was considering buying the minolta f-100 and the sony dsc-p 9 , but at the camera shop , realized this one went above and beyond . \n",
      "picture quality[+2]##i selected the 4300 right away and have gotten high quality pictures every time . \n",
      "autofocus[+1],scene mode[+1],manual mode[+1]##autofocus feels exactly like my film camera while scene and manual mode add a little fun challenge to it all . \n",
      "##i would also recommend buying an extra battery and at least a 128 mb compact flash type i memory card . \n",
      "##buy this camera and savour it . \n",
      "[t]great camera \n",
      "##i reviewed several digital cameras before settling on this one . \n",
      "##this one was rated very high by several people check out this site and epinions.com . \n",
      "camera[+2][p]##i have not been disappointed with my purchase . \n",
      "picture quality[+2]##picture quality in outdoor settings is indistinguishable from 35mm . \n",
      "indoor shot[-2]##on average , indoor shots with a flash are not quite as good as 35mm . \n",
      "##however , the convenience of using digital far outweighs the slightly less accurate indoor pictures . \n",
      "camera[+3]##i am extremely satisfied with this camera . \n",
      "##i purchased it from amazon on a since discontinued promotion . \n",
      "##buy an extra battery - life is good but still somewhat short . \n",
      "##do n't buy this camera if you are not going to purchase a 128 megabyte card . \n",
      "##you need the storage to hold a decent amount of shots at 4 megapixel resolution . \n",
      "##i have one thing to say to the numbskulls who complain that this camera 's controls are confusing and hard to remember : \n",
      "##read the directions ! \n",
      "##the regular mode in this camera works for 80 % of settings . \n",
      "scene mode[+2]##the \" scene \" mode works well for the remainder of shots that are not going to be in a \" regular \" setting . \n",
      "##i wish the camera had a higher optical zoom so that i could take better wildlife photos . \n",
      "optical setting[+1]##however , its 3x optical setting is acceptable for 70 % of the shots that i take . \n",
      "##buy this camera , you wo n't regret it . \n",
      "[t]digital nirvana \n",
      "camera[+2]##if you 're looking for a small , compact , super resolution digital camera , you can end your search with the nikon 4300 ! \n",
      "picture quality[+3]##after a lengthy and extensive journey for a feature-loaded , high performance , travel size camera , i initially gravitated to this little gem because of the superior picture quality 4 mega pixel . \n",
      "nikon[+3]##after using it for about a month , i can state unequivocably that this nikon definitely delivers a huge bang for the buck . \n",
      "use[+1], accessory[+2]##its easy to use and the sheer fun of being able to use an array of nikon accessories like the telephoto and wide-angle lenses is the proverbial icing on the cake . \n",
      "picture quality[+3],feature[+3]##yes , the picture quality and features which are too numerous to mention are unmatched for any camera in this price range . \n",
      "design[+2],construction[+2],optic[+2]##the design and construction are excellent -- as is the legendary quality of the nikon optics . \n",
      "##i own a 35mm slr camera and this is my second digital . \n",
      "##if you 're seeking that elusive state of photographic euphoria that is free of buyer 's remorse and filled with cool , then travel to the world of the coolpix 4300 ! \n",
      "[t]i love this baby\n",
      "##had it for a week . \n",
      "camera[+2]##there are so many functions in this little , yet powerful camera ! \n",
      "[t]it 's so cool \n",
      "camera[+3][p]##seriously ! i love it ! \n",
      "##my room is so dark and when i tried taking pics of it with my old camera , they came out black , but with this , they look the same in the picture as in real life . \n",
      "##better actually cause my carpet looks clean , lol . \n",
      "camera[+2]##but this camera is great ! \n",
      "picture quality[+3],movie[+1]##the picture quality is amazing and you can connect it to your tv and could make silent movies that way if you wanted to . \n",
      "##i can 't connect it to my computer though , but that 's a problem with windows me , not the camera . \n",
      "##if you have windows me you should upgrade to xp anyway , lol . \n",
      "##but it works perfectly fine on my parent 's computer . \n",
      "lense cap[+1]##it does have a lense cap , but it wo n't let you take pics with it on which is real good . \n",
      "battery[+2]##the battery recharges ral fast and the recharger thingy that comes with is real nice . \n",
      "camera[+2]##ooh , and i dropped it and it still works fine : this little camera has so many features i have n't even gotten to all of them yet . \n",
      "[t]excellent little camera \n",
      "##i did quite a bit of research before buying this camera , and this one had everything i was looking for . \n",
      "use[+1],feature[+2], camera[+2]##it 's easy for beginners to use , but has features that more serious photographers will love , so it 's an excellent camera to grow into . \n",
      "weight[+2], picture[+2][u]##it 's light weight enough to take with you everywhere , but powerful enough to get outstanding pix . \n",
      "continuous shot mode[+3]##i love the continuous shot mode , which allows you to take up to 16 pix in rapid succession -- great for action shots . \n",
      "photo quality[+3],print[+2]##i 'm amazed at the photo quality -- prints are indistinguishable from 35mm prints . \n",
      "8mb card[-2]##i only have one complaint , and that is the 8mb card included . \n",
      "8mb[-2]##8mb for a camera like this is a joke . \n",
      "##a card with more memory is a must . \n",
      "##a minor quibble , since most cameras on the market still only include the 8mb cards . \n",
      "[t]perfect consumer digital camera \n",
      "##if you do any research into digital cameras , you 'll quickly find that this camera is just about the best value out there . \n",
      "##these are the reasons i think it 's great : \n",
      "feature[+2]##1 it has all the features an amatuer photo-enthusiast would want . \n",
      "use[+2]##2 it is easy enough for my grandmother to use . \n",
      "size[+2][u],control[+2]##3 it is very compact but the controls are so well designed that they 're still easy to use . \n",
      "##4 it has optional lenses like wide angles and extra zooms . \n",
      "##5 for \" digital film \" it uses compact flash cards , which are easy to find , cheap , reliable and supported by many other devices you may have at hoome . \n",
      "nikon support[+1]##6 the nikon coolpix line is a well-established line so you know support and parts are going to be available even when nikon releases a newer model . \n",
      "picture quality[+2]##7 picture quality is excellent . \n",
      "battery life[+2]##8 battery life is excellent . \n",
      "optical zoom[+2]##9 3x built-in optical zoom is a lot for this price range . \n",
      "price[+2]##10 great price for all the features . \n",
      "##here 's what you may miss or be annoyed by with this camera : \n",
      "firewire[-1]##1 no direct firewire to the camera . \n",
      "##there is usb , though . \n",
      "viewfinder[-1]##2 the camera is so small that when you attach some lenses i have the 19mm wide-angle -- wc-e 68 , the optical viewfinder is partially obscured . \n",
      "##this does n't affect the picture , of course . \n",
      "##you just have to use the lcd viewfinder to see the whole picture . \n",
      "##it 's no problem for me personally . \n",
      "##3 battery has to be removed to recharge . \n",
      "##4 an ac adapter for powering the camera while the battery 's out is not included , although one can be purchased separately . \n",
      "##5 two different adapters -- ur-e 4 and ur-e 7 -- are required for some attachment lenses . \n",
      "##most of these \" annoyances \" , though , are comparable to what you 'll find on other cameras in this price range . \n",
      "[t]small camera \n",
      "##i am new to the whole digital camera thing ; well , new to the whole camera thing period , really . \n",
      "price[+2][u],learn[+2],image[+3]##this camera was affordable , very easy to learn , and produces spectacular images . \n",
      "auto mode[+2],scene mode[+2],manual mode[+2]##the auto-mode is good enough for most shots but the 4300 also boasts 12 versatile scene modes as well as a manual mode though i admit i have n't played with it too much on manual . \n",
      "size[+2]##it 's size also makes it ideal for travel . \n",
      "camera[+3]##overall the nikon 4300 is a very dependable , robust , and useful little camera . \n",
      "[t]nikon does it again \n",
      "camera[+3], print quality[+3]##awesome camera with huge print quality in a tiny package . \n",
      "closeup mode[+2], battery[+2]##the same 4mp chip from the 4500 camera , plus a 3x zoom with the ability to expand upon that with extenders , great closeup mode , long lasting rechargable battery , etc etc. \n",
      "camera[+3]##in my opinion it 's the best camera for the money if you 're looking for something that 's easy to use , small good for travel , and provides excellent , sharp images . \n",
      "\n"
     ]
    }
   ],
   "source": [
    "print(text)"
   ]
  },
  {
   "cell_type": "code",
   "execution_count": 72,
   "metadata": {},
   "outputs": [
    {
     "data": {
      "text/plain": [
       "'*****************************************************************************\\n* Annotated by: Minqing Hu and Bing Liu, 2004.              \\n*\\t\\tDepartment of Computer Sicence\\n*               University of Illinois at Chicago              \\n*\\n* Product name: Nikon coolpix 4300\\n* Review Source: amazon.com\\n*\\n* See Readme.txt to find the meaning of each symbol. \\n*****************************************************************************\\n\\n[t]the best 4mp compact digital available  \\ncamera[+2]##this camera is perfect for an enthusiastic amateur photographer . \\npicture[+3], macro[+3]##the pictures are razor-sharp , even in macro . \\nsize[+2][u]##it is small enough to fit easily in a coat pocket or purse . \\nweight[+1][u]##it is light enough to carry around all day without bother . \\nfeature[+2][u]##operating its many features is easy and often obvious - i \\'m no annie lebovitz , but i was able to figure out most of its abilities just messing around with it at a camera store . \\nmanual[+2]##the manual does a fine job filling in any blanks that remain . \\nauto focus[+2],scene mode[+2]##the auto-focus performs well , but i love having the 12 optional scene modes - they are dummy-proof , and correspond to many situations in which i would actually seek to use the camera . \\nrechargable battery[+2]##comes with a 16 mb compact flash and one rechargable battery the charging unit , included , is fast and small . \\n##i bought a 256 mb cf and a second battery , so it \\'s good to go on a long vacation . \\ncamera[+2]##i enthusiastically recommend this camera . \\n[t]perfect to grow into \\n##i got my camera three days back , and although i had some experience with digital cameras prior to purchasing this one , i still rate myself as a beginner . \\n##i bought this camera because it fit my budget and the pre-production and production model reviews were positive . \\ncamera[+2][p], use[+1][u], feature[+2]##it \\'s easy to use , and yet very feature rich . \\nauto mode[+1],scene mode[+2]##in the auto mode it functions basically as a point and click , the scene modes are very easy to use and produce good results . \\nmanual mode[+2]##the manual mode is feature rich and i can \\'t wait to get the hang of it . \\nmacro mode[+3],picture[+3]##the macro mode is exceptional , the pictures are very clear and you can take the pictures with the lens unbelievably close the subject . \\nbattery life[+3]##the battery life is very good , i got about 90 minutes with the lcd turned on all the time , the first time around , and i have been using it with the lcd off every now and then , and have yet needed to recharge it . \\n##the camera comes with a lexar 16mb starter card , which stores about 10 images in fine mode at the highest resolution , i intend to buy a bigger card soon . \\n[t]near perfection \\n##i love photography . \\n##i had an older camera that was simply a point and shoot camera . \\n##i needed something with more power , so i bought a nikon coolpix 4300 . \\ncamera[+3], use[+1]##i fell in love with this camera , it combines ease of use , with an immense amount of options and power . \\n##you can use the scene modes , or fine tune the options , i. you can change the iso level , shutter speed , etc. \\ncamera[+2]##this camera is ideal for people who want more power , but do n\\'t want to spend 1000s dollars on a camera . \\n[t]not too excited \\n##i bought coolpix 4300 two months after i had bought canon powershot s400 . \\n##reason for two ? \\n##it was not easy sharing one with my teen age kid . \\n##the two cameras are very similar in functionality and pricing . \\n##i \\'ve had no problem with canon whatsoever . \\npicture quality[+1]##with nikon , although picture qualities are as good as any other 4 mp cameras , i \\'ve had the following headaches ; \\ntransfer[-2]##1 . pictures wo n\\'t transfer to pc directly from the camera using the included transfer cable . \\n##i did everything i could , and it took many days of frustration before concluding that the only way to transfer to pc is with the card reader . \\n##card reader is included . \\n##2 . the speed is noticeably slower than canon , especially so with flashes on . \\n##3 . with low battery , it twice wiped out the entire pictures in the memory chip . \\n##i used lexar 256 mb and i still use it which means nothing is wrong with lexar . \\n##be very careful when the battery is low and make sure to carry extra batteries . \\n[t]only \" cons \" here\\n##the other reviewers have clearly pointed all the good things about this camera , which i do agree . \\n##but there are certain issues might be they are to me here - all of them are minor; not major ones though , \\nauto mode[-2]##. this camera keeps on autofocussing in auto mode with a buzzing sound which can \\'t be stopped . \\n##would be really good if they have given an option to stop this autofocussing . \\n##. if you want to have the date ; time on the image , its only through their software \" nikon view \" which reads the images date ; time from the images meta-data . \\n##so if you use your card reader ; copy images - you got to onceagain open them through their software to put the date ; time . \\n##in that too , there is n\\'t a direct way to add date ; time - you got to say \\' print images \\' to a different directory in which there is an option to specify the date ; time . \\nimage[-2]##. even the slightest of the shakes totally distorts your image \\nindoor image[-2]##. images taken indoor were n\\'t so clear . \\n##you got to have flash \\' on \\' to get it eventhough your room is well lit \\nlens cap[-3]##. lens cap is a really annoying \\n##. go ; get a high speed like lexar 12x or higher cf card . \\n##else with simpler viking cf cards , it takes couple of seconds to write a picture with approximately \" fine **\" picture quality  \" image size : 1600 . \\nmovie[-2]##. the movie clips taken will always have some \\' noise \\' in it - you can \\'t avoid that . \\ncamera[+2], picture[+2], close-up shooting[+3]##but overall this is a good camera with a \\' really good \\' picture clarity ; an exceptional close-up shooting capability . \\n##i would rate this is 4.5 stars picture quality ; image size defined above are specific to nikon coolpix . \\n[t]bad service \\nmenu dial knob[-2]##within a year , there are problems with my menu dial knob . \\n##it became stucked which makes it almost impossible to switch between modes . \\nservicing[-2]##i send my camera to nikon for servicing , took them a whole 6 weeks to diagnose the problem . \\n##worse of all , they claim that it \\'s some kind of internal damage and refuse to cover the cost via warranty ! \\n##they would n\\'t repair my camera unless if i pay $ 100 for parts ? and labor ! \\ncamera[+2],customer service[-2]##it is a good camera in terms of the function and quality , but take your chance with it because nikon absolutely sucks when it comes to customer service . \\n[t]system error \\nsystem error[-2]##got a \" system error \" problem 30 days after purchase . \\ncamera[-2]##made the camera totally inoperable . \\nlens cap[-2]##also , the lens cap design is flawed . \\n##you have to manually take the cap off in order to use it . \\naudio[-2]##audio on video also lacking . \\npicture[+3],delay[+1]##otherwise , it takes very good pictures ; shutter delay is n\\'t so bad either . \\n##still , had to send it back to nikon for repair . \\n[t]amazing camera \\n##i am an amateur photographer and here is a piece of advise to all the folks who are thinking about making a move the digital world . \\ncamera[+3]##nikon 4300 , i feel , is the best camera out there for the features and price . \\n##here were my requirements in a digital camera : \\n##1 . i had initially thought of buying a 2 or 3 megapixel camera but these are good for 4x6 \" or 5x7 \" prints and i wanted some really great 8x10 \" photos once in a while . \\n##2 . i did not want a very small camera as it seems to get lost in my hands and i was n\\'t comfortable with that . \\n##i wanted a decent sized camera with a contour for my fingers to hold it steadily . \\n##3 . i wanted a camera that had a lot of built-in settings for different types of suroundings while giving me an option to use my photography skills although , i am an amateur with an interest in photography by turning on the manual settings . \\n##4 . and , of course , i wanted a respected brand and had to stay within my budget because i had bought an expensive camcorder before but had n\\'t used it much . \\n##depending on all the above requirements , i had narrowed down my search to nikon 4300 and canon powershot s400 models . \\n##nikon got the final nod for its settings auto and manual along with movie modes , medium; compact size , price , brand name , good software that is included and previous reviews . \\n##i should say i have been very happy with my decision ever since . \\npicture[+3]##the pictures are absolutely amazing - the camera captures the minutest of details . \\n##a few things that might make it even better : \\nindoor picture[-1]##1 . pictures taken in an indoor setting are a little dull and rarely hazy if you tend to take photographs from a distance . \\ndelay[-2][u]##2 . it takes a while for the camera to actually capture the photograph from the time you click the button and i have seen people becoming a little impatient waiting for the flash to glow . \\npicture[-2]##3 . the pictures come out hazy if your hands shake even for a moment during the entire process of taking a picture . \\n##all the above , i think , are problems with all the digital cameras out there and so i have no major complaints . \\n##try to buy a tripod and that should solve some of those problems . \\n##whichever camera you buy , add upto about 200 dollars for an additional memory card i bought a 256 mb card , usb card reader , camera bag and the warranty . \\n##and finally , get your pictures developed at a kodak picture maker machine even though it costs you a little extra - no one can beat kodak processing in terms of clarity and brightness . \\n##hope this review has helped you in making up your mind . \\n##i have taken about 150 photographs so far and have absolutely loved the experience . \\n##i am looking forward to my vegas trip for some great photographs now . \\n[t]super camera \\n##with our compact 35mm broken , and a vacation in europe at hand , i finally decided to enter the digital age . \\n##i first intended to buy the 3100 , but am really happy to invest the extra money for the 4300 . \\n##the lense is a lot better , and the 4mb produce fantastic pictures . \\nauto mode[+2], manual mode[+2], scene mode[+2]##the possibilities with auto , manual , and the very helpful \" scene \" mode , which offers 11 optimized situational settings like portrait , landscape , beach / snow , sunset etc. , are endless . \\nmovie mode[+2]##the movie mode is also working great . \\nsoftware[+3]##the 4300 comes with excellent easy to install software i use it on xp and win98 without problem , battery charger , usb and video cable . \\n##a 64mb flash card camera comes with a 16mb holds 52 pictures on \" normal \" resolution . \\nprint[+2]##i experimented with online print ordering with the two major us brick and mortar retailers , and they both delivered great results . \\nprint[+3]##even at the \" normal \" setting , a 8x10 print ! shows not a single sign of visible rendering or pixels - you could never tell that the picture has been taken by a \" digital \" . \\nbattery life[+1]##the battery life is ok , but can be somewhat short when working a lot with the monitor on . \\n##i therefore bought a second battery as a backup , and due to the lightingfast charging with the included charger , which by the way works on 110v as well as 220v in europe , we ran never out of \" juice \" . \\n##i highly recommend the accessory kit , which provides you with everything else you need : \\n##a nice camera bag , which holds camera plus all the cables and the charger . \\n##furher it contains a card reader , a flash card folder for up to 8 cards , a lense cleaning rag , and an ac adapter , which is very helpful when working in an \" outlet environment \" . \\ncamera[+3]##over all a fantastic very compact camera , which made us experience photography on a totally new level ! \\n[t]camera shake \\n##after reading all the glowing review on this camera , i went to my local camera shop to try one . \\n##i currently own an olympus d-550 which takes wonderful outdoor pictures . \\n##however , indoor pictures of subjects more than a few feet away can be blurry or grainy . \\n##anyway , in the store , i tried coolpix 4300 along with two other 4mp models minolta dimage s414 , and panasonic lumix . \\npicture[-2]##focusing on a display rack about 20 feet away in a brightly lit room during day time , pictures produced by this camera were blurry and in a shade of orange . \\n##pictures produced by the minolta were orange but not blurry . \\n##pictures produced by the panasonic were excellent . \\n##the store clerk concluded that the blurriness may be caused by shaking the camera slightly when i press the button , which is understandable since this camera is lighter than the other two models . \\n##anyway , i ended up purchasing the lumix . \\n##i \\'m sure that this camera has all the wonderful features that others talk about . \\n##however , as an average person with unsteady hands , i doubt it \\'ll perform well in lower light settings . \\n[t]great camera \\n##i purchased the nikon 4300 after several weeks of searching . \\n##the value , name , and resolution signed the lease . \\npicture[+3]##after nearly 800 pictures i have found that this nikon takes incredible pictures . \\ndigital zoom[+2],optical zoom[+2]##the digital zoom takes as good of pictures , as the optical zoom does ! \\npicture[-2]##the inside pics , can be a bit challenging , but when you can instantly delete pics you dont like , that are not focused perfectly , or need lighting adjustments , make this camera very simple and effective . \\nfeature[+3]##i love all of the features , and presets as well . \\nsunset feature[+3]##sunset feature takes incredible pics in the morning , and the evening ! \\nsoftware[+3]##the software you get with this camera is perfect . \\ntouchup[+2], redeye[+2]##touchups , redeye , and so on are very easy to alter , and correct . \\n##i definately recommend a large memory card . \\n##i use a 128mb card , and usually get around 70 to 100 pics 1024-1280 res. , with good resolution . \\n##very large pics take 8mb each ! \\nbattery life[+2]##battery life is good , although i recommend two rechargebles , or a alkaline backup , for those emergency pics you have to have . \\ncamera[+3]##all and all , i am extremely pleased with this camera . \\n##making the step from film to digital has been a great move . \\n##i find myself emailing pics to everyone i know . \\ncamera[+3]##great camera , great investment ! \\n[t]excellent camera \\n##this is my second digital camera , though i also use one at work and have some experience with several nikon and canon models . \\nuse[+1][u],quality[+2],size[+1]##the nikon coolpix 4300 is wonderful -- easy to use , high quality , and compact in size . \\n##with an extra battery and a couple of good sized memory cards you are all set for a day of picture taking while on vacation . \\nauto setting[+2]##the auto setting does a great job most of the time but there are manual settings for those who want them . \\n##if something were to happen to my nikon coolpix 4300 , i would order another just like it . \\n[t]the ricksters review \\n##after much research i decided on the nikon coolpix 4300 . \\ncamera[+2][p]##it has many great features and very few bad ones . \\npicture[+2],ease of use[+2]##it takes excellent pics and is very easy to use , if you read the manual . \\n##if you cant get great pics from this camera its because you havent read the manual . \\nlcd[-1]##the only things i have found that i havent liked is that the lcd is hard to read in daylight but everyone elses is too . \\ndownload[+2]##downloads are a snap and quick . \\ncontrol[+2]##controls easy yo use and easy to get to . \\ncamera[+3]##i \\'m extremely glad i bought this camera . \\n[t]super little camera \\ncamera[+3]##really happy with this little camera . \\nsize[+2][u]##it is n\\'t big and offensive , though you would n\\'t know it by looking at the pics it takes . \\n##got it for christmas , still learning a few of the settings , but i do n\\'t take pictures every single day . \\npicture[+2],print[+2]##settings for just about everything , beautiful pics and beautiful prints . \\nzoomed image[+2]##i expected the 12x digital zoom to be grainy , but onfull size high to fine quality , the zoomed images are quite impressive . \\n##did buy a 256mb compact flash , it holds a lot of pics at any resolution . \\n##i only wish you could get high quality tiff images at all resolutions , but does n\\'t seem any of the buget cameras do . \\ncamera[+2]##still , at least from my perspective , a great camera for the money , and i \\'m a happy camper ! \\n[t]beginner looks experienced with coolpix \\ncamera[+2]##this is a wonderful camera . \\n##my wife and i read and read and read reviews on different cameras for months . \\n##in the end this is the one that we decided upon and since have never had buyer \\'s remorse . \\n4mp[+2],optical zoom[+2]##4 mp gives you room for the future gaining experience ; cost offsets over time from wanting more in a camera , 3x optical and the fact that it carries nikon \\'s quality reputation behind it make the whole package prove itself worthwile at the price . \\npicture[+2]##one neat thing - i have taken some pictures in what i thought would be impossible lighting conditions pitch black rooms - no problem for the camera - rooms looked like they had ample lighting . \\n[t]can i have a few more stars please \\ncamera[+3]##this little camera has created a marriage between myself and nikon. never knew i could love a digital camera so much . \\nsoftware[+3], online service[+2]##the software that comes with it is amazing and the online service that comes free is really very neat. clean clear and well focused on over 95 % of all photos taken by a beginner . \\n##100 % perfect if you put some thought and time into reading the manual before you take the photos . \\n##i took the camera and just gave it to someone . \\n##no instructions . \\nphoto[+2]##just point and shoot and the photos were great . \\n##just imagine if you place a bit of knowledge when you take your photos . \\nmemory card[+2]##the memory card fit nicely since i also have a pocket pc and it automatically installed a picture software on my pda wolla . \\n##my pda becames a digital album . \\n##i have a 128mb card in it and can shoot over 150 hi res photos . \\ncamera[+2]##if you have to buy a camera on a buget, this has got to be the one . \\n##go get it . \\n##before they are sold out ! \\n[t]great camera \\ncamera[+2]##great camera , i have been using this for several months and got excellent results , simple friendly usage , in many scenes indoor , outdoor , snow , close up macro etc. \\n[t]great camera for a great price \\n##i bought my nikon coolpix4300 about a week ago . \\ncamera[+3], feature[+2]##this is my first digital camera and i can say that i am quite impressed with the features that it has . \\nuse[+2][u]##it is easy enough to use for a beginner like me but it has plenty of features for me to grow into . \\nmacro[+2]##i particularly like the way it aids me in taking my macro shots . \\npicture quality[+2]##my friends were impressed with the quality of the pictures i took ! \\nautofocus[-2]##one downside though is that autofocus does not work well when battery is low . \\n##i assume this is the case for most cameras since it does not have enough power to do autofocus . \\nbattery life[+1]##battery life is ok . \\n##i plan on buying a second battery and a larger cf for it . \\n[t]not disappointed \\ncamera[+2]##great camera , and for the price you can \\'t beat it . \\n##i \\'ve been using it for about 3 months now . \\ncontrol[+3]##i found the controls very intuitive and learned how to manuver through the menus quickly . \\nquality[+3]##the quality is superb . \\nsize[+2]##the small size is perfect for my little hands , but may perhaps be uncomfortable or awkward for a bigger person . \\n[t]field tested \\n##we use older versions 880 , 885 of this model in the office and i find them to produce excellent quality photos . \\nnikon 4300[+3]##the 4300 is a very durable , compact package , and i find nikon to be a brand that i can trust . \\n##it comes with a 16mb flash card that you will need to upgrade ! \\n##we got a 256mb card , and have been hard-pressed to fill it over a weekend . \\n##the only drawbacks that i have noticed : \\nbattery[-2]##it comes with a rechargable battery that does not seem to last all that long , especially if you use the flash a lot . \\n##so , it \\'s a good idea to purchase an extra battery to insure that you are not left hanging . \\nauto-focus assist light[-1]##it does not have an auto-focus assist light which is nice for taking shots in low-light situations it allows the camera to focus in low light . \\n##i would say that this is not a major issue , but it can be slightly annoying if you care about these things . \\noptical zoom[-1]##it has a 3x optical zoom , which is average for these cameras . \\n##for more , you sacrifice weight and size : more optical zoom requires more glass and focal length . \\n##it does have a digital zoom on top of the optical zoom , but you sacrifice quality . \\n##i set the camera to the \" manual \" mode for one main reason : \\n##in any other mode it autofocuses continuously and burns batteries . \\n##in manual , you can set it to \" single af \" where it will focus by depressing the shudder button prior to taking the pic ; this is not really a hinderance , you just have to be familiar with its menus and features . \\n##in reality , these are the only drawbacks this camera has , much less than many other models ! \\n##it is easy to \" focus \" in on the drawbacks , so do n\\'t think i hate this camera . \\ncamera[+3]##it really is an awesome camera that is hard to beat for general-to moderate snapping . \\n##for work , we use them in the field often , and they hold up really well . \\nmacro[+2]##they take excellent macro shots as well . \\nmenu[+2]##the menus and features are easy to manipulate and access , and it takes silent movies . \\n[t]it do n\\'t get better \\ncamera[+2]##i compared this to a lot of other cameras , believe me , it \\'s value for money . \\npicture[+3]##the picturers are amazing . \\n##do n\\'t waste time looking at anything else , just buy this one . \\n##it do n\\'t get any better then the nikon 4300 . \\n[t]excellent compact digital camera \\n##i am a nikon fan , and owned and used slr nikon fe , n50 and n90s for many many years . \\npicture quality[+2],function[+2]##recently bought this coolpix 4300 along with a 256mb ultra flash card . as expected , i happily found that qualities of the picture are excellent with 3m-4m pixel / fine combos and many of the user-friendly functions are very similar to slr models , and with added convenience of a digital camera that you can see pictures immediately . \\ntxt file[+2]##i particularly like the \" txt \" file which records all the control information for all the pictures you take. \\nsize[+2][u]##the compact digital camera is especially useful if you have little children around and you can always take the camera with you and take many pictures of them . \\n##try to buy a high capacity ultra card , as it \\'s 2x as faster as the regular cf card . \\n##consider the time you save during picture taking especially not missing a good moment and during download , it \\'s well worth the little extra money . \\n##an extra rechargeable en-el 1 battery is also handy , so you will seldom run into \" out of battery \" situation . \\n##use the rechargeable because that saves you money and helps the environment in a long run . \\n##one thing puzzles me is that for \" fine and 2200 + \" quality pictures , one ultra 256mb cf card can only hold 130-140 pics , but the size of the pictures are only around 1.2 mb , the math does not add up . \\n##i would expecct the card to hold over 200 pictures for size of 1.2 mb/per . \\n##anybody can explain that ? \\nnikon[+3]##a nikon will make you happier and leave you lots of good memories , as always . \\n[t]you will not be sorry \\ncamera[+3],picture[+2]##i highly recommend this camera to anyone looking for a good digital camera that takes great pictures yet does n\\'t take weeks to figure out how to operate . \\npicture quality[+2]##we take this camera with us everywhere and are constantly amazed at the quality of the pictures that we get and the number of different ways the camera allows for pictures to be taken . \\ncamera[+3]##i am a picture fanatic so i consider myself picky and if your the same way this camera will not let you down.now buy it ! \\n[t]absolutely great point and shoot camera \\n##first of all , let \\'s start with my needs : 1 $ 500 budget 2 4mp resolution , 3 optical clarity and color , 4 fast - very little shutter lag and quick sep-up for next picture , 5 compact size , and 6 good camera grip to minimize camera shake . \\n##for three months , i \\'ve researched the internet and magazines , queried various sales personnel , and took hands-on in-store test drives . \\n##and i finally settled on the nikon coolpix 4300 . \\ncamera[+3]##i have it for a week now , and this camera has exceeded my expectations . \\npicture[+2],indoor shot[+1]##the daylight pictures are brilliant and the indoor shots are very good provided that your subject is no more than about 8 feet away . \\n##the shutter lag is on par with what i \\'ve experienced with point and shoot 35mm and aps film cameras and the next frame advance is about a couple seconds using a high speed 12x 128mb compact flash card a salesperson recommended the high speed card since next frame advance speed was important to me - and it was only a few dollars more . \\nimage download[+2][u]##uploading the images to my windows-based pc is very fast and simple . \\nindoor shot[-1]##the only drawbacks i \\'ve encountered are : 1 indoor shots from a distance > 8ft lack contrast and color , but i \\'ve found this to be a problem with all cameras with built-in flashes that i \\'ve used even on a nikon slr . \\n##right now , i \\'m researching for an inexpensive slave flash unit that \\'s designed for digital cameras . \\nbattery life[-1]##2 the battery life seems to be on the short side but adequate for most situations . \\n##i got 45 outdoor and 15 indoor shots with the monitor on turning the camera off and on over a 4 hour period before the battery died . \\n##an extra for a back-up battery would be a good investment . \\nsoftware[-1]##3 the picture editing software it came with is adequate , but not very robust . \\n##i \\'ll still use my photosuite for editing . \\n##one more thing about indoor shots - many of the reviews knocked this camera for low light focusing . \\n##just for the heck of it , i took it into my dark kitchen with only indirect light coming in though the door , and the focusing was just fine . \\ncamera[+3]##in summary , i love this camera and would whole-heartedly recommend this to anyone wanting a high quality point and shoot camera in the medium price range . \\n##- since i wrote the review above in january 2003 , i still love this camera . \\n##i \\'ve picked up a few accessories that i found to be useful . \\n##i bought a digi-slave dsf-1s flash unit . \\n##i do n\\'t use a bracket , i just hold it above my head and aim the flash with my left hand . \\n##i also got a ur-e 4 step down ring adapter , lc-e 900 lens cap , and the nikon 28mm filter set . \\n##this provides added protection for the camera lens and allows the use of filters . \\n##i leave the adapter and uv filter on all the time . \\n##this also allows you to turn on the camera on without having to remove the lens cap . \\n##the downside is that you might accidentally take pictures with the lens cap on , the camera wo n\\'t fit in the small cases , and 28mm filters are expensive and hard to find . \\n[t]great camera \\ncamera[+2]##great camera . \\nuse[+2]##i am impressed with how easy this camera is to use . \\npicture[+2]##it takes great pictures . \\nmanual[+2]##the manual is easy to understand , and it is mostly idiot proof . \\nsize[+2][u]##it is small , unlike my canon slr , so it easily fits in my pocket . \\n##i have not yet figured out how to make it snap quick pictures for action shots . \\n##now where did i put that manual ? \\n[t]best 4-mp camera of its size and price range \\n##do n\\'t let my five star rating fool you . \\n##the nikon coolpix 4300 deserves six . \\ncamera[+3]##i got this camera about a month ago and i can \\'t put it down . \\n##i was considering buying the minolta f-100 and the sony dsc-p 9 , but at the camera shop , realized this one went above and beyond . \\npicture quality[+2]##i selected the 4300 right away and have gotten high quality pictures every time . \\nautofocus[+1],scene mode[+1],manual mode[+1]##autofocus feels exactly like my film camera while scene and manual mode add a little fun challenge to it all . \\n##i would also recommend buying an extra battery and at least a 128 mb compact flash type i memory card . \\n##buy this camera and savour it . \\n[t]great camera \\n##i reviewed several digital cameras before settling on this one . \\n##this one was rated very high by several people check out this site and epinions.com . \\ncamera[+2][p]##i have not been disappointed with my purchase . \\npicture quality[+2]##picture quality in outdoor settings is indistinguishable from 35mm . \\nindoor shot[-2]##on average , indoor shots with a flash are not quite as good as 35mm . \\n##however , the convenience of using digital far outweighs the slightly less accurate indoor pictures . \\ncamera[+3]##i am extremely satisfied with this camera . \\n##i purchased it from amazon on a since discontinued promotion . \\n##buy an extra battery - life is good but still somewhat short . \\n##do n\\'t buy this camera if you are not going to purchase a 128 megabyte card . \\n##you need the storage to hold a decent amount of shots at 4 megapixel resolution . \\n##i have one thing to say to the numbskulls who complain that this camera \\'s controls are confusing and hard to remember : \\n##read the directions ! \\n##the regular mode in this camera works for 80 % of settings . \\nscene mode[+2]##the \" scene \" mode works well for the remainder of shots that are not going to be in a \" regular \" setting . \\n##i wish the camera had a higher optical zoom so that i could take better wildlife photos . \\noptical setting[+1]##however , its 3x optical setting is acceptable for 70 % of the shots that i take . \\n##buy this camera , you wo n\\'t regret it . \\n[t]digital nirvana \\ncamera[+2]##if you \\'re looking for a small , compact , super resolution digital camera , you can end your search with the nikon 4300 ! \\npicture quality[+3]##after a lengthy and extensive journey for a feature-loaded , high performance , travel size camera , i initially gravitated to this little gem because of the superior picture quality 4 mega pixel . \\nnikon[+3]##after using it for about a month , i can state unequivocably that this nikon definitely delivers a huge bang for the buck . \\nuse[+1], accessory[+2]##its easy to use and the sheer fun of being able to use an array of nikon accessories like the telephoto and wide-angle lenses is the proverbial icing on the cake . \\npicture quality[+3],feature[+3]##yes , the picture quality and features which are too numerous to mention are unmatched for any camera in this price range . \\ndesign[+2],construction[+2],optic[+2]##the design and construction are excellent -- as is the legendary quality of the nikon optics . \\n##i own a 35mm slr camera and this is my second digital . \\n##if you \\'re seeking that elusive state of photographic euphoria that is free of buyer \\'s remorse and filled with cool , then travel to the world of the coolpix 4300 ! \\n[t]i love this baby\\n##had it for a week . \\ncamera[+2]##there are so many functions in this little , yet powerful camera ! \\n[t]it \\'s so cool \\ncamera[+3][p]##seriously ! i love it ! \\n##my room is so dark and when i tried taking pics of it with my old camera , they came out black , but with this , they look the same in the picture as in real life . \\n##better actually cause my carpet looks clean , lol . \\ncamera[+2]##but this camera is great ! \\npicture quality[+3],movie[+1]##the picture quality is amazing and you can connect it to your tv and could make silent movies that way if you wanted to . \\n##i can \\'t connect it to my computer though , but that \\'s a problem with windows me , not the camera . \\n##if you have windows me you should upgrade to xp anyway , lol . \\n##but it works perfectly fine on my parent \\'s computer . \\nlense cap[+1]##it does have a lense cap , but it wo n\\'t let you take pics with it on which is real good . \\nbattery[+2]##the battery recharges ral fast and the recharger thingy that comes with is real nice . \\ncamera[+2]##ooh , and i dropped it and it still works fine : this little camera has so many features i have n\\'t even gotten to all of them yet . \\n[t]excellent little camera \\n##i did quite a bit of research before buying this camera , and this one had everything i was looking for . \\nuse[+1],feature[+2], camera[+2]##it \\'s easy for beginners to use , but has features that more serious photographers will love , so it \\'s an excellent camera to grow into . \\nweight[+2], picture[+2][u]##it \\'s light weight enough to take with you everywhere , but powerful enough to get outstanding pix . \\ncontinuous shot mode[+3]##i love the continuous shot mode , which allows you to take up to 16 pix in rapid succession -- great for action shots . \\nphoto quality[+3],print[+2]##i \\'m amazed at the photo quality -- prints are indistinguishable from 35mm prints . \\n8mb card[-2]##i only have one complaint , and that is the 8mb card included . \\n8mb[-2]##8mb for a camera like this is a joke . \\n##a card with more memory is a must . \\n##a minor quibble , since most cameras on the market still only include the 8mb cards . \\n[t]perfect consumer digital camera \\n##if you do any research into digital cameras , you \\'ll quickly find that this camera is just about the best value out there . \\n##these are the reasons i think it \\'s great : \\nfeature[+2]##1 it has all the features an amatuer photo-enthusiast would want . \\nuse[+2]##2 it is easy enough for my grandmother to use . \\nsize[+2][u],control[+2]##3 it is very compact but the controls are so well designed that they \\'re still easy to use . \\n##4 it has optional lenses like wide angles and extra zooms . \\n##5 for \" digital film \" it uses compact flash cards , which are easy to find , cheap , reliable and supported by many other devices you may have at hoome . \\nnikon support[+1]##6 the nikon coolpix line is a well-established line so you know support and parts are going to be available even when nikon releases a newer model . \\npicture quality[+2]##7 picture quality is excellent . \\nbattery life[+2]##8 battery life is excellent . \\noptical zoom[+2]##9 3x built-in optical zoom is a lot for this price range . \\nprice[+2]##10 great price for all the features . \\n##here \\'s what you may miss or be annoyed by with this camera : \\nfirewire[-1]##1 no direct firewire to the camera . \\n##there is usb , though . \\nviewfinder[-1]##2 the camera is so small that when you attach some lenses i have the 19mm wide-angle -- wc-e 68 , the optical viewfinder is partially obscured . \\n##this does n\\'t affect the picture , of course . \\n##you just have to use the lcd viewfinder to see the whole picture . \\n##it \\'s no problem for me personally . \\n##3 battery has to be removed to recharge . \\n##4 an ac adapter for powering the camera while the battery \\'s out is not included , although one can be purchased separately . \\n##5 two different adapters -- ur-e 4 and ur-e 7 -- are required for some attachment lenses . \\n##most of these \" annoyances \" , though , are comparable to what you \\'ll find on other cameras in this price range . \\n[t]small camera \\n##i am new to the whole digital camera thing ; well , new to the whole camera thing period , really . \\nprice[+2][u],learn[+2],image[+3]##this camera was affordable , very easy to learn , and produces spectacular images . \\nauto mode[+2],scene mode[+2],manual mode[+2]##the auto-mode is good enough for most shots but the 4300 also boasts 12 versatile scene modes as well as a manual mode though i admit i have n\\'t played with it too much on manual . \\nsize[+2]##it \\'s size also makes it ideal for travel . \\ncamera[+3]##overall the nikon 4300 is a very dependable , robust , and useful little camera . \\n[t]nikon does it again \\ncamera[+3], print quality[+3]##awesome camera with huge print quality in a tiny package . \\ncloseup mode[+2], battery[+2]##the same 4mp chip from the 4500 camera , plus a 3x zoom with the ability to expand upon that with extenders , great closeup mode , long lasting rechargable battery , etc etc. \\ncamera[+3]##in my opinion it \\'s the best camera for the money if you \\'re looking for something that \\'s easy to use , small good for travel , and provides excellent , sharp images . \\n'"
      ]
     },
     "execution_count": 72,
     "metadata": {},
     "output_type": "execute_result"
    }
   ],
   "source": [
    "text"
   ]
  },
  {
   "cell_type": "code",
   "execution_count": 73,
   "metadata": {},
   "outputs": [],
   "source": [
    "dictionary = corpora.Dictionary(texts) #(word_id,frequency) pairs\n",
    "corpus = [dictionary.doc2bow(text) for text in texts] #(word_id,freq) pairs by sentence\n",
    "#print(dictionary.token2id)\n",
    "#print(dictionary.keys())\n",
    "#print(corpus[9])\n",
    "#print(texts[9])\n",
    "#print(dictionary[73])\n",
    "#dictionary[4]"
   ]
  },
  {
   "cell_type": "markdown",
   "metadata": {},
   "source": [
    "<h4>Do the LDA</h4>"
   ]
  },
  {
   "cell_type": "markdown",
   "metadata": {},
   "source": [
    "<h4>Parameters:</h4>\n",
    "<li>Number of topics: The number of topics you want generated. The larger the document, the more the desirable topics\n",
    "<li>Passes: The LDA model makes through the document. More passes, slower analysis"
   ]
  },
  {
   "cell_type": "code",
   "execution_count": 74,
   "metadata": {},
   "outputs": [],
   "source": [
    "#Set parameters\n",
    "num_topics = 5 #The number of topics that should be generated\n",
    "passes = 10 "
   ]
  },
  {
   "cell_type": "code",
   "execution_count": 75,
   "metadata": {},
   "outputs": [],
   "source": [
    "lda = LdaModel(corpus,\n",
    "              id2word=dictionary,\n",
    "              num_topics=num_topics,\n",
    "              passes=10)"
   ]
  },
  {
   "cell_type": "code",
   "execution_count": null,
   "metadata": {},
   "outputs": [],
   "source": []
  },
  {
   "cell_type": "markdown",
   "metadata": {},
   "source": [
    "<h4>See results</h4>"
   ]
  },
  {
   "cell_type": "code",
   "execution_count": 76,
   "metadata": {},
   "outputs": [
    {
     "name": "stdout",
     "output_type": "stream",
     "text": [
      "[   (0, '0.031*\"battery\" + 0.013*\"bought\" + 0.012*\"extra\"'),\n",
      "    (1, '0.043*\"camera\" + 0.016*\"pictures\" + 0.013*\"picture\"'),\n",
      "    (2, '0.026*\"camera\" + 0.015*\"card\" + 0.015*\"good\"'),\n",
      "    (3, '0.039*\"camera\" + 0.034*\"nikon\" + 0.018*\"4300\"'),\n",
      "    (4, '0.056*\"camera\" + 0.014*\"optical\" + 0.013*\"use\"')]\n"
     ]
    }
   ],
   "source": [
    "pp = pprint.PrettyPrinter(indent=4)\n",
    "pp.pprint(lda.print_topics(num_words=3))"
   ]
  },
  {
   "cell_type": "markdown",
   "metadata": {},
   "source": [
    "<h2>Matching topics to documents</h2>\n",
    "<h3>Sort topics by probability</h3>"
   ]
  },
  {
   "cell_type": "markdown",
   "metadata": {},
   "source": [
    "<h4>We're using sentences as documents here, so this is less than ideal</h4>"
   ]
  },
  {
   "cell_type": "code",
   "execution_count": 77,
   "metadata": {},
   "outputs": [
    {
     "data": {
      "text/plain": [
       "[(4, 0.8399374),\n",
       " (0, 0.04001789),\n",
       " (2, 0.04001697),\n",
       " (3, 0.040013958),\n",
       " (1, 0.04001379)]"
      ]
     },
     "execution_count": 77,
     "metadata": {},
     "output_type": "execute_result"
    }
   ],
   "source": [
    "from operator import itemgetter\n",
    "lda.get_document_topics(corpus[0],minimum_probability=0.05,per_word_topics=False)\n",
    "sorted(lda.get_document_topics(corpus[0],minimum_probability=0,per_word_topics=False),key=itemgetter(1),reverse=True)"
   ]
  },
  {
   "cell_type": "markdown",
   "metadata": {},
   "source": [
    "<h3>Making sense of the topics</h3>\n"
   ]
  },
  {
   "cell_type": "markdown",
   "metadata": {},
   "source": [
    "<h4>Draw wordclouds</h4>"
   ]
  },
  {
   "cell_type": "code",
   "execution_count": 78,
   "metadata": {},
   "outputs": [],
   "source": [
    "def draw_wordcloud(lda,topicnum,min_size=0,STOPWORDS=[]):\n",
    "    word_list=[]\n",
    "    prob_total = 0\n",
    "    for word,prob in lda.show_topic(topicnum,topn=50):\n",
    "        prob_total +=prob\n",
    "    for word,prob in lda.show_topic(topicnum,topn=50):\n",
    "        if word in STOPWORDS or  len(word) < min_size:\n",
    "            continue\n",
    "        freq = int(prob/prob_total*1000)\n",
    "        alist=[word]\n",
    "        word_list.extend(alist*freq)\n",
    "\n",
    "    from wordcloud import WordCloud, STOPWORDS\n",
    "    import matplotlib.pyplot as plt\n",
    "    %matplotlib inline\n",
    "    text = ' '.join(word_list)\n",
    "    wordcloud = WordCloud(stopwords=STOPWORDS,background_color='white',width=3000,height=3000).generate(' '.join(word_list))\n",
    "\n",
    "\n",
    "    plt.imshow(wordcloud)\n",
    "    plt.axis('off')\n",
    "    plt.show()"
   ]
  },
  {
   "cell_type": "code",
   "execution_count": 79,
   "metadata": {},
   "outputs": [
    {
     "data": {
      "image/png": "[encoded data removed]",
      "text/plain": [
       "<Figure size 432x288 with 1 Axes>"
      ]
     },
     "metadata": {
      "needs_background": "light"
     },
     "output_type": "display_data"
    }
   ],
   "source": [
    "draw_wordcloud(lda,2)"
   ]
  },
  {
   "cell_type": "markdown",
   "metadata": {},
   "source": [
    "<h4>Roughly,</h4>\n",
    "<li>lda looks for candidate topics assuming that there are many such candidates\n",
    "<li>looks for words related to the candidate topics\n",
    "<li>assign probablilites to those words"
   ]
  },
  {
   "cell_type": "markdown",
   "metadata": {},
   "source": [
    "<h3>Let's look at Presidential addresses to see what sorts of topics emerge from there</h3>\n",
    "<li>Each document will be analyzed for topic</li>\n",
    "<li>The corpus will consist of 58 documents, one per presidential address"
   ]
  },
  {
   "cell_type": "code",
   "execution_count": 80,
   "metadata": {},
   "outputs": [],
   "source": [
    "REMOVE_WORDS = {'shall','generally','spirit','country','people','nation','nations','great','better'}\n",
    "#Create a word dictionary (id, word)\n",
    "texts = [[word for word in sentence.lower().split()\n",
    "        if word not in STOPWORDS and word not in REMOVE_WORDS and word.isalnum()]\n",
    "        for sentence in sentences]\n",
    "dictionary = corpora.Dictionary(texts)\n",
    "\n",
    "#Create a corpus of documents\n",
    "text_list = list()\n",
    "for fileid in inaugural.fileids():\n",
    "    text = inaugural.words(fileid)\n",
    "    doc=list()\n",
    "    for word in text:\n",
    "        if word in STOPWORDS or word in REMOVE_WORDS or not word.isalpha() or len(word) <5:\n",
    "            continue\n",
    "        doc.append(word)\n",
    "    text_list.append(doc)\n",
    "by_address_corpus = [dictionary.doc2bow(text) for text in text_list]"
   ]
  },
  {
   "cell_type": "markdown",
   "metadata": {},
   "source": [
    "<h2>Create the model</h2>"
   ]
  },
  {
   "cell_type": "code",
   "execution_count": 81,
   "metadata": {},
   "outputs": [],
   "source": [
    "lda = LdaModel(by_address_corpus,\n",
    "              id2word=dictionary,\n",
    "              num_topics=20,\n",
    "              passes=10)"
   ]
  },
  {
   "cell_type": "code",
   "execution_count": 82,
   "metadata": {},
   "outputs": [
    {
     "name": "stdout",
     "output_type": "stream",
     "text": [
      "[   (   0,\n",
      "        '0.048*\"power\" + 0.021*\"right\" + 0.017*\"years\" + 0.015*\"action\" + '\n",
      "        '0.014*\"support\" + 0.014*\"service\" + 0.014*\"world\" + 0.013*\"order\" + '\n",
      "        '0.013*\"experience\" + 0.013*\"future\"'),\n",
      "    (   1,\n",
      "        '0.036*\"power\" + 0.036*\"protection\" + 0.033*\"support\" + '\n",
      "        '0.023*\"service\" + 0.022*\"subject\" + 0.021*\"right\" + 0.019*\"opinion\" + '\n",
      "        '0.019*\"local\" + 0.017*\"important\" + 0.017*\"issue\"'),\n",
      "    (   2,\n",
      "        '0.002*\"power\" + 0.002*\"means\" + 0.001*\"years\" + 0.001*\"world\" + '\n",
      "        '0.001*\"protection\" + 0.001*\"support\" + 0.001*\"period\" + '\n",
      "        '0.001*\"opinion\" + 0.001*\"right\" + 0.001*\"hands\"'),\n",
      "    (   3,\n",
      "        '0.046*\"years\" + 0.034*\"world\" + 0.033*\"cause\" + 0.023*\"right\" + '\n",
      "        '0.022*\"power\" + 0.020*\"problems\" + 0.019*\"needs\" + 0.018*\"large\" + '\n",
      "        '0.018*\"ability\" + 0.018*\"conditions\"'),\n",
      "    (   4,\n",
      "        '0.039*\"internal\" + 0.032*\"years\" + 0.030*\"period\" + 0.028*\"concluded\" '\n",
      "        '+ 0.024*\"performance\" + 0.018*\"construction\" + 0.017*\"satisfied\" + '\n",
      "        '0.017*\"nearly\" + 0.016*\"regular\" + 0.015*\"settled\"'),\n",
      "    (   5,\n",
      "        '0.068*\"world\" + 0.048*\"believe\" + 0.024*\"support\" + 0.021*\"service\" + '\n",
      "        '0.017*\"advance\" + 0.017*\"children\" + 0.017*\"means\" + 0.016*\"place\" + '\n",
      "        '0.015*\"major\" + 0.015*\"capacity\"'),\n",
      "    (   6,\n",
      "        '0.049*\"power\" + 0.031*\"problems\" + 0.029*\"years\" + 0.028*\"things\" + '\n",
      "        '0.028*\"change\" + 0.025*\"solve\" + 0.022*\"order\" + 0.015*\"conditions\" + '\n",
      "        '0.015*\"created\" + 0.015*\"carry\"'),\n",
      "    (   7,\n",
      "        '0.001*\"cases\" + 0.001*\"right\" + 0.001*\"labor\" + 0.001*\"having\" + '\n",
      "        '0.001*\"slave\" + 0.001*\"perfect\" + 0.001*\"given\" + 0.001*\"terms\" + '\n",
      "        '0.001*\"service\" + 0.001*\"nearly\"'),\n",
      "    (   8,\n",
      "        '0.001*\"right\" + 0.001*\"power\" + 0.001*\"control\" + 0.001*\"conditions\" '\n",
      "        '+ 0.001*\"office\" + 0.001*\"change\" + 0.001*\"course\" + '\n",
      "        '0.001*\"protection\" + 0.001*\"order\" + 0.001*\"years\"'),\n",
      "    (   9,\n",
      "        '0.002*\"power\" + 0.001*\"state\" + 0.001*\"hands\" + 0.001*\"important\" + '\n",
      "        '0.001*\"given\" + 0.001*\"years\" + 0.001*\"control\" + 0.001*\"opinion\" + '\n",
      "        '0.001*\"produce\" + 0.001*\"course\"'),\n",
      "    (   10,\n",
      "        '0.055*\"office\" + 0.028*\"years\" + 0.028*\"ability\" + 0.021*\"requires\" + '\n",
      "        '0.021*\"capacity\" + 0.021*\"recommend\" + 0.021*\"taken\" + 0.014*\"having\" '\n",
      "        '+ 0.014*\"subject\" + 0.014*\"careful\"'),\n",
      "    (   11,\n",
      "        '0.037*\"children\" + 0.023*\"power\" + 0.022*\"nearly\" + 0.022*\"wrote\" + '\n",
      "        '0.022*\"perfect\" + 0.017*\"service\" + 0.017*\"important\" + '\n",
      "        '0.017*\"taking\" + 0.015*\"claim\" + 0.015*\"problems\"'),\n",
      "    (   12,\n",
      "        '0.147*\"world\" + 0.032*\"years\" + 0.023*\"right\" + 0.023*\"things\" + '\n",
      "        '0.023*\"forward\" + 0.023*\"future\" + 0.019*\"power\" + 0.018*\"moment\" + '\n",
      "        '0.018*\"place\" + 0.018*\"friends\"'),\n",
      "    (   13,\n",
      "        '0.061*\"things\" + 0.040*\"familiar\" + 0.031*\"process\" + 0.027*\"stopped\" '\n",
      "        '+ 0.025*\"contains\" + 0.014*\"waste\" + 0.014*\"dropped\" + 0.014*\"damage\" '\n",
      "        '+ 0.013*\"loved\" + 0.013*\"going\"'),\n",
      "    (   14,\n",
      "        '0.093*\"world\" + 0.052*\"change\" + 0.038*\"children\" + 0.030*\"journey\" + '\n",
      "        '0.025*\"years\" + 0.024*\"future\" + 0.023*\"believe\" + 0.017*\"power\" + '\n",
      "        '0.016*\"moment\" + 0.015*\"meaning\"'),\n",
      "    (   15,\n",
      "        '0.003*\"world\" + 0.002*\"power\" + 0.001*\"labor\" + 0.001*\"means\" + '\n",
      "        '0.001*\"future\" + 0.001*\"knowledge\" + 0.001*\"believe\" + 0.001*\"action\" '\n",
      "        '+ 0.001*\"years\" + 0.001*\"right\"'),\n",
      "    (   16,\n",
      "        '0.122*\"world\" + 0.032*\"power\" + 0.027*\"change\" + 0.018*\"seeking\" + '\n",
      "        '0.018*\"array\" + 0.016*\"means\" + 0.016*\"price\" + 0.015*\"weight\" + '\n",
      "        '0.015*\"small\" + 0.014*\"knowledge\"'),\n",
      "    (   17,\n",
      "        '0.038*\"office\" + 0.031*\"subject\" + 0.031*\"support\" + 0.023*\"power\" + '\n",
      "        '0.023*\"future\" + 0.023*\"world\" + 0.016*\"control\" + 0.016*\"believe\" + '\n",
      "        '0.016*\"years\" + 0.016*\"thought\"'),\n",
      "    (   18,\n",
      "        '0.001*\"years\" + 0.001*\"action\" + 0.001*\"power\" + 0.001*\"control\" + '\n",
      "        '0.001*\"protection\" + 0.001*\"future\" + 0.001*\"office\" + '\n",
      "        '0.001*\"conditions\" + 0.001*\"given\" + 0.001*\"subject\"'),\n",
      "    (   19,\n",
      "        '0.017*\"convenience\" + 0.017*\"check\" + 0.013*\"provides\" + '\n",
      "        '0.009*\"superior\" + 0.009*\"keeps\" + 0.007*\"ended\" + 0.006*\"going\" + '\n",
      "        '0.004*\"price\" + 0.003*\"believe\" + 0.003*\"means\"')]\n"
     ]
    }
   ],
   "source": [
    "pp = pprint.PrettyPrinter(indent=4)\n",
    "pp.pprint(lda.print_topics(num_words=10))"
   ]
  },
  {
   "cell_type": "markdown",
   "metadata": {},
   "source": [
    "<h2>We can now compare presidential addresses by topic</h2>"
   ]
  },
  {
   "cell_type": "code",
   "execution_count": 83,
   "metadata": {},
   "outputs": [
    {
     "data": {
      "text/plain": [
       "58"
      ]
     },
     "execution_count": 83,
     "metadata": {},
     "output_type": "execute_result"
    }
   ],
   "source": [
    "len(by_address_corpus)"
   ]
  },
  {
   "cell_type": "code",
   "execution_count": 84,
   "metadata": {},
   "outputs": [
    {
     "data": {
      "text/plain": [
       "[(0, 0.98272645),\n",
       " (1, 0.0009091329),\n",
       " (2, 0.0009091329),\n",
       " (3, 0.0009091329),\n",
       " (4, 0.0009091329),\n",
       " (5, 0.0009091329),\n",
       " (6, 0.0009091329),\n",
       " (7, 0.0009091329),\n",
       " (8, 0.0009091329),\n",
       " (9, 0.0009091329),\n",
       " (10, 0.0009091329),\n",
       " (11, 0.0009091329),\n",
       " (12, 0.0009091329),\n",
       " (13, 0.0009091329),\n",
       " (14, 0.0009091329),\n",
       " (15, 0.0009091329),\n",
       " (16, 0.0009091329),\n",
       " (17, 0.0009091329),\n",
       " (18, 0.0009091329),\n",
       " (19, 0.0009091329)]"
      ]
     },
     "execution_count": 84,
     "metadata": {},
     "output_type": "execute_result"
    }
   ],
   "source": [
    "from operator import itemgetter\n",
    "sorted(lda.get_document_topics(by_address_corpus[0],minimum_probability=0,per_word_topics=False),key=itemgetter(1),reverse=True)"
   ]
  },
  {
   "cell_type": "code",
   "execution_count": 85,
   "metadata": {},
   "outputs": [
    {
     "data": {
      "image/png": "[encoded data removed]",
      "text/plain": [
       "<Figure size 432x288 with 1 Axes>"
      ]
     },
     "metadata": {
      "needs_background": "light"
     },
     "output_type": "display_data"
    }
   ],
   "source": [
    "draw_wordcloud(lda,18)"
   ]
  },
  {
   "cell_type": "code",
   "execution_count": 86,
   "metadata": {},
   "outputs": [
    {
     "name": "stdout",
     "output_type": "stream",
     "text": [
      "[('world', 0.1473915), ('years', 0.032365877), ('right', 0.023054674), ('things', 0.022888018), ('forward', 0.022873305)]\n",
      "[('years', 0.0011487544), ('action', 0.0011017757), ('power', 0.0011005924), ('control', 0.0010365624), ('protection', 0.001025894)]\n"
     ]
    }
   ],
   "source": [
    "print(lda.show_topic(12,topn=5))\n",
    "print(lda.show_topic(18,topn=5))"
   ]
  },
  {
   "cell_type": "markdown",
   "metadata": {
    "collapsed": true
   },
   "source": [
    "<h1>Similarity</h1>\n",
    "<h2>Given a corpus of documents, when a new document arrives, find the document that is the most similar</h2>"
   ]
  },
  {
   "cell_type": "code",
   "execution_count": null,
   "metadata": {},
   "outputs": [],
   "source": [
    "doc_list = [community_data,le_monde_data,amigos_data,heights_data]\n",
    "all_text = community_data.raw() + le_monde_data.raw() + amigos_data.raw() + heights_data.raw()\n",
    "\n",
    "documents = [doc.raw() for doc in doc_list]\n",
    "texts = [[word for word in document.lower().split()\n",
    "        if word not in STOPWORDS and word.isalnum()]\n",
    "        for document in documents]\n",
    "dictionary = corpora.Dictionary(texts)\n",
    "corpus = [dictionary.doc2bow(text) for text in texts]\n"
   ]
  },
  {
   "cell_type": "code",
   "execution_count": null,
   "metadata": {},
   "outputs": [],
   "source": [
    "from gensim.similarities.docsim import Similarity\n",
    "from gensim import corpora, models, similarities\n",
    "lsi = models.LsiModel(corpus, id2word=dictionary, num_topics=2)\n",
    "doc = \"\"\"\n",
    "Many, many years ago, I used to frequent this place for their amazing french toast. \n",
    "It's been a while since then and I've been hesitant to review a place I haven't been to in 7-8 years... \n",
    "but I passed by French Roast and, feeling nostalgic, decided to go back.\n",
    "\n",
    "It was a great decision.\n",
    "\n",
    "Their Bloody Mary is fantastic and includes bacon (which was perfectly cooked!!), olives, \n",
    "cucumber, and celery. The Irish coffee is also excellent, even without the cream which is what I ordered.\n",
    "\n",
    "Great food, great drinks, a great ambiance that is casual yet familiar like a tiny little French cafe. \n",
    "I highly recommend coming here, and will be back whenever I'm in the area next.\n",
    "\n",
    "Juan, the bartender, is great!! One of the best in any brunch spot in the city, by far.\n",
    "\"\"\"\n",
    "vec_bow = dictionary.doc2bow(doc.lower().split())\n",
    "vec_lsi = lsi[vec_bow]\n",
    "index = similarities.MatrixSimilarity(lsi[corpus])\n",
    "sims = index[vec_lsi]\n",
    "sims = sorted(enumerate(sims), key=lambda item: -item[1])\n"
   ]
  },
  {
   "cell_type": "code",
   "execution_count": null,
   "metadata": {},
   "outputs": [],
   "source": [
    "sims"
   ]
  },
  {
   "cell_type": "code",
   "execution_count": null,
   "metadata": {},
   "outputs": [],
   "source": [
    "doc=\"\"\"\n",
    "I went to Mexican Festival Restaurant for Cinco De Mayo because I had been there years \n",
    "prior and had such a good experience. This time wasn't so good. The food was just \n",
    "mediocre and it wasn't hot when it was brought to our table. They brought my friends food out \n",
    "10 minutes before everyone else and it took forever to get drinks. We let it slide because the place was \n",
    "packed with people and it was Cinco De Mayo. Also, the margaritas we had were slamming! Pure tequila. \n",
    "\n",
    "But then things took a turn for the worst. As I went to get something out of my purse which was on \n",
    "the back of my chair, I looked down and saw a huge water bug. I had to warn the lady next to me because \n",
    "it was so close to her chair. We called the waitress over and someone came with a broom and a dustpan and \n",
    "swept it away like it was an everyday experience. No one seemed phased.\n",
    "\n",
    "Even though our waitress was very nice, I do not think we will be returning to Mexican Festival again. \n",
    "It seems the restaurant is a shadow of its former self.\n",
    "\"\"\"\n",
    "vec_bow = dictionary.doc2bow(doc.lower().split())\n",
    "vec_lsi = lsi[vec_bow]\n",
    "index = similarities.MatrixSimilarity(lsi[corpus])\n",
    "sims = index[vec_lsi]\n",
    "sims = sorted(enumerate(sims), key=lambda item: -item[1])\n",
    "sims"
   ]
  },
  {
   "cell_type": "code",
   "execution_count": null,
   "metadata": {},
   "outputs": [],
   "source": []
  }
 ],
 "metadata": {
  "anaconda-cloud": {},
  "kernelspec": {
   "display_name": "Python 3",
   "language": "python",
   "name": "python3"
  },
  "language_info": {
   "codemirror_mode": {
    "name": "ipython",
    "version": 3
   },
   "file_extension": ".py",
   "mimetype": "text/x-python",
   "name": "python",
   "nbconvert_exporter": "python",
   "pygments_lexer": "ipython3",
   "version": "3.7.4"
  }
 },
 "nbformat": 4,
 "nbformat_minor": 1
}
